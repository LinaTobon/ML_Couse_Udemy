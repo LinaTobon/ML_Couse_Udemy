{
  "cells": [
    {
      "cell_type": "code",
      "execution_count": 6,
      "metadata": {
        "id": "Utf7xF9bvSzr"
      },
      "outputs": [],
      "source": [
        "# loading libraries\n",
        "import pandas as pd\n",
        "from IPython.display import display, Math, Latex"
      ]
    },
    {
      "attachments": {},
      "cell_type": "markdown",
      "metadata": {},
      "source": [
        "# Regresion logistica\n",
        "\n",
        "* Basada en la probabilidad condicionada modelo de clasificacion\n",
        "* variante de la regresion lineal, la variable de salida binaria o catégirica.\n",
        "* necesita una relacion lineal entre predictores y variables de salida con alguna trasformacion\n",
        "\n",
        "$y = \\frac{1}{1+e^{-(\\alpha +\\beta x)}}$"
      ]
    },
    {
      "cell_type": "code",
      "execution_count": 7,
      "metadata": {
        "id": "CBEF4mpJvSzy"
      },
      "outputs": [],
      "source": [
        "#cargar dataset\n",
        "purchase = pd.read_csv(\"Gender Purchase.csv\")"
      ]
    },
    {
      "cell_type": "code",
      "execution_count": 8,
      "metadata": {
        "colab": {
          "base_uri": "https://localhost:8080/",
          "height": 111
        },
        "id": "KTUaLM2qvSzz",
        "outputId": "65f4595c-ecfb-4cf6-c397-85e2f523eedd"
      },
      "outputs": [
        {
          "data": {
            "text/html": [
              "<div>\n",
              "<style scoped>\n",
              "    .dataframe tbody tr th:only-of-type {\n",
              "        vertical-align: middle;\n",
              "    }\n",
              "\n",
              "    .dataframe tbody tr th {\n",
              "        vertical-align: top;\n",
              "    }\n",
              "\n",
              "    .dataframe thead th {\n",
              "        text-align: right;\n",
              "    }\n",
              "</style>\n",
              "<table border=\"1\" class=\"dataframe\">\n",
              "  <thead>\n",
              "    <tr style=\"text-align: right;\">\n",
              "      <th></th>\n",
              "      <th>Gender</th>\n",
              "      <th>Purchase</th>\n",
              "    </tr>\n",
              "  </thead>\n",
              "  <tbody>\n",
              "    <tr>\n",
              "      <th>0</th>\n",
              "      <td>Female</td>\n",
              "      <td>Yes</td>\n",
              "    </tr>\n",
              "    <tr>\n",
              "      <th>1</th>\n",
              "      <td>Female</td>\n",
              "      <td>Yes</td>\n",
              "    </tr>\n",
              "  </tbody>\n",
              "</table>\n",
              "</div>"
            ],
            "text/plain": [
              "   Gender Purchase\n",
              "0  Female      Yes\n",
              "1  Female      Yes"
            ]
          },
          "execution_count": 8,
          "metadata": {},
          "output_type": "execute_result"
        }
      ],
      "source": [
        "purchase.head(2)"
      ]
    },
    {
      "cell_type": "code",
      "execution_count": 9,
      "metadata": {
        "id": "YwfM8YRrvSz1"
      },
      "outputs": [],
      "source": [
        "cross_tab = pd.crosstab(purchase['Gender'],purchase['Purchase'])"
      ]
    },
    {
      "cell_type": "code",
      "execution_count": 10,
      "metadata": {
        "colab": {
          "base_uri": "https://localhost:8080/",
          "height": 142
        },
        "id": "FTnvBvlYvSz1",
        "outputId": "5cb01569-e457-4c99-8613-2f34f5e82438"
      },
      "outputs": [
        {
          "data": {
            "text/html": [
              "<div>\n",
              "<style scoped>\n",
              "    .dataframe tbody tr th:only-of-type {\n",
              "        vertical-align: middle;\n",
              "    }\n",
              "\n",
              "    .dataframe tbody tr th {\n",
              "        vertical-align: top;\n",
              "    }\n",
              "\n",
              "    .dataframe thead th {\n",
              "        text-align: right;\n",
              "    }\n",
              "</style>\n",
              "<table border=\"1\" class=\"dataframe\">\n",
              "  <thead>\n",
              "    <tr style=\"text-align: right;\">\n",
              "      <th>Purchase</th>\n",
              "      <th>No</th>\n",
              "      <th>Yes</th>\n",
              "    </tr>\n",
              "    <tr>\n",
              "      <th>Gender</th>\n",
              "      <th></th>\n",
              "      <th></th>\n",
              "    </tr>\n",
              "  </thead>\n",
              "  <tbody>\n",
              "    <tr>\n",
              "      <th>Female</th>\n",
              "      <td>106</td>\n",
              "      <td>159</td>\n",
              "    </tr>\n",
              "    <tr>\n",
              "      <th>Male</th>\n",
              "      <td>125</td>\n",
              "      <td>121</td>\n",
              "    </tr>\n",
              "  </tbody>\n",
              "</table>\n",
              "</div>"
            ],
            "text/plain": [
              "Purchase   No  Yes\n",
              "Gender            \n",
              "Female    106  159\n",
              "Male      125  121"
            ]
          },
          "execution_count": 10,
          "metadata": {},
          "output_type": "execute_result"
        }
      ],
      "source": [
        "cross_tab"
      ]
    },
    {
      "cell_type": "code",
      "execution_count": 11,
      "metadata": {
        "colab": {
          "base_uri": "https://localhost:8080/",
          "height": 142
        },
        "id": "EGsMp0fUvSz1",
        "outputId": "81c2792f-1d5d-49ec-bb31-e4eaf96f0dc3"
      },
      "outputs": [
        {
          "data": {
            "text/html": [
              "<div>\n",
              "<style scoped>\n",
              "    .dataframe tbody tr th:only-of-type {\n",
              "        vertical-align: middle;\n",
              "    }\n",
              "\n",
              "    .dataframe tbody tr th {\n",
              "        vertical-align: top;\n",
              "    }\n",
              "\n",
              "    .dataframe thead th {\n",
              "        text-align: right;\n",
              "    }\n",
              "</style>\n",
              "<table border=\"1\" class=\"dataframe\">\n",
              "  <thead>\n",
              "    <tr style=\"text-align: right;\">\n",
              "      <th>Purchase</th>\n",
              "      <th>No</th>\n",
              "      <th>Yes</th>\n",
              "    </tr>\n",
              "    <tr>\n",
              "      <th>Gender</th>\n",
              "      <th></th>\n",
              "      <th></th>\n",
              "    </tr>\n",
              "  </thead>\n",
              "  <tbody>\n",
              "    <tr>\n",
              "      <th>Female</th>\n",
              "      <td>0.40000</td>\n",
              "      <td>0.60000</td>\n",
              "    </tr>\n",
              "    <tr>\n",
              "      <th>Male</th>\n",
              "      <td>0.50813</td>\n",
              "      <td>0.49187</td>\n",
              "    </tr>\n",
              "  </tbody>\n",
              "</table>\n",
              "</div>"
            ],
            "text/plain": [
              "Purchase       No      Yes\n",
              "Gender                    \n",
              "Female    0.40000  0.60000\n",
              "Male      0.50813  0.49187"
            ]
          },
          "execution_count": 11,
          "metadata": {},
          "output_type": "execute_result"
        }
      ],
      "source": [
        "cross_tab.astype('float').div(cross_tab.sum(axis = 1),axis=0)"
      ]
    },
    {
      "attachments": {},
      "cell_type": "markdown",
      "metadata": {
        "id": "U3mCYu-bvSz2"
      },
      "source": [
        "#### ¿cuál es la probabilidad de que un cliente compre un producto dado que es un hombre?"
      ]
    },
    {
      "cell_type": "code",
      "execution_count": 12,
      "metadata": {
        "colab": {
          "base_uri": "https://localhost:8080/",
          "height": 38
        },
        "id": "UrHOSTGcvSz3",
        "outputId": "74d81cbe-6dd0-470a-9a75-7f281cbf241e"
      },
      "outputs": [
        {
          "data": {
            "text/latex": [
              "$\\displaystyle P(Compre \\ y\\ es \\ hombre | es \\ hombre) = \\frac {121}{246}$"
            ],
            "text/plain": [
              "<IPython.core.display.Math object>"
            ]
          },
          "metadata": {},
          "output_type": "display_data"
        }
      ],
      "source": [
        "display(Math(r'P(Compre \\ y\\ es \\ hombre | es \\ hombre) = \\frac {121}{246}'))"
      ]
    },
    {
      "cell_type": "code",
      "execution_count": 13,
      "metadata": {
        "colab": {
          "base_uri": "https://localhost:8080/"
        },
        "id": "IaeUGCBovSz3",
        "outputId": "2b9e912b-0a7b-4907-8ab7-dca69388d4a9"
      },
      "outputs": [
        {
          "data": {
            "text/plain": [
              "0.491869918699187"
            ]
          },
          "execution_count": 13,
          "metadata": {},
          "output_type": "execute_result"
        }
      ],
      "source": [
        "# Teniendo en cuenta los resultados de la tabla \n",
        "# de contingencia\n",
        "(121/511)/(246/511)"
      ]
    },
    {
      "attachments": {},
      "cell_type": "markdown",
      "metadata": {},
      "source": [
        "#### cual es la probabilidad de que un cliente sea mujer dado que compró"
      ]
    },
    {
      "cell_type": "code",
      "execution_count": 15,
      "metadata": {
        "colab": {
          "base_uri": "https://localhost:8080/",
          "height": 38
        },
        "id": "3XxxI6RKvSz4",
        "outputId": "489e6bc6-7e31-4c77-f21f-04d6c5c1ca9f"
      },
      "outputs": [
        {
          "data": {
            "text/latex": [
              "$\\displaystyle P(es \\ mujer \\ y\\ compra | compra) = \\frac {159}{159 + 121}$"
            ],
            "text/plain": [
              "<IPython.core.display.Math object>"
            ]
          },
          "metadata": {},
          "output_type": "display_data"
        }
      ],
      "source": [
        "display(Math(r'P(es \\ mujer \\ y\\ compra | compra) = \\frac {159}{159 + 121}'))"
      ]
    },
    {
      "attachments": {},
      "cell_type": "markdown",
      "metadata": {},
      "source": [
        "#### cual es la probabilidad de que un cliente sea hombre dado que compró"
      ]
    },
    {
      "cell_type": "code",
      "execution_count": 16,
      "metadata": {},
      "outputs": [
        {
          "data": {
            "text/latex": [
              "$\\displaystyle P(es \\ hombre | compra) = \\frac {121}{159 + 121}$"
            ],
            "text/plain": [
              "<IPython.core.display.Math object>"
            ]
          },
          "metadata": {},
          "output_type": "display_data"
        }
      ],
      "source": [
        "display(Math(r'P(es \\ hombre | compra) = \\frac {121}{159 + 121}'))"
      ]
    },
    {
      "cell_type": "code",
      "execution_count": 17,
      "metadata": {},
      "outputs": [
        {
          "data": {
            "text/latex": [
              "$\\displaystyle P(no \\ compra | es \\ hombre) = \\frac {125}{125 + 121}$"
            ],
            "text/plain": [
              "<IPython.core.display.Math object>"
            ]
          },
          "metadata": {},
          "output_type": "display_data"
        }
      ],
      "source": [
        "display(Math(r'P(no \\ compra | es \\ hombre) = \\frac {125}{125 + 121}'))"
      ]
    },
    {
      "cell_type": "code",
      "execution_count": 18,
      "metadata": {},
      "outputs": [
        {
          "data": {
            "text/latex": [
              "$\\displaystyle P(no \\ compra | es \\ mujer) = \\frac {106}{106 + 159}$"
            ],
            "text/plain": [
              "<IPython.core.display.Math object>"
            ]
          },
          "metadata": {},
          "output_type": "display_data"
        }
      ],
      "source": [
        "display(Math(r'P(no \\ compra | es \\ mujer) = \\frac {106}{106 + 159}'))"
      ]
    },
    {
      "attachments": {},
      "cell_type": "markdown",
      "metadata": {},
      "source": [
        "## Ratio de probabilidades\n",
        "cocientes entre casos de exito sobre los de fracaso en el suceso estudiado y para cada grupo, va desde cero hasta infinito"
      ]
    },
    {
      "cell_type": "code",
      "execution_count": 19,
      "metadata": {},
      "outputs": [
        {
          "data": {
            "text/latex": [
              "$\\displaystyle P_f = Probabilidad\\ de\\ compras\\ hechas\\ por\\ mujeres$"
            ],
            "text/plain": [
              "<IPython.core.display.Math object>"
            ]
          },
          "metadata": {},
          "output_type": "display_data"
        },
        {
          "data": {
            "text/latex": [
              "$\\displaystyle Odds_{Purchase\\ Female} = \\frac{P_f}{1-P_f}$"
            ],
            "text/plain": [
              "<IPython.core.display.Math object>"
            ]
          },
          "metadata": {},
          "output_type": "display_data"
        }
      ],
      "source": [
        "display(Math(r'P_f = Probabilidad\\ de\\ compras\\ hechas\\ por\\ mujeres'))\n",
        "display(Math(r'Odds_{Purchase\\ Female} = \\frac{P_f}{1-P_f}'))"
      ]
    },
    {
      "cell_type": "code",
      "execution_count": 20,
      "metadata": {},
      "outputs": [
        {
          "data": {
            "text/latex": [
              "$\\displaystyle P_m = Probabilidad\\ de\\ compras\\ hechas\\ por\\ hombres$"
            ],
            "text/plain": [
              "<IPython.core.display.Math object>"
            ]
          },
          "metadata": {},
          "output_type": "display_data"
        },
        {
          "data": {
            "text/latex": [
              "$\\displaystyle Odds_{Purchase\\ male} = \\frac{P_m}{1-P_m}$"
            ],
            "text/plain": [
              "<IPython.core.display.Math object>"
            ]
          },
          "metadata": {},
          "output_type": "display_data"
        }
      ],
      "source": [
        "display(Math(r'P_m = Probabilidad\\ de\\ compras\\ hechas\\ por\\ hombres'))\n",
        "display(Math(r'Odds_{Purchase\\ male} = \\frac{P_m}{1-P_m}'))"
      ]
    },
    {
      "cell_type": "markdown",
      "metadata": {
        "id": "AbXV25iTvSz5"
      },
      "source": [
        "### Implementación método maxima verosimilitud para la regresión logística"
      ]
    },
    {
      "cell_type": "code",
      "execution_count": null,
      "metadata": {
        "id": "v_vUMADvvSz5"
      },
      "outputs": [],
      "source": [
        "from IPython.display import display, Math, Latex"
      ]
    },
    {
      "cell_type": "markdown",
      "metadata": {
        "id": "TLyWcaSuvSz5"
      },
      "source": [
        "#### Función de entorno"
      ]
    },
    {
      "cell_type": "code",
      "execution_count": null,
      "metadata": {
        "colab": {
          "base_uri": "https://localhost:8080/",
          "height": 38
        },
        "id": "_TeBfPVpvSz6",
        "outputId": "6c03ca4a-b7a8-44b8-f114-8c55356815d5"
      },
      "outputs": [
        {
          "data": {
            "text/latex": [
              "$$L(\\beta) = \\prod_{i=1}^n P_i^{y_i}*(1-P_i)^{y_i}$$"
            ],
            "text/plain": [
              "<IPython.core.display.Math object>"
            ]
          },
          "metadata": {},
          "output_type": "display_data"
        }
      ],
      "source": [
        "display(Math(r'L(\\beta) = \\prod_{i=1}^n P_i^{y_i}*(1-P_i)^{y_i}'))"
      ]
    },
    {
      "cell_type": "code",
      "execution_count": null,
      "metadata": {
        "id": "6KEeZz1bvSz6"
      },
      "outputs": [],
      "source": [
        "def likelihood(y,pi):\n",
        "    import numpy as np\n",
        "    total_sum = 1\n",
        "    sum_in = list(range(1, len(y)+1))\n",
        "    for i in range(len(y)):\n",
        "        sum_in[i] = np.where(y[i]==1,pi[i],1-pi[i])\n",
        "        total_sum = total_sum * sum_in[i]\n",
        "    return total_sum\n",
        "    "
      ]
    },
    {
      "cell_type": "markdown",
      "metadata": {
        "id": "mc3YJfB7vSz6"
      },
      "source": [
        "#### Calcular probabilidades para cada observación"
      ]
    },
    {
      "cell_type": "code",
      "execution_count": null,
      "metadata": {
        "colab": {
          "base_uri": "https://localhost:8080/",
          "height": 42
        },
        "id": "jx5vFgmTvSz6",
        "outputId": "71ac69f2-ad88-4902-d40d-ce1267342d95"
      },
      "outputs": [
        {
          "data": {
            "text/latex": [
              "$$P_i = P(x_i)=\\frac{1}{1+e^{-\\sum_{i=1}^n beta_j\\cdot x_ij}}$$"
            ],
            "text/plain": [
              "<IPython.core.display.Math object>"
            ]
          },
          "metadata": {},
          "output_type": "display_data"
        }
      ],
      "source": [
        "display(Math(r'P_i = P(x_i)=\\frac{1}{1+e^{-\\sum_{i=1}^n beta_j\\cdot x_ij}}'))"
      ]
    },
    {
      "cell_type": "code",
      "execution_count": null,
      "metadata": {
        "id": "nOcKtSYJvSz7"
      },
      "outputs": [],
      "source": [
        "def logitprobs(X, beta):\n",
        "    import numpy as np\n",
        "    \n",
        "    n_rows = np.shape(X)[0]\n",
        "    n_cols = np.shape(X)[1]\n",
        "    pi =list(range(1,n_rows+1))\n",
        "    expon = list(range(1,n_rows+1))\n",
        "    for i in range(n_rows):\n",
        "        expon[i] = 0\n",
        "        for j in range(n_cols):\n",
        "            ex = beta[j]*X[i][j]\n",
        "            expon[i] = ex + expon[i]\n",
        "        with np.errstate(divide='ignore', invalid='ignore'):\n",
        "            pi[i]= 1/(1+np.exp(-expon[i]))\n",
        "    return pi"
      ]
    },
    {
      "cell_type": "markdown",
      "metadata": {
        "id": "hvvVbjXRvSz7"
      },
      "source": [
        "#### Calcular la matriz diagonal"
      ]
    },
    {
      "cell_type": "code",
      "execution_count": null,
      "metadata": {
        "colab": {
          "base_uri": "https://localhost:8080/",
          "height": 38
        },
        "id": "X8J-zN4-vSz7",
        "outputId": "383efa8c-e5ab-4b19-f098-16902a09ec26"
      },
      "outputs": [
        {
          "data": {
            "text/latex": [
              "$$W= diag(P_i \\cdot (1-p_i))_{i=1}^n$$"
            ],
            "text/plain": [
              "<IPython.core.display.Math object>"
            ]
          },
          "metadata": {},
          "output_type": "display_data"
        }
      ],
      "source": [
        "display(Math(r'W= diag(P_i \\cdot (1-p_i))_{i=1}^n'))"
      ]
    },
    {
      "cell_type": "code",
      "execution_count": null,
      "metadata": {
        "id": "NrPXyJUOvSz7"
      },
      "outputs": [],
      "source": [
        "def findw(pi):\n",
        "    import numpy as np\n",
        "    n = len(pi)\n",
        "    W = np.zeros(n*n).reshape(n,n)\n",
        "    for i in range(n):\n",
        "        print(i)\n",
        "        W[i][i] = pi[i]*(1-pi[i])\n",
        "        W[i][i].astype(float)\n",
        "    return W"
      ]
    },
    {
      "cell_type": "markdown",
      "metadata": {
        "id": "MYMdE_zWvSz8"
      },
      "source": [
        "#### Obtener la solución de la función logistica"
      ]
    },
    {
      "cell_type": "code",
      "execution_count": null,
      "metadata": {
        "colab": {
          "base_uri": "https://localhost:8080/",
          "height": 85
        },
        "id": "BzqZ3_1gvSz8",
        "outputId": "1b75e266-bf75-495d-96fd-aa52baed1248"
      },
      "outputs": [
        {
          "data": {
            "text/latex": [
              "$$\\beta_{n+1} = \\beta_n - \\frac{f(x_n)}{f'(x_n)}$$"
            ],
            "text/plain": [
              "<IPython.core.display.Math object>"
            ]
          },
          "metadata": {},
          "output_type": "display_data"
        },
        {
          "data": {
            "text/latex": [
              "$$f(x_n) = X(Y - P)$$"
            ],
            "text/plain": [
              "<IPython.core.display.Math object>"
            ]
          },
          "metadata": {},
          "output_type": "display_data"
        },
        {
          "data": {
            "text/latex": [
              "$$f'(x_n) = XWX^T$$"
            ],
            "text/plain": [
              "<IPython.core.display.Math object>"
            ]
          },
          "metadata": {},
          "output_type": "display_data"
        }
      ],
      "source": [
        "display(Math(r\"\\beta_{n+1} = \\beta_n - \\frac{f(x_n)}{f'(x_n)}\"))\n",
        "display(Math(r\"f(x_n) = X(Y - P)\"))\n",
        "display(Math(r\"f'(x_n) = XWX^T\"))"
      ]
    },
    {
      "cell_type": "code",
      "execution_count": null,
      "metadata": {
        "id": "3uD1qAbZvSz8"
      },
      "outputs": [],
      "source": [
        "def logistics(X, Y, limit):\n",
        "    import numpy as np\n",
        "    from numpy import linalg\n",
        "    nrow = np.shape(X)[0]\n",
        "    bias = np.ones(nrow).reshape(nrow,1)\n",
        "    X_new = np.append(X, bias, axis = 1)\n",
        "    ncol = np.shape(X_new)[1]\n",
        "    beta = np.zeros(ncol).reshape(ncol,1)\n",
        "    root_dif = np.array(range(1,ncol+1)).reshape(ncol,1)\n",
        "    iter_i = 10000\n",
        "    while(iter_i>limit):\n",
        "        print(\"Iter:i\"+str(iter_i) + \", limit:\" + str(limit))\n",
        "        pi = logitprobs(X_new, beta)\n",
        "        print(\"Pi:\"+str(pi))\n",
        "        W = findw(pi)\n",
        "        print(\"W:\"+str(W))\n",
        "        num = (np.transpose(np.matrix(X_new))*np.matrix(Y - np.transpose(pi)).transpose())\n",
        "        den = (np.matrix(np.transpose(X_new))*np.matrix(W)*np.matrix(X_new))\n",
        "        root_dif = np.array(linalg.inv(den)*num)\n",
        "        beta = beta + root_dif\n",
        "        print(\"Beta: \"+str(beta))\n",
        "        iter_i = np.sum(root_dif*root_dif)\n",
        "        ll = likelihood(Y, pi)\n",
        "    return beta"
      ]
    },
    {
      "cell_type": "markdown",
      "metadata": {
        "id": "MF2oIAM2eDiz"
      },
      "source": [
        "Comprobación experimental"
      ]
    },
    {
      "cell_type": "code",
      "execution_count": null,
      "metadata": {
        "id": "hWSrcEi7eSDu"
      },
      "outputs": [],
      "source": [
        "import numpy as np"
      ]
    },
    {
      "cell_type": "code",
      "execution_count": null,
      "metadata": {
        "id": "K1F0sUfovSz8"
      },
      "outputs": [],
      "source": [
        "X = np.array(range(10)).reshape(10,1)"
      ]
    },
    {
      "cell_type": "code",
      "execution_count": null,
      "metadata": {
        "id": "Hy6Ecx20eUrj"
      },
      "outputs": [],
      "source": [
        "y = [0,0,0,0,1,0,1,0,1,1]"
      ]
    },
    {
      "cell_type": "code",
      "execution_count": null,
      "metadata": {
        "id": "9hU7UD1aeupy"
      },
      "outputs": [],
      "source": [
        "bias = np.ones(10).reshape(10,1)\n",
        "X_new = np.append(X,bias,axis=1)"
      ]
    },
    {
      "cell_type": "code",
      "execution_count": null,
      "metadata": {
        "colab": {
          "base_uri": "https://localhost:8080/"
        },
        "id": "HjTs_Pu-U97e",
        "outputId": "b849a44d-5523-4207-a1ea-909ca9e6d6c9"
      },
      "outputs": [
        {
          "data": {
            "text/plain": [
              "array([[0., 1.],\n",
              "       [1., 1.],\n",
              "       [2., 1.],\n",
              "       [3., 1.],\n",
              "       [4., 1.],\n",
              "       [5., 1.],\n",
              "       [6., 1.],\n",
              "       [7., 1.],\n",
              "       [8., 1.],\n",
              "       [9., 1.]])"
            ]
          },
          "execution_count": 94,
          "metadata": {},
          "output_type": "execute_result"
        }
      ],
      "source": [
        "X_new"
      ]
    },
    {
      "cell_type": "code",
      "execution_count": null,
      "metadata": {
        "colab": {
          "base_uri": "https://localhost:8080/"
        },
        "id": "q7_Ztq37fCLw",
        "outputId": "230e5461-1960-4960-e77a-1c289fdcd3aa"
      },
      "outputs": [
        {
          "name": "stdout",
          "output_type": "stream",
          "text": [
            "Iter:i10000, limit:1e-05\n",
            "Pi:[array([0.5]), array([0.5]), array([0.5]), array([0.5]), array([0.5]), array([0.5]), array([0.5]), array([0.5]), array([0.5]), array([0.5])]\n",
            "0\n",
            "1\n",
            "2\n",
            "3\n",
            "4\n",
            "5\n",
            "6\n",
            "7\n",
            "8\n",
            "9\n",
            "W:[[0.25 0.   0.   0.   0.   0.   0.   0.   0.   0.  ]\n",
            " [0.   0.25 0.   0.   0.   0.   0.   0.   0.   0.  ]\n",
            " [0.   0.   0.25 0.   0.   0.   0.   0.   0.   0.  ]\n",
            " [0.   0.   0.   0.25 0.   0.   0.   0.   0.   0.  ]\n",
            " [0.   0.   0.   0.   0.25 0.   0.   0.   0.   0.  ]\n",
            " [0.   0.   0.   0.   0.   0.25 0.   0.   0.   0.  ]\n",
            " [0.   0.   0.   0.   0.   0.   0.25 0.   0.   0.  ]\n",
            " [0.   0.   0.   0.   0.   0.   0.   0.25 0.   0.  ]\n",
            " [0.   0.   0.   0.   0.   0.   0.   0.   0.25 0.  ]\n",
            " [0.   0.   0.   0.   0.   0.   0.   0.   0.   0.25]]\n",
            "Beta: [[ 0.43636364]\n",
            " [-2.36363636]]\n",
            "[0.5][0.5][0.5]\n",
            "totsum[0.5]\n",
            "[0.5][0.5][0.5]\n",
            "totsum[0.25]\n",
            "[0.5][0.5][0.5]\n",
            "totsum[0.125]\n",
            "[0.5][0.5][0.5]\n",
            "totsum[0.0625]\n",
            "[0.5][0.5][0.5]\n",
            "totsum[0.03125]\n",
            "[0.5][0.5][0.5]\n",
            "totsum[0.015625]\n",
            "[0.5][0.5][0.5]\n",
            "totsum[0.0078125]\n",
            "[0.5][0.5][0.5]\n",
            "totsum[0.00390625]\n",
            "[0.5][0.5][0.5]\n",
            "totsum[0.00195312]\n",
            "[0.5][0.5][0.5]\n",
            "totsum[0.00097656]\n",
            "Iter:i5.777190082644626, limit:1e-05\n",
            "Pi:[array([0.08598797]), array([0.12705276]), array([0.18378532]), array([0.2583532]), array([0.35019508]), array([0.45467026]), array([0.56329497]), array([0.66616913]), array([0.75533524]), array([0.82687453])]\n",
            "0\n",
            "1\n",
            "2\n",
            "3\n",
            "4\n",
            "5\n",
            "6\n",
            "7\n",
            "8\n",
            "9\n",
            "W:[[0.07859404 0.         0.         0.         0.         0.\n",
            "  0.         0.         0.         0.        ]\n",
            " [0.         0.11091035 0.         0.         0.         0.\n",
            "  0.         0.         0.         0.        ]\n",
            " [0.         0.         0.15000827 0.         0.         0.\n",
            "  0.         0.         0.         0.        ]\n",
            " [0.         0.         0.         0.19160683 0.         0.\n",
            "  0.         0.         0.         0.        ]\n",
            " [0.         0.         0.         0.         0.22755849 0.\n",
            "  0.         0.         0.         0.        ]\n",
            " [0.         0.         0.         0.         0.         0.24794521\n",
            "  0.         0.         0.         0.        ]\n",
            " [0.         0.         0.         0.         0.         0.\n",
            "  0.24599375 0.         0.         0.        ]\n",
            " [0.         0.         0.         0.         0.         0.\n",
            "  0.         0.22238782 0.         0.        ]\n",
            " [0.         0.         0.         0.         0.         0.\n",
            "  0.         0.         0.18480392 0.        ]\n",
            " [0.         0.         0.         0.         0.         0.\n",
            "  0.         0.         0.         0.14315304]]\n",
            "Beta: [[ 0.60426056]\n",
            " [-3.34641372]]\n",
            "[0.08598797][0.91401203][0.91401203]\n",
            "totsum[0.91401203]\n",
            "[0.12705276][0.87294724][0.87294724]\n",
            "totsum[0.79788429]\n",
            "[0.18378532][0.81621468][0.81621468]\n",
            "totsum[0.65124487]\n",
            "[0.2583532][0.7416468][0.7416468]\n",
            "totsum[0.48299367]\n",
            "[0.35019508][0.64980492][0.35019508]\n",
            "totsum[0.16914201]\n",
            "[0.45467026][0.54532974][0.54532974]\n",
            "totsum[0.09223817]\n",
            "[0.56329497][0.43670503][0.56329497]\n",
            "totsum[0.0519573]\n",
            "[0.66616913][0.33383087][0.33383087]\n",
            "totsum[0.01734495]\n",
            "[0.75533524][0.24466476][0.75533524]\n",
            "totsum[0.01310125]\n",
            "[0.82687453][0.17312547][0.82687453]\n",
            "totsum[0.01083309]\n",
            "Iter:i0.9940407075349109, limit:1e-05\n",
            "Pi:[array([0.0340128]), array([0.06053134]), array([0.10546805]), array([0.1774629]), array([0.28305225]), array([0.41943069]), array([0.56933774]), array([0.7075284]), array([0.81572841]), array([0.89011647])]\n",
            "0\n",
            "1\n",
            "2\n",
            "3\n",
            "4\n",
            "5\n",
            "6\n",
            "7\n",
            "8\n",
            "9\n",
            "W:[[0.03285593 0.         0.         0.         0.         0.\n",
            "  0.         0.         0.         0.        ]\n",
            " [0.         0.0568673  0.         0.         0.         0.\n",
            "  0.         0.         0.         0.        ]\n",
            " [0.         0.         0.09434454 0.         0.         0.\n",
            "  0.         0.         0.         0.        ]\n",
            " [0.         0.         0.         0.14596982 0.         0.\n",
            "  0.         0.         0.         0.        ]\n",
            " [0.         0.         0.         0.         0.20293367 0.\n",
            "  0.         0.         0.         0.        ]\n",
            " [0.         0.         0.         0.         0.         0.24350859\n",
            "  0.         0.         0.         0.        ]\n",
            " [0.         0.         0.         0.         0.         0.\n",
            "  0.24519228 0.         0.         0.        ]\n",
            " [0.         0.         0.         0.         0.         0.\n",
            "  0.         0.20693196 0.         0.        ]\n",
            " [0.         0.         0.         0.         0.         0.\n",
            "  0.         0.         0.15031557 0.        ]\n",
            " [0.         0.         0.         0.         0.         0.\n",
            "  0.         0.         0.         0.09780914]]\n",
            "Beta: [[ 0.65761412]\n",
            " [-3.66759924]]\n",
            "[0.0340128][0.9659872][0.9659872]\n",
            "totsum[0.9659872]\n",
            "[0.06053134][0.93946866][0.93946866]\n",
            "totsum[0.9075147]\n",
            "[0.10546805][0.89453195][0.89453195]\n",
            "totsum[0.8118009]\n",
            "[0.1774629][0.8225371][0.8225371]\n",
            "totsum[0.66773636]\n",
            "[0.28305225][0.71694775][0.28305225]\n",
            "totsum[0.18900428]\n",
            "[0.41943069][0.58056931][0.58056931]\n",
            "totsum[0.10973008]\n",
            "[0.56933774][0.43066226][0.56933774]\n",
            "totsum[0.06247348]\n",
            "[0.7075284][0.2924716][0.2924716]\n",
            "totsum[0.01827172]\n",
            "[0.81572841][0.18427159][0.81572841]\n",
            "totsum[0.01490476]\n",
            "[0.89011647][0.10988353][0.89011647]\n",
            "totsum[0.01326697]\n",
            "Iter:i0.10600674406802027, limit:1e-05\n",
            "Pi:[array([0.02490177]), array([0.04697681]), array([0.0868775]), array([0.15515129]), array([0.26170168]), array([0.40624059]), array([0.56907679]), array([0.71823018]), array([0.83108181]), array([0.90473054])]\n",
            "0\n",
            "1\n",
            "2\n",
            "3\n",
            "4\n",
            "5\n",
            "6\n",
            "7\n",
            "8\n",
            "9\n",
            "W:[[0.02428167 0.         0.         0.         0.         0.\n",
            "  0.         0.         0.         0.        ]\n",
            " [0.         0.04476999 0.         0.         0.         0.\n",
            "  0.         0.         0.         0.        ]\n",
            " [0.         0.         0.0793298  0.         0.         0.\n",
            "  0.         0.         0.         0.        ]\n",
            " [0.         0.         0.         0.13107937 0.         0.\n",
            "  0.         0.         0.         0.        ]\n",
            " [0.         0.         0.         0.         0.19321391 0.\n",
            "  0.         0.         0.         0.        ]\n",
            " [0.         0.         0.         0.         0.         0.24120917\n",
            "  0.         0.         0.         0.        ]\n",
            " [0.         0.         0.         0.         0.         0.\n",
            "  0.2452284  0.         0.         0.        ]\n",
            " [0.         0.         0.         0.         0.         0.\n",
            "  0.         0.20237559 0.         0.        ]\n",
            " [0.         0.         0.         0.         0.         0.\n",
            "  0.         0.         0.14038483 0.        ]\n",
            " [0.         0.         0.         0.         0.         0.\n",
            "  0.         0.         0.         0.08619319]]\n",
            "Beta: [[ 0.66217766]\n",
            " [-3.6953843 ]]\n",
            "[0.02490177][0.97509823][0.97509823]\n",
            "totsum[0.97509823]\n",
            "[0.04697681][0.95302319][0.95302319]\n",
            "totsum[0.92929122]\n",
            "[0.0868775][0.9131225][0.9131225]\n",
            "totsum[0.84855673]\n",
            "[0.15515129][0.84484871][0.84484871]\n",
            "totsum[0.71690206]\n",
            "[0.26170168][0.73829832][0.26170168]\n",
            "totsum[0.18761447]\n",
            "[0.40624059][0.59375941][0.59375941]\n",
            "totsum[0.11139786]\n",
            "[0.56907679][0.43092321][0.56907679]\n",
            "totsum[0.06339394]\n",
            "[0.71823018][0.28176982][0.28176982]\n",
            "totsum[0.0178625]\n",
            "[0.83108181][0.16891819][0.83108181]\n",
            "totsum[0.0148452]\n",
            "[0.90473054][0.09526946][0.90473054]\n",
            "totsum[0.0134309]\n",
            "Iter:i0.0007928351246008561, limit:1e-05\n",
            "Pi:[array([0.02423594]), array([0.04594805]), array([0.08540873]), array([0.15331276]), array([0.25986436]), array([0.40504298]), array([0.56897776]), array([0.71907124]), array([0.83230289]), array([0.90586963])]\n",
            "0\n",
            "1\n",
            "2\n",
            "3\n",
            "4\n",
            "5\n",
            "6\n",
            "7\n",
            "8\n",
            "9\n",
            "W:[[0.02364856 0.         0.         0.         0.         0.\n",
            "  0.         0.         0.         0.        ]\n",
            " [0.         0.04383683 0.         0.         0.         0.\n",
            "  0.         0.         0.         0.        ]\n",
            " [0.         0.         0.07811408 0.         0.         0.\n",
            "  0.         0.         0.         0.        ]\n",
            " [0.         0.         0.         0.12980796 0.         0.\n",
            "  0.         0.         0.         0.        ]\n",
            " [0.         0.         0.         0.         0.19233487 0.\n",
            "  0.         0.         0.         0.        ]\n",
            " [0.         0.         0.         0.         0.         0.24098316\n",
            "  0.         0.         0.         0.        ]\n",
            " [0.         0.         0.         0.         0.         0.\n",
            "  0.24524207 0.         0.         0.        ]\n",
            " [0.         0.         0.         0.         0.         0.\n",
            "  0.         0.20200779 0.         0.        ]\n",
            " [0.         0.         0.         0.         0.         0.\n",
            "  0.         0.         0.13957479 0.        ]\n",
            " [0.         0.         0.         0.         0.         0.\n",
            "  0.         0.         0.         0.08526985]]\n",
            "Beta: [[ 0.66220827]\n",
            " [-3.69557172]]\n",
            "[0.02423594][0.97576406][0.97576406]\n",
            "totsum[0.97576406]\n",
            "[0.04594805][0.95405195][0.95405195]\n",
            "totsum[0.9309296]\n",
            "[0.08540873][0.91459127][0.91459127]\n",
            "totsum[0.85142009]\n",
            "[0.15331276][0.84668724][0.84668724]\n",
            "totsum[0.72088652]\n",
            "[0.25986436][0.74013564][0.25986436]\n",
            "totsum[0.18733272]\n",
            "[0.40504298][0.59495702][0.59495702]\n",
            "totsum[0.11145492]\n",
            "[0.56897776][0.43102224][0.56897776]\n",
            "totsum[0.06341537]\n",
            "[0.71907124][0.28092876][0.28092876]\n",
            "totsum[0.0178152]\n",
            "[0.83230289][0.16769711][0.83230289]\n",
            "totsum[0.01482764]\n",
            "[0.90586963][0.09413037][0.90586963]\n",
            "totsum[0.01343191]\n"
          ]
        },
        {
          "data": {
            "text/plain": [
              "array([[ 0.66220827],\n",
              "       [-3.69557172]])"
            ]
          },
          "execution_count": 93,
          "metadata": {},
          "output_type": "execute_result"
        }
      ],
      "source": [
        "logistics(X,y,0.00001)"
      ]
    },
    {
      "cell_type": "code",
      "execution_count": null,
      "metadata": {
        "id": "Rhzg7dhFVa3I"
      },
      "outputs": [],
      "source": [
        "import statsmodels.api as sm"
      ]
    },
    {
      "cell_type": "code",
      "execution_count": null,
      "metadata": {
        "colab": {
          "base_uri": "https://localhost:8080/"
        },
        "id": "vsCSxuH3WvRV",
        "outputId": "2f5d72a3-39f5-437a-d4e9-2383ab0b2b53"
      },
      "outputs": [
        {
          "name": "stdout",
          "output_type": "stream",
          "text": [
            "Optimization terminated successfully.\n",
            "         Current function value: 0.431012\n",
            "         Iterations 6\n"
          ]
        }
      ],
      "source": [
        "logit_model = sm.Logit(y,X_new)\n",
        "resultados = logit_model.fit()"
      ]
    },
    {
      "cell_type": "code",
      "execution_count": null,
      "metadata": {
        "colab": {
          "base_uri": "https://localhost:8080/",
          "height": 252
        },
        "id": "VEqXkEN7XKgb",
        "outputId": "e5536f6a-de9c-46b3-c617-a0b0813740d5"
      },
      "outputs": [
        {
          "data": {
            "text/html": [
              "<table class=\"simpletable\">\n",
              "<tr>\n",
              "        <td>Model:</td>              <td>Logit</td>      <td>Pseudo R-squared:</td>   <td>0.360</td> \n",
              "</tr>\n",
              "<tr>\n",
              "  <td>Dependent Variable:</td>         <td>y</td>              <td>AIC:</td>         <td>12.6202</td>\n",
              "</tr>\n",
              "<tr>\n",
              "         <td>Date:</td>        <td>2021-11-08 16:23</td>       <td>BIC:</td>         <td>13.2254</td>\n",
              "</tr>\n",
              "<tr>\n",
              "   <td>No. Observations:</td>         <td>10</td>         <td>Log-Likelihood:</td>   <td>-4.3101</td>\n",
              "</tr>\n",
              "<tr>\n",
              "       <td>Df Model:</td>              <td>1</td>            <td>LL-Null:</td>       <td>-6.7301</td>\n",
              "</tr>\n",
              "<tr>\n",
              "     <td>Df Residuals:</td>            <td>8</td>          <td>LLR p-value:</td>    <td>0.027807</td>\n",
              "</tr>\n",
              "<tr>\n",
              "      <td>Converged:</td>           <td>1.0000</td>           <td>Scale:</td>        <td>1.0000</td> \n",
              "</tr>\n",
              "<tr>\n",
              "    <td>No. Iterations:</td>        <td>6.0000</td>              <td></td>              <td></td>    \n",
              "</tr>\n",
              "</table>\n",
              "<table class=\"simpletable\">\n",
              "<tr>\n",
              "    <td></td>     <th>Coef.</th>  <th>Std.Err.</th>    <th>z</th>     <th>P>|z|</th> <th>[0.025</th>  <th>0.975]</th>\n",
              "</tr>\n",
              "<tr>\n",
              "  <th>x1</th>    <td>0.6622</td>   <td>0.4001</td>  <td>1.6551</td>  <td>0.0979</td> <td>-0.1220</td> <td>1.4464</td>\n",
              "</tr>\n",
              "<tr>\n",
              "  <th>const</th> <td>-3.6956</td>  <td>2.2889</td>  <td>-1.6145</td> <td>0.1064</td> <td>-8.1818</td> <td>0.7906</td>\n",
              "</tr>\n",
              "</table>"
            ],
            "text/plain": [
              "<class 'statsmodels.iolib.summary2.Summary'>\n",
              "\"\"\"\n",
              "                        Results: Logit\n",
              "===============================================================\n",
              "Model:              Logit            Pseudo R-squared: 0.360   \n",
              "Dependent Variable: y                AIC:              12.6202 \n",
              "Date:               2021-11-08 16:23 BIC:              13.2254 \n",
              "No. Observations:   10               Log-Likelihood:   -4.3101 \n",
              "Df Model:           1                LL-Null:          -6.7301 \n",
              "Df Residuals:       8                LLR p-value:      0.027807\n",
              "Converged:          1.0000           Scale:            1.0000  \n",
              "No. Iterations:     6.0000                                     \n",
              "-----------------------------------------------------------------\n",
              "          Coef.    Std.Err.      z      P>|z|     [0.025   0.975]\n",
              "-----------------------------------------------------------------\n",
              "x1        0.6622     0.4001    1.6551   0.0979   -0.1220   1.4464\n",
              "const    -3.6956     2.2889   -1.6145   0.1064   -8.1818   0.7906\n",
              "===============================================================\n",
              "\n",
              "\"\"\""
            ]
          },
          "execution_count": 100,
          "metadata": {},
          "output_type": "execute_result"
        }
      ],
      "source": [
        "resultados.summary2()"
      ]
    },
    {
      "cell_type": "markdown",
      "metadata": {
        "id": "f7T2v0LuZKHR"
      },
      "source": [
        "# Implementación regresión logística"
      ]
    },
    {
      "cell_type": "code",
      "execution_count": null,
      "metadata": {
        "id": "gL6IzWQ-cjWf"
      },
      "outputs": [],
      "source": [
        "import pandas as pd\n",
        "import numpy as np"
      ]
    },
    {
      "cell_type": "code",
      "execution_count": null,
      "metadata": {
        "id": "2tsBlBZxclYw"
      },
      "outputs": [],
      "source": [
        "data = pd.read_csv(\"/content/drive/MyDrive/ColabNotebooks/ML_udemy/bank.csv\",sep=';')"
      ]
    },
    {
      "cell_type": "code",
      "execution_count": null,
      "metadata": {
        "colab": {
          "base_uri": "https://localhost:8080/",
          "height": 241
        },
        "id": "fGv35uVtcwIn",
        "outputId": "b691506b-659e-475f-c850-5761e1105096"
      },
      "outputs": [
        {
          "data": {
            "text/html": [
              "<div>\n",
              "<style scoped>\n",
              "    .dataframe tbody tr th:only-of-type {\n",
              "        vertical-align: middle;\n",
              "    }\n",
              "\n",
              "    .dataframe tbody tr th {\n",
              "        vertical-align: top;\n",
              "    }\n",
              "\n",
              "    .dataframe thead th {\n",
              "        text-align: right;\n",
              "    }\n",
              "</style>\n",
              "<table border=\"1\" class=\"dataframe\">\n",
              "  <thead>\n",
              "    <tr style=\"text-align: right;\">\n",
              "      <th></th>\n",
              "      <th>age</th>\n",
              "      <th>job</th>\n",
              "      <th>marital</th>\n",
              "      <th>education</th>\n",
              "      <th>default</th>\n",
              "      <th>housing</th>\n",
              "      <th>loan</th>\n",
              "      <th>contact</th>\n",
              "      <th>month</th>\n",
              "      <th>day_of_week</th>\n",
              "      <th>duration</th>\n",
              "      <th>campaign</th>\n",
              "      <th>pdays</th>\n",
              "      <th>previous</th>\n",
              "      <th>poutcome</th>\n",
              "      <th>emp.var.rate</th>\n",
              "      <th>cons.price.idx</th>\n",
              "      <th>cons.conf.idx</th>\n",
              "      <th>euribor3m</th>\n",
              "      <th>nr.employed</th>\n",
              "      <th>y</th>\n",
              "    </tr>\n",
              "  </thead>\n",
              "  <tbody>\n",
              "    <tr>\n",
              "      <th>0</th>\n",
              "      <td>30</td>\n",
              "      <td>blue-collar</td>\n",
              "      <td>married</td>\n",
              "      <td>basic.9y</td>\n",
              "      <td>no</td>\n",
              "      <td>yes</td>\n",
              "      <td>no</td>\n",
              "      <td>cellular</td>\n",
              "      <td>may</td>\n",
              "      <td>fri</td>\n",
              "      <td>487</td>\n",
              "      <td>2</td>\n",
              "      <td>999</td>\n",
              "      <td>0</td>\n",
              "      <td>nonexistent</td>\n",
              "      <td>-1.8</td>\n",
              "      <td>92.893</td>\n",
              "      <td>-46.2</td>\n",
              "      <td>1.313</td>\n",
              "      <td>5099.1</td>\n",
              "      <td>no</td>\n",
              "    </tr>\n",
              "    <tr>\n",
              "      <th>1</th>\n",
              "      <td>39</td>\n",
              "      <td>services</td>\n",
              "      <td>single</td>\n",
              "      <td>high.school</td>\n",
              "      <td>no</td>\n",
              "      <td>no</td>\n",
              "      <td>no</td>\n",
              "      <td>telephone</td>\n",
              "      <td>may</td>\n",
              "      <td>fri</td>\n",
              "      <td>346</td>\n",
              "      <td>4</td>\n",
              "      <td>999</td>\n",
              "      <td>0</td>\n",
              "      <td>nonexistent</td>\n",
              "      <td>1.1</td>\n",
              "      <td>93.994</td>\n",
              "      <td>-36.4</td>\n",
              "      <td>4.855</td>\n",
              "      <td>5191.0</td>\n",
              "      <td>no</td>\n",
              "    </tr>\n",
              "    <tr>\n",
              "      <th>2</th>\n",
              "      <td>25</td>\n",
              "      <td>services</td>\n",
              "      <td>married</td>\n",
              "      <td>high.school</td>\n",
              "      <td>no</td>\n",
              "      <td>yes</td>\n",
              "      <td>no</td>\n",
              "      <td>telephone</td>\n",
              "      <td>jun</td>\n",
              "      <td>wed</td>\n",
              "      <td>227</td>\n",
              "      <td>1</td>\n",
              "      <td>999</td>\n",
              "      <td>0</td>\n",
              "      <td>nonexistent</td>\n",
              "      <td>1.4</td>\n",
              "      <td>94.465</td>\n",
              "      <td>-41.8</td>\n",
              "      <td>4.962</td>\n",
              "      <td>5228.1</td>\n",
              "      <td>no</td>\n",
              "    </tr>\n",
              "    <tr>\n",
              "      <th>3</th>\n",
              "      <td>38</td>\n",
              "      <td>services</td>\n",
              "      <td>married</td>\n",
              "      <td>basic.9y</td>\n",
              "      <td>no</td>\n",
              "      <td>unknown</td>\n",
              "      <td>unknown</td>\n",
              "      <td>telephone</td>\n",
              "      <td>jun</td>\n",
              "      <td>fri</td>\n",
              "      <td>17</td>\n",
              "      <td>3</td>\n",
              "      <td>999</td>\n",
              "      <td>0</td>\n",
              "      <td>nonexistent</td>\n",
              "      <td>1.4</td>\n",
              "      <td>94.465</td>\n",
              "      <td>-41.8</td>\n",
              "      <td>4.959</td>\n",
              "      <td>5228.1</td>\n",
              "      <td>no</td>\n",
              "    </tr>\n",
              "    <tr>\n",
              "      <th>4</th>\n",
              "      <td>47</td>\n",
              "      <td>admin.</td>\n",
              "      <td>married</td>\n",
              "      <td>university.degree</td>\n",
              "      <td>no</td>\n",
              "      <td>yes</td>\n",
              "      <td>no</td>\n",
              "      <td>cellular</td>\n",
              "      <td>nov</td>\n",
              "      <td>mon</td>\n",
              "      <td>58</td>\n",
              "      <td>1</td>\n",
              "      <td>999</td>\n",
              "      <td>0</td>\n",
              "      <td>nonexistent</td>\n",
              "      <td>-0.1</td>\n",
              "      <td>93.200</td>\n",
              "      <td>-42.0</td>\n",
              "      <td>4.191</td>\n",
              "      <td>5195.8</td>\n",
              "      <td>no</td>\n",
              "    </tr>\n",
              "  </tbody>\n",
              "</table>\n",
              "</div>"
            ],
            "text/plain": [
              "   age          job  marital  ... euribor3m nr.employed   y\n",
              "0   30  blue-collar  married  ...     1.313      5099.1  no\n",
              "1   39     services   single  ...     4.855      5191.0  no\n",
              "2   25     services  married  ...     4.962      5228.1  no\n",
              "3   38     services  married  ...     4.959      5228.1  no\n",
              "4   47       admin.  married  ...     4.191      5195.8  no\n",
              "\n",
              "[5 rows x 21 columns]"
            ]
          },
          "execution_count": 103,
          "metadata": {},
          "output_type": "execute_result"
        }
      ],
      "source": [
        "data.head()"
      ]
    },
    {
      "cell_type": "code",
      "execution_count": null,
      "metadata": {
        "colab": {
          "base_uri": "https://localhost:8080/"
        },
        "id": "IP_Hmellc26T",
        "outputId": "e42b06b3-ddf3-41ca-dd2f-f9a4cd942771"
      },
      "outputs": [
        {
          "name": "stdout",
          "output_type": "stream",
          "text": [
            "<class 'pandas.core.frame.DataFrame'>\n",
            "RangeIndex: 4119 entries, 0 to 4118\n",
            "Data columns (total 21 columns):\n",
            " #   Column          Non-Null Count  Dtype  \n",
            "---  ------          --------------  -----  \n",
            " 0   age             4119 non-null   int64  \n",
            " 1   job             4119 non-null   object \n",
            " 2   marital         4119 non-null   object \n",
            " 3   education       4119 non-null   object \n",
            " 4   default         4119 non-null   object \n",
            " 5   housing         4119 non-null   object \n",
            " 6   loan            4119 non-null   object \n",
            " 7   contact         4119 non-null   object \n",
            " 8   month           4119 non-null   object \n",
            " 9   day_of_week     4119 non-null   object \n",
            " 10  duration        4119 non-null   int64  \n",
            " 11  campaign        4119 non-null   int64  \n",
            " 12  pdays           4119 non-null   int64  \n",
            " 13  previous        4119 non-null   int64  \n",
            " 14  poutcome        4119 non-null   object \n",
            " 15  emp.var.rate    4119 non-null   float64\n",
            " 16  cons.price.idx  4119 non-null   float64\n",
            " 17  cons.conf.idx   4119 non-null   float64\n",
            " 18  euribor3m       4119 non-null   float64\n",
            " 19  nr.employed     4119 non-null   float64\n",
            " 20  y               4119 non-null   object \n",
            "dtypes: float64(5), int64(5), object(11)\n",
            "memory usage: 675.9+ KB\n"
          ]
        }
      ],
      "source": [
        "data.info()"
      ]
    },
    {
      "cell_type": "code",
      "execution_count": null,
      "metadata": {
        "id": "MIrietFodMhx"
      },
      "outputs": [],
      "source": []
    }
  ],
  "metadata": {
    "colab": {
      "provenance": []
    },
    "kernelspec": {
      "display_name": "Python 3",
      "language": "python",
      "name": "python3"
    },
    "language_info": {
      "codemirror_mode": {
        "name": "ipython",
        "version": 3
      },
      "file_extension": ".py",
      "mimetype": "text/x-python",
      "name": "python",
      "nbconvert_exporter": "python",
      "pygments_lexer": "ipython3",
      "version": "3.8.8"
    }
  },
  "nbformat": 4,
  "nbformat_minor": 0
}
