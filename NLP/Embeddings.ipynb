{
 "cells": [
  {
   "cell_type": "markdown",
   "metadata": {},
   "source": [
    "### Embeddings"
   ]
  },
  {
   "cell_type": "code",
   "execution_count": 2,
   "metadata": {},
   "outputs": [
    {
     "name": "stdout",
     "output_type": "stream",
     "text": [
      "Requirement already satisfied: typing-extensions in /Users/linatobon/opt/anaconda3/lib/python3.8/site-packages (3.7.4.3)\n",
      "Collecting typing-extensions\n",
      "  Using cached typing_extensions-4.8.0-py3-none-any.whl (31 kB)\n",
      "Installing collected packages: typing-extensions\n",
      "  Attempting uninstall: typing-extensions\n",
      "    Found existing installation: typing-extensions 3.7.4.3\n",
      "    Uninstalling typing-extensions-3.7.4.3:\n",
      "      Successfully uninstalled typing-extensions-3.7.4.3\n",
      "Successfully installed typing-extensions-4.8.0\n",
      "Note: you may need to restart the kernel to use updated packages.\n"
     ]
    }
   ],
   "source": [
    "pip install typing-extensions --upgrade"
   ]
  },
  {
   "cell_type": "code",
   "execution_count": 1,
   "metadata": {},
   "outputs": [
    {
     "name": "stdout",
     "output_type": "stream",
     "text": [
      "Collecting sentence-transformers\n",
      "  Downloading sentence-transformers-2.2.2.tar.gz (85 kB)\n",
      "\u001b[K     |████████████████████████████████| 85 kB 2.8 MB/s eta 0:00:01\n",
      "\u001b[?25hCollecting transformers<5.0.0,>=4.6.0\n",
      "  Downloading transformers-4.35.0-py3-none-any.whl (7.9 MB)\n",
      "\u001b[K     |████████████████████████████████| 7.9 MB 4.3 MB/s eta 0:00:011     |█████████████████████████▉      | 6.4 MB 10.0 MB/s eta 0:00:01\n",
      "\u001b[?25hRequirement already satisfied: tqdm in /Users/linatobon/opt/anaconda3/lib/python3.8/site-packages (from sentence-transformers) (4.59.0)\n",
      "Collecting torch>=1.6.0\n",
      "  Downloading torch-2.1.0-cp38-none-macosx_10_9_x86_64.whl (146.7 MB)\n",
      "\u001b[K     |████████████████████████████████| 146.7 MB 131 kB/s eta 0:00:01\n",
      "\u001b[?25hCollecting torchvision\n",
      "  Downloading torchvision-0.16.0-cp38-cp38-macosx_10_13_x86_64.whl (1.7 MB)\n",
      "\u001b[K     |████████████████████████████████| 1.7 MB 104 kB/s eta 0:00:01\n",
      "\u001b[?25hRequirement already satisfied: numpy in /Users/linatobon/opt/anaconda3/lib/python3.8/site-packages (from sentence-transformers) (1.19.5)\n",
      "Requirement already satisfied: scikit-learn in /Users/linatobon/opt/anaconda3/lib/python3.8/site-packages (from sentence-transformers) (1.3.dev0)\n",
      "Requirement already satisfied: scipy in /Users/linatobon/opt/anaconda3/lib/python3.8/site-packages (from sentence-transformers) (1.6.2)\n",
      "Requirement already satisfied: nltk in /Users/linatobon/opt/anaconda3/lib/python3.8/site-packages (from sentence-transformers) (3.6.1)\n",
      "Collecting sentencepiece\n",
      "  Downloading sentencepiece-0.1.99-cp38-cp38-macosx_10_9_x86_64.whl (1.2 MB)\n",
      "\u001b[K     |████████████████████████████████| 1.2 MB 9.0 MB/s eta 0:00:01\n",
      "\u001b[?25hCollecting huggingface-hub>=0.4.0\n",
      "  Downloading huggingface_hub-0.18.0-py3-none-any.whl (301 kB)\n",
      "\u001b[K     |████████████████████████████████| 301 kB 652 kB/s eta 0:00:01\n",
      "\u001b[?25hRequirement already satisfied: typing-extensions>=3.7.4.3 in /Users/linatobon/opt/anaconda3/lib/python3.8/site-packages (from huggingface-hub>=0.4.0->sentence-transformers) (3.7.4.3)\n",
      "Requirement already satisfied: filelock in /Users/linatobon/opt/anaconda3/lib/python3.8/site-packages (from huggingface-hub>=0.4.0->sentence-transformers) (3.0.12)\n",
      "Requirement already satisfied: requests in /Users/linatobon/opt/anaconda3/lib/python3.8/site-packages (from huggingface-hub>=0.4.0->sentence-transformers) (2.25.1)\n",
      "Requirement already satisfied: pyyaml>=5.1 in /Users/linatobon/opt/anaconda3/lib/python3.8/site-packages (from huggingface-hub>=0.4.0->sentence-transformers) (5.4.1)\n",
      "Collecting fsspec>=2023.5.0\n",
      "  Downloading fsspec-2023.10.0-py3-none-any.whl (166 kB)\n",
      "\u001b[K     |████████████████████████████████| 166 kB 2.1 MB/s eta 0:00:01\n",
      "\u001b[?25hRequirement already satisfied: packaging>=20.9 in /Users/linatobon/opt/anaconda3/lib/python3.8/site-packages (from huggingface-hub>=0.4.0->sentence-transformers) (23.0)\n",
      "Requirement already satisfied: sympy in /Users/linatobon/opt/anaconda3/lib/python3.8/site-packages (from torch>=1.6.0->sentence-transformers) (1.8)\n",
      "Requirement already satisfied: jinja2 in /Users/linatobon/opt/anaconda3/lib/python3.8/site-packages (from torch>=1.6.0->sentence-transformers) (2.11.3)\n",
      "Requirement already satisfied: networkx in /Users/linatobon/opt/anaconda3/lib/python3.8/site-packages (from torch>=1.6.0->sentence-transformers) (2.5)\n",
      "Requirement already satisfied: regex!=2019.12.17 in /Users/linatobon/opt/anaconda3/lib/python3.8/site-packages (from transformers<5.0.0,>=4.6.0->sentence-transformers) (2021.4.4)\n",
      "Collecting tokenizers<0.15,>=0.14\n",
      "  Downloading tokenizers-0.14.1-cp38-cp38-macosx_10_7_x86_64.whl (2.5 MB)\n",
      "\u001b[K     |████████████████████████████████| 2.5 MB 218 kB/s eta 0:00:011\n",
      "\u001b[?25hCollecting safetensors>=0.3.1\n",
      "  Downloading safetensors-0.4.0-cp38-cp38-macosx_10_7_x86_64.whl (439 kB)\n",
      "\u001b[K     |████████████████████████████████| 439 kB 2.0 MB/s eta 0:00:01\n",
      "\u001b[?25hCollecting huggingface-hub>=0.4.0\n",
      "  Downloading huggingface_hub-0.17.3-py3-none-any.whl (295 kB)\n",
      "\u001b[K     |████████████████████████████████| 295 kB 11.1 MB/s eta 0:00:01\n",
      "\u001b[?25hRequirement already satisfied: MarkupSafe>=0.23 in /Users/linatobon/opt/anaconda3/lib/python3.8/site-packages (from jinja2->torch>=1.6.0->sentence-transformers) (1.1.1)\n",
      "Requirement already satisfied: decorator>=4.3.0 in /Users/linatobon/opt/anaconda3/lib/python3.8/site-packages (from networkx->torch>=1.6.0->sentence-transformers) (5.0.6)\n",
      "Requirement already satisfied: joblib in /Users/linatobon/opt/anaconda3/lib/python3.8/site-packages (from nltk->sentence-transformers) (1.2.0)\n",
      "Requirement already satisfied: click in /Users/linatobon/opt/anaconda3/lib/python3.8/site-packages (from nltk->sentence-transformers) (7.1.2)\n",
      "Requirement already satisfied: urllib3<1.27,>=1.21.1 in /Users/linatobon/opt/anaconda3/lib/python3.8/site-packages (from requests->huggingface-hub>=0.4.0->sentence-transformers) (1.26.4)\n",
      "Requirement already satisfied: certifi>=2017.4.17 in /Users/linatobon/opt/anaconda3/lib/python3.8/site-packages (from requests->huggingface-hub>=0.4.0->sentence-transformers) (2021.10.8)\n",
      "Requirement already satisfied: idna<3,>=2.5 in /Users/linatobon/opt/anaconda3/lib/python3.8/site-packages (from requests->huggingface-hub>=0.4.0->sentence-transformers) (2.10)\n",
      "Requirement already satisfied: chardet<5,>=3.0.2 in /Users/linatobon/opt/anaconda3/lib/python3.8/site-packages (from requests->huggingface-hub>=0.4.0->sentence-transformers) (4.0.0)\n",
      "Requirement already satisfied: threadpoolctl>=2.0.0 in /Users/linatobon/opt/anaconda3/lib/python3.8/site-packages (from scikit-learn->sentence-transformers) (2.1.0)\n",
      "Requirement already satisfied: mpmath>=0.19 in /Users/linatobon/opt/anaconda3/lib/python3.8/site-packages (from sympy->torch>=1.6.0->sentence-transformers) (1.2.1)\n",
      "Requirement already satisfied: pillow!=8.3.*,>=5.3.0 in /Users/linatobon/opt/anaconda3/lib/python3.8/site-packages (from torchvision->sentence-transformers) (8.2.0)\n",
      "Building wheels for collected packages: sentence-transformers\n",
      "  Building wheel for sentence-transformers (setup.py) ... \u001b[?25ldone\n",
      "\u001b[?25h  Created wheel for sentence-transformers: filename=sentence_transformers-2.2.2-py3-none-any.whl size=125918 sha256=cba72f2a1071be9966e02e99fc070f85fde7d8a4b2de495cf0f06958d5fa1bac\n",
      "  Stored in directory: /Users/linatobon/Library/Caches/pip/wheels/5e/6f/8c/d88aec621f3f542d26fac0342bef5e693335d125f4e54aeffe\n",
      "Successfully built sentence-transformers\n",
      "Installing collected packages: fsspec, huggingface-hub, torch, tokenizers, safetensors, transformers, torchvision, sentencepiece, sentence-transformers\n",
      "  Attempting uninstall: fsspec\n",
      "    Found existing installation: fsspec 0.9.0\n",
      "    Uninstalling fsspec-0.9.0:\n",
      "      Successfully uninstalled fsspec-0.9.0\n",
      "Successfully installed fsspec-2023.10.0 huggingface-hub-0.17.3 safetensors-0.4.0 sentence-transformers-2.2.2 sentencepiece-0.1.99 tokenizers-0.14.1 torch-2.1.0 torchvision-0.16.0 transformers-4.35.0\n"
     ]
    }
   ],
   "source": [
    "!pip install -U sentence-transformers"
   ]
  },
  {
   "cell_type": "code",
   "execution_count": 3,
   "metadata": {},
   "outputs": [],
   "source": [
    "from sentence_transformers import SentenceTransformer,util\n",
    "\n",
    "model = SentenceTransformer(\"all-MiniLM-L6-v2\")\n",
    "\n",
    "sentences = ['el gato juega afuera',\n",
    "             'me gusta tocar guitarra',\n",
    "             'me encanta la pasta',\n",
    "             'esta pelicula estuvo asombrosa',\n",
    "             'el perro esta afuera',\n",
    "             'te gusta la musica?',\n",
    "             'estuvo muy buena la pelicula',\n",
    "             'te gustaria una pizza?']\n",
    "embeddings = model.encode(sentences)"
   ]
  },
  {
   "cell_type": "code",
   "execution_count": 6,
   "metadata": {},
   "outputs": [
    {
     "data": {
      "text/plain": [
       "8"
      ]
     },
     "execution_count": 6,
     "metadata": {},
     "output_type": "execute_result"
    }
   ],
   "source": [
    "len(embeddings)"
   ]
  }
 ],
 "metadata": {
  "kernelspec": {
   "display_name": "ml_env",
   "language": "python",
   "name": "python3"
  },
  "language_info": {
   "codemirror_mode": {
    "name": "ipython",
    "version": 3
   },
   "file_extension": ".py",
   "mimetype": "text/x-python",
   "name": "python",
   "nbconvert_exporter": "python",
   "pygments_lexer": "ipython3",
   "version": "3.8.8"
  }
 },
 "nbformat": 4,
 "nbformat_minor": 2
}
