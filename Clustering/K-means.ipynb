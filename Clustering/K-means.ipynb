{
 "cells": [
  {
   "cell_type": "markdown",
   "metadata": {},
   "source": [
    "### Clustering con K-means\n",
    "\n",
    "Divide los datos ek k grupos, k tiene que ser definido a priori.\n",
    "El método calcula los centroides que formarán parte en la etapa inicial del modelo.\n",
    "El centroide de los clusters se seguirá actualizando basandonos en las observaciones de los nuevos clusters generados en las siguientes etapas del algoritmo.\n",
    "\n",
    "**Objetivo**\n",
    "Encontrar una configuracion de clusters y baricentros que minimice la funcion que tenemos y que minimice para dos puntos cualquiera del mismo cluster la suma de los cuadrados de las distancias.\n",
    "** Minimiza la distancia intra cluster**\n",
    "\n",
    "**Metodo:**\n",
    "\n",
    "1. Se calculan los centroides de los k clusters iniciales\n",
    "2. Se asigna cada punto del dataset al cluster del centroide que le queda mas cerca y se reconfigura el cluster\n",
    "3. Recalculamos el baricentro de las observaciones\n",
    "4. Reasignamos cada punto al centroide que le quede mas cerca,hasta que ninguna de las observaciones sea asignada a un cluster diferente al cual pertenece.\n"
   ]
  },
  {
   "cell_type": "code",
   "execution_count": 10,
   "metadata": {},
   "outputs": [
    {
     "ename": "ImportError",
     "evalue": "cannot import name 'sample_silhouette_values' from 'sklearn.metrics' (/Users/linatobon/opt/anaconda3/lib/python3.8/site-packages/sklearn/metrics/__init__.py)",
     "output_type": "error",
     "traceback": [
      "\u001b[0;31m---------------------------------------------------------------------------\u001b[0m",
      "\u001b[0;31mImportError\u001b[0m                               Traceback (most recent call last)",
      "\u001b[0;32m<ipython-input-10-069eab8133e4>\u001b[0m in \u001b[0;36m<module>\u001b[0;34m\u001b[0m\n\u001b[1;32m      8\u001b[0m \u001b[0;32mfrom\u001b[0m \u001b[0mscipy\u001b[0m\u001b[0;34m.\u001b[0m\u001b[0mcluster\u001b[0m\u001b[0;34m.\u001b[0m\u001b[0mhierarchy\u001b[0m \u001b[0;32mimport\u001b[0m \u001b[0mdendrogram\u001b[0m\u001b[0;34m,\u001b[0m \u001b[0mlinkage\u001b[0m\u001b[0;34m\u001b[0m\u001b[0;34m\u001b[0m\u001b[0m\n\u001b[1;32m      9\u001b[0m \u001b[0;32mfrom\u001b[0m \u001b[0msklearn\u001b[0m \u001b[0;32mimport\u001b[0m \u001b[0mdatasets\u001b[0m\u001b[0;34m,\u001b[0m\u001b[0mmetrics\u001b[0m\u001b[0;34m\u001b[0m\u001b[0;34m\u001b[0m\u001b[0m\n\u001b[0;32m---> 10\u001b[0;31m \u001b[0;32mfrom\u001b[0m \u001b[0msklearn\u001b[0m\u001b[0;34m.\u001b[0m\u001b[0mmetrics\u001b[0m \u001b[0;32mimport\u001b[0m \u001b[0msilhouette_samples\u001b[0m\u001b[0;34m,\u001b[0m \u001b[0msilhouette_score\u001b[0m\u001b[0;34m,\u001b[0m\u001b[0msample_silhouette_values\u001b[0m\u001b[0;34m\u001b[0m\u001b[0;34m\u001b[0m\u001b[0m\n\u001b[0m\u001b[1;32m     11\u001b[0m \u001b[0;32mfrom\u001b[0m \u001b[0mscipy\u001b[0m\u001b[0;34m.\u001b[0m\u001b[0mspatial\u001b[0m\u001b[0;34m.\u001b[0m\u001b[0mdistance\u001b[0m \u001b[0;32mimport\u001b[0m \u001b[0mcdist\u001b[0m\u001b[0;34m\u001b[0m\u001b[0;34m\u001b[0m\u001b[0m\n",
      "\u001b[0;31mImportError\u001b[0m: cannot import name 'sample_silhouette_values' from 'sklearn.metrics' (/Users/linatobon/opt/anaconda3/lib/python3.8/site-packages/sklearn/metrics/__init__.py)"
     ]
    }
   ],
   "source": [
    "from IPython.display import display, Math, Latex\n",
    "import numpy as np\n",
    "from scipy.cluster.vq import vq\n",
    "from scipy.cluster.vq import kmeans\n",
    "import pandas as pd\n",
    "import matplotlib.pyplot as plt\n",
    "from sklearn.cluster import AgglomerativeClustering, KMeans\n",
    "from scipy.cluster.hierarchy import dendrogram, linkage\n",
    "from sklearn import datasets,metrics\n",
    "from sklearn.metrics import silhouette_samples, silhouette_score,sample_silhouette_values\n",
    "from scipy.spatial.distance import cdist"
   ]
  },
  {
   "cell_type": "markdown",
   "metadata": {},
   "source": [
    "**Distancia intra cluster**\n",
    "\n",
    "$SS_{w}(C_{j}) = \\sum_{}^{}(x-c_{j})^{2}$\n",
    "\n",
    "**Distancia intra cluster normalizada**\n",
    "\n",
    "$SS_{w} = \\frac{\\sum_{j=1}^{k}(x-c_{j})^{2}}{\\sum_{i=1}^{n}(x-\\bar{x})^{2} }$"
   ]
  },
  {
   "cell_type": "code",
   "execution_count": 3,
   "metadata": {},
   "outputs": [],
   "source": [
    "data = np.random.random(90).reshape(30,3)"
   ]
  },
  {
   "cell_type": "code",
   "execution_count": 9,
   "metadata": {},
   "outputs": [
    {
     "data": {
      "text/plain": [
       "array([[0.45456759, 0.25261725, 0.5082075 ],\n",
       "       [0.69925584, 0.39173289, 0.43205877],\n",
       "       [0.72507908, 0.87613186, 0.6971298 ],\n",
       "       [0.08801953, 0.85326248, 0.42764056],\n",
       "       [0.37724362, 0.06284198, 0.09113777],\n",
       "       [0.19103793, 0.93615155, 0.22606997],\n",
       "       [0.04315678, 0.62900451, 0.22718157],\n",
       "       [0.94268589, 0.05297814, 0.17326198],\n",
       "       [0.26471619, 0.94735536, 0.31266187],\n",
       "       [0.54916623, 0.5957078 , 0.11188971],\n",
       "       [0.78200835, 0.97982544, 0.10956821],\n",
       "       [0.57751337, 0.28970738, 0.56356133],\n",
       "       [0.1248114 , 0.18931589, 0.44226318],\n",
       "       [0.65599683, 0.00397701, 0.438802  ],\n",
       "       [0.0764513 , 0.93537151, 0.86117641],\n",
       "       [0.63387663, 0.6542449 , 0.87357408],\n",
       "       [0.67380591, 0.89650918, 0.56996728],\n",
       "       [0.41682663, 0.66452605, 0.30980778],\n",
       "       [0.57977575, 0.55136933, 0.71975993],\n",
       "       [0.69574595, 0.93098166, 0.6815126 ],\n",
       "       [0.86653244, 0.76314751, 0.82450345],\n",
       "       [0.66160065, 0.55479447, 0.84807101],\n",
       "       [0.89572321, 0.31206851, 0.66798812],\n",
       "       [0.26243715, 0.08394791, 0.09418048],\n",
       "       [0.80539271, 0.22073757, 0.34234694],\n",
       "       [0.36605167, 0.87290747, 0.7982697 ],\n",
       "       [0.58907289, 0.14247518, 0.57402019],\n",
       "       [0.0803492 , 0.89130439, 0.4454355 ],\n",
       "       [0.73409708, 0.12936892, 0.32370026],\n",
       "       [0.67852419, 0.87735414, 0.64400467]])"
      ]
     },
     "execution_count": 9,
     "metadata": {},
     "output_type": "execute_result"
    }
   ],
   "source": [
    "data"
   ]
  },
  {
   "cell_type": "code",
   "execution_count": 6,
   "metadata": {},
   "outputs": [
    {
     "data": {
      "text/plain": [
       "array([[0.36605167, 0.87290747, 0.7982697 ],\n",
       "       [0.54916623, 0.5957078 , 0.11188971]])"
      ]
     },
     "execution_count": 6,
     "metadata": {},
     "output_type": "execute_result"
    }
   ],
   "source": [
    "c1 = np.random.choice(range(len(data)))\n",
    "c2 = np.random.choice(range(len(data)))\n",
    "clust_centers = np.vstack([data[c1],data[c2]])\n",
    "clust_centers"
   ]
  },
  {
   "cell_type": "code",
   "execution_count": 8,
   "metadata": {},
   "outputs": [
    {
     "data": {
      "text/plain": [
       "(array([1, 1, 0, 0, 1, 1, 1, 1, 1, 1, 1, 1, 1, 1, 0, 0, 0, 1, 0, 0, 0, 0,\n",
       "        1, 1, 1, 0, 1, 0, 1, 0], dtype=int32),\n",
       " array([0.53266108, 0.40821671, 0.37301523, 0.46373888, 0.56029814,\n",
       "        0.50714393, 0.52004466, 0.67318628, 0.49485078, 0.        ,\n",
       "        0.44918504, 0.54630309, 0.67407569, 0.68441928, 0.30286529,\n",
       "        0.35385629, 0.38391627, 0.24783318, 0.39399053, 0.3545464 ,\n",
       "        0.51304626, 0.43706436, 0.71400171, 0.58687764, 0.50927911,\n",
       "        0.        , 0.64851904, 0.45437464, 0.54455035, 0.34850616]))"
      ]
     },
     "execution_count": 8,
     "metadata": {},
     "output_type": "execute_result"
    }
   ],
   "source": [
    "vq(data,clust_centers)"
   ]
  },
  {
   "cell_type": "code",
   "execution_count": 11,
   "metadata": {},
   "outputs": [
    {
     "data": {
      "text/plain": [
       "(array([[0.4602093 , 0.81260246, 0.56331379],\n",
       "        [0.58984337, 0.20980588, 0.36641679]]),\n",
       " 0.3534185114260882)"
      ]
     },
     "execution_count": 11,
     "metadata": {},
     "output_type": "execute_result"
    }
   ],
   "source": [
    "kmeans(data,clust_centers)"
   ]
  },
  {
   "cell_type": "markdown",
   "metadata": {},
   "source": [
    "0.35341 suma de los cuadrados de los errores normalizado"
   ]
  },
  {
   "cell_type": "markdown",
   "metadata": {},
   "source": [
    "### Ejemplo con vinos"
   ]
  },
  {
   "cell_type": "code",
   "execution_count": 15,
   "metadata": {},
   "outputs": [],
   "source": [
    "df = pd.read_csv(\"../datasets/wine/winequality-red.csv\",sep=\";\")"
   ]
  },
  {
   "cell_type": "code",
   "execution_count": 17,
   "metadata": {},
   "outputs": [
    {
     "data": {
      "text/plain": [
       "(1599, 12)"
      ]
     },
     "execution_count": 17,
     "metadata": {},
     "output_type": "execute_result"
    }
   ],
   "source": [
    "df.shape"
   ]
  },
  {
   "cell_type": "code",
   "execution_count": 21,
   "metadata": {},
   "outputs": [
    {
     "data": {
      "text/html": [
       "<div>\n",
       "<style scoped>\n",
       "    .dataframe tbody tr th:only-of-type {\n",
       "        vertical-align: middle;\n",
       "    }\n",
       "\n",
       "    .dataframe tbody tr th {\n",
       "        vertical-align: top;\n",
       "    }\n",
       "\n",
       "    .dataframe thead th {\n",
       "        text-align: right;\n",
       "    }\n",
       "</style>\n",
       "<table border=\"1\" class=\"dataframe\">\n",
       "  <thead>\n",
       "    <tr style=\"text-align: right;\">\n",
       "      <th></th>\n",
       "      <th>fixed acidity</th>\n",
       "      <th>volatile acidity</th>\n",
       "      <th>citric acid</th>\n",
       "      <th>residual sugar</th>\n",
       "      <th>chlorides</th>\n",
       "      <th>free sulfur dioxide</th>\n",
       "      <th>total sulfur dioxide</th>\n",
       "      <th>density</th>\n",
       "      <th>pH</th>\n",
       "      <th>sulphates</th>\n",
       "      <th>alcohol</th>\n",
       "      <th>quality</th>\n",
       "    </tr>\n",
       "  </thead>\n",
       "  <tbody>\n",
       "    <tr>\n",
       "      <th>0</th>\n",
       "      <td>7.4</td>\n",
       "      <td>0.70</td>\n",
       "      <td>0.00</td>\n",
       "      <td>1.9</td>\n",
       "      <td>0.076</td>\n",
       "      <td>11.0</td>\n",
       "      <td>34.0</td>\n",
       "      <td>0.9978</td>\n",
       "      <td>3.51</td>\n",
       "      <td>0.56</td>\n",
       "      <td>9.4</td>\n",
       "      <td>5</td>\n",
       "    </tr>\n",
       "    <tr>\n",
       "      <th>1</th>\n",
       "      <td>7.8</td>\n",
       "      <td>0.88</td>\n",
       "      <td>0.00</td>\n",
       "      <td>2.6</td>\n",
       "      <td>0.098</td>\n",
       "      <td>25.0</td>\n",
       "      <td>67.0</td>\n",
       "      <td>0.9968</td>\n",
       "      <td>3.20</td>\n",
       "      <td>0.68</td>\n",
       "      <td>9.8</td>\n",
       "      <td>5</td>\n",
       "    </tr>\n",
       "    <tr>\n",
       "      <th>2</th>\n",
       "      <td>7.8</td>\n",
       "      <td>0.76</td>\n",
       "      <td>0.04</td>\n",
       "      <td>2.3</td>\n",
       "      <td>0.092</td>\n",
       "      <td>15.0</td>\n",
       "      <td>54.0</td>\n",
       "      <td>0.9970</td>\n",
       "      <td>3.26</td>\n",
       "      <td>0.65</td>\n",
       "      <td>9.8</td>\n",
       "      <td>5</td>\n",
       "    </tr>\n",
       "    <tr>\n",
       "      <th>3</th>\n",
       "      <td>11.2</td>\n",
       "      <td>0.28</td>\n",
       "      <td>0.56</td>\n",
       "      <td>1.9</td>\n",
       "      <td>0.075</td>\n",
       "      <td>17.0</td>\n",
       "      <td>60.0</td>\n",
       "      <td>0.9980</td>\n",
       "      <td>3.16</td>\n",
       "      <td>0.58</td>\n",
       "      <td>9.8</td>\n",
       "      <td>6</td>\n",
       "    </tr>\n",
       "    <tr>\n",
       "      <th>4</th>\n",
       "      <td>7.4</td>\n",
       "      <td>0.70</td>\n",
       "      <td>0.00</td>\n",
       "      <td>1.9</td>\n",
       "      <td>0.076</td>\n",
       "      <td>11.0</td>\n",
       "      <td>34.0</td>\n",
       "      <td>0.9978</td>\n",
       "      <td>3.51</td>\n",
       "      <td>0.56</td>\n",
       "      <td>9.4</td>\n",
       "      <td>5</td>\n",
       "    </tr>\n",
       "  </tbody>\n",
       "</table>\n",
       "</div>"
      ],
      "text/plain": [
       "   fixed acidity  volatile acidity  citric acid  residual sugar  chlorides  \\\n",
       "0            7.4              0.70         0.00             1.9      0.076   \n",
       "1            7.8              0.88         0.00             2.6      0.098   \n",
       "2            7.8              0.76         0.04             2.3      0.092   \n",
       "3           11.2              0.28         0.56             1.9      0.075   \n",
       "4            7.4              0.70         0.00             1.9      0.076   \n",
       "\n",
       "   free sulfur dioxide  total sulfur dioxide  density    pH  sulphates  \\\n",
       "0                 11.0                  34.0   0.9978  3.51       0.56   \n",
       "1                 25.0                  67.0   0.9968  3.20       0.68   \n",
       "2                 15.0                  54.0   0.9970  3.26       0.65   \n",
       "3                 17.0                  60.0   0.9980  3.16       0.58   \n",
       "4                 11.0                  34.0   0.9978  3.51       0.56   \n",
       "\n",
       "   alcohol  quality  \n",
       "0      9.4        5  \n",
       "1      9.8        5  \n",
       "2      9.8        5  \n",
       "3      9.8        6  \n",
       "4      9.4        5  "
      ]
     },
     "execution_count": 21,
     "metadata": {},
     "output_type": "execute_result"
    }
   ],
   "source": [
    "df.head()"
   ]
  },
  {
   "cell_type": "code",
   "execution_count": 20,
   "metadata": {},
   "outputs": [
    {
     "data": {
      "text/plain": [
       "(array([ 10.,   0.,  53.,   0., 681.,   0., 638.,   0., 199.,  18.]),\n",
       " array([3. , 3.5, 4. , 4.5, 5. , 5.5, 6. , 6.5, 7. , 7.5, 8. ]),\n",
       " <BarContainer object of 10 artists>)"
      ]
     },
     "execution_count": 20,
     "metadata": {},
     "output_type": "execute_result"
    },
    {
     "data": {
      "image/png": "[encoded data removed]",
      "text/plain": [
       "<Figure size 432x288 with 1 Axes>"
      ]
     },
     "metadata": {
      "needs_background": "light"
     },
     "output_type": "display_data"
    }
   ],
   "source": [
    "plt.hist(df['quality'])"
   ]
  },
  {
   "cell_type": "code",
   "execution_count": 22,
   "metadata": {},
   "outputs": [
    {
     "data": {
      "text/html": [
       "<div>\n",
       "<style scoped>\n",
       "    .dataframe tbody tr th:only-of-type {\n",
       "        vertical-align: middle;\n",
       "    }\n",
       "\n",
       "    .dataframe tbody tr th {\n",
       "        vertical-align: top;\n",
       "    }\n",
       "\n",
       "    .dataframe thead th {\n",
       "        text-align: right;\n",
       "    }\n",
       "</style>\n",
       "<table border=\"1\" class=\"dataframe\">\n",
       "  <thead>\n",
       "    <tr style=\"text-align: right;\">\n",
       "      <th></th>\n",
       "      <th>fixed acidity</th>\n",
       "      <th>volatile acidity</th>\n",
       "      <th>citric acid</th>\n",
       "      <th>residual sugar</th>\n",
       "      <th>chlorides</th>\n",
       "      <th>free sulfur dioxide</th>\n",
       "      <th>total sulfur dioxide</th>\n",
       "      <th>density</th>\n",
       "      <th>pH</th>\n",
       "      <th>sulphates</th>\n",
       "      <th>alcohol</th>\n",
       "    </tr>\n",
       "    <tr>\n",
       "      <th>quality</th>\n",
       "      <th></th>\n",
       "      <th></th>\n",
       "      <th></th>\n",
       "      <th></th>\n",
       "      <th></th>\n",
       "      <th></th>\n",
       "      <th></th>\n",
       "      <th></th>\n",
       "      <th></th>\n",
       "      <th></th>\n",
       "      <th></th>\n",
       "    </tr>\n",
       "  </thead>\n",
       "  <tbody>\n",
       "    <tr>\n",
       "      <th>3</th>\n",
       "      <td>8.360000</td>\n",
       "      <td>0.884500</td>\n",
       "      <td>0.171000</td>\n",
       "      <td>2.635000</td>\n",
       "      <td>0.122500</td>\n",
       "      <td>11.000000</td>\n",
       "      <td>24.900000</td>\n",
       "      <td>0.997464</td>\n",
       "      <td>3.398000</td>\n",
       "      <td>0.570000</td>\n",
       "      <td>9.955000</td>\n",
       "    </tr>\n",
       "    <tr>\n",
       "      <th>4</th>\n",
       "      <td>7.779245</td>\n",
       "      <td>0.693962</td>\n",
       "      <td>0.174151</td>\n",
       "      <td>2.694340</td>\n",
       "      <td>0.090679</td>\n",
       "      <td>12.264151</td>\n",
       "      <td>36.245283</td>\n",
       "      <td>0.996542</td>\n",
       "      <td>3.381509</td>\n",
       "      <td>0.596415</td>\n",
       "      <td>10.265094</td>\n",
       "    </tr>\n",
       "    <tr>\n",
       "      <th>5</th>\n",
       "      <td>8.167254</td>\n",
       "      <td>0.577041</td>\n",
       "      <td>0.243686</td>\n",
       "      <td>2.528855</td>\n",
       "      <td>0.092736</td>\n",
       "      <td>16.983847</td>\n",
       "      <td>56.513950</td>\n",
       "      <td>0.997104</td>\n",
       "      <td>3.304949</td>\n",
       "      <td>0.620969</td>\n",
       "      <td>9.899706</td>\n",
       "    </tr>\n",
       "    <tr>\n",
       "      <th>6</th>\n",
       "      <td>8.347179</td>\n",
       "      <td>0.497484</td>\n",
       "      <td>0.273824</td>\n",
       "      <td>2.477194</td>\n",
       "      <td>0.084956</td>\n",
       "      <td>15.711599</td>\n",
       "      <td>40.869906</td>\n",
       "      <td>0.996615</td>\n",
       "      <td>3.318072</td>\n",
       "      <td>0.675329</td>\n",
       "      <td>10.629519</td>\n",
       "    </tr>\n",
       "    <tr>\n",
       "      <th>7</th>\n",
       "      <td>8.872362</td>\n",
       "      <td>0.403920</td>\n",
       "      <td>0.375176</td>\n",
       "      <td>2.720603</td>\n",
       "      <td>0.076588</td>\n",
       "      <td>14.045226</td>\n",
       "      <td>35.020101</td>\n",
       "      <td>0.996104</td>\n",
       "      <td>3.290754</td>\n",
       "      <td>0.741256</td>\n",
       "      <td>11.465913</td>\n",
       "    </tr>\n",
       "    <tr>\n",
       "      <th>8</th>\n",
       "      <td>8.566667</td>\n",
       "      <td>0.423333</td>\n",
       "      <td>0.391111</td>\n",
       "      <td>2.577778</td>\n",
       "      <td>0.068444</td>\n",
       "      <td>13.277778</td>\n",
       "      <td>33.444444</td>\n",
       "      <td>0.995212</td>\n",
       "      <td>3.267222</td>\n",
       "      <td>0.767778</td>\n",
       "      <td>12.094444</td>\n",
       "    </tr>\n",
       "  </tbody>\n",
       "</table>\n",
       "</div>"
      ],
      "text/plain": [
       "         fixed acidity  volatile acidity  citric acid  residual sugar  \\\n",
       "quality                                                                 \n",
       "3             8.360000          0.884500     0.171000        2.635000   \n",
       "4             7.779245          0.693962     0.174151        2.694340   \n",
       "5             8.167254          0.577041     0.243686        2.528855   \n",
       "6             8.347179          0.497484     0.273824        2.477194   \n",
       "7             8.872362          0.403920     0.375176        2.720603   \n",
       "8             8.566667          0.423333     0.391111        2.577778   \n",
       "\n",
       "         chlorides  free sulfur dioxide  total sulfur dioxide   density  \\\n",
       "quality                                                                   \n",
       "3         0.122500            11.000000             24.900000  0.997464   \n",
       "4         0.090679            12.264151             36.245283  0.996542   \n",
       "5         0.092736            16.983847             56.513950  0.997104   \n",
       "6         0.084956            15.711599             40.869906  0.996615   \n",
       "7         0.076588            14.045226             35.020101  0.996104   \n",
       "8         0.068444            13.277778             33.444444  0.995212   \n",
       "\n",
       "               pH  sulphates    alcohol  \n",
       "quality                                  \n",
       "3        3.398000   0.570000   9.955000  \n",
       "4        3.381509   0.596415  10.265094  \n",
       "5        3.304949   0.620969   9.899706  \n",
       "6        3.318072   0.675329  10.629519  \n",
       "7        3.290754   0.741256  11.465913  \n",
       "8        3.267222   0.767778  12.094444  "
      ]
     },
     "execution_count": 22,
     "metadata": {},
     "output_type": "execute_result"
    }
   ],
   "source": [
    "df.groupby('quality').mean()"
   ]
  },
  {
   "cell_type": "markdown",
   "metadata": {},
   "source": [
    "##### Normalizacion"
   ]
  },
  {
   "cell_type": "code",
   "execution_count": 26,
   "metadata": {},
   "outputs": [],
   "source": [
    "df_norm = (df-df.min())/(df.max()-df.min())"
   ]
  },
  {
   "cell_type": "code",
   "execution_count": 28,
   "metadata": {},
   "outputs": [
    {
     "data": {
      "text/html": [
       "<div>\n",
       "<style scoped>\n",
       "    .dataframe tbody tr th:only-of-type {\n",
       "        vertical-align: middle;\n",
       "    }\n",
       "\n",
       "    .dataframe tbody tr th {\n",
       "        vertical-align: top;\n",
       "    }\n",
       "\n",
       "    .dataframe thead th {\n",
       "        text-align: right;\n",
       "    }\n",
       "</style>\n",
       "<table border=\"1\" class=\"dataframe\">\n",
       "  <thead>\n",
       "    <tr style=\"text-align: right;\">\n",
       "      <th></th>\n",
       "      <th>fixed acidity</th>\n",
       "      <th>volatile acidity</th>\n",
       "      <th>citric acid</th>\n",
       "      <th>residual sugar</th>\n",
       "      <th>chlorides</th>\n",
       "      <th>free sulfur dioxide</th>\n",
       "      <th>total sulfur dioxide</th>\n",
       "      <th>density</th>\n",
       "      <th>pH</th>\n",
       "      <th>sulphates</th>\n",
       "      <th>alcohol</th>\n",
       "      <th>quality</th>\n",
       "    </tr>\n",
       "  </thead>\n",
       "  <tbody>\n",
       "    <tr>\n",
       "      <th>count</th>\n",
       "      <td>1599.000000</td>\n",
       "      <td>1599.000000</td>\n",
       "      <td>1599.000000</td>\n",
       "      <td>1599.000000</td>\n",
       "      <td>1599.000000</td>\n",
       "      <td>1599.000000</td>\n",
       "      <td>1599.000000</td>\n",
       "      <td>1599.000000</td>\n",
       "      <td>1599.000000</td>\n",
       "      <td>1599.000000</td>\n",
       "      <td>1599.000000</td>\n",
       "      <td>1599.000000</td>\n",
       "    </tr>\n",
       "    <tr>\n",
       "      <th>mean</th>\n",
       "      <td>0.329171</td>\n",
       "      <td>0.279329</td>\n",
       "      <td>0.270976</td>\n",
       "      <td>0.112247</td>\n",
       "      <td>0.125988</td>\n",
       "      <td>0.209506</td>\n",
       "      <td>0.142996</td>\n",
       "      <td>0.490211</td>\n",
       "      <td>0.449695</td>\n",
       "      <td>0.196496</td>\n",
       "      <td>0.311228</td>\n",
       "      <td>0.527205</td>\n",
       "    </tr>\n",
       "    <tr>\n",
       "      <th>std</th>\n",
       "      <td>0.154079</td>\n",
       "      <td>0.122644</td>\n",
       "      <td>0.194801</td>\n",
       "      <td>0.096570</td>\n",
       "      <td>0.078573</td>\n",
       "      <td>0.147326</td>\n",
       "      <td>0.116238</td>\n",
       "      <td>0.138571</td>\n",
       "      <td>0.121564</td>\n",
       "      <td>0.101501</td>\n",
       "      <td>0.163949</td>\n",
       "      <td>0.161514</td>\n",
       "    </tr>\n",
       "    <tr>\n",
       "      <th>min</th>\n",
       "      <td>0.000000</td>\n",
       "      <td>0.000000</td>\n",
       "      <td>0.000000</td>\n",
       "      <td>0.000000</td>\n",
       "      <td>0.000000</td>\n",
       "      <td>0.000000</td>\n",
       "      <td>0.000000</td>\n",
       "      <td>0.000000</td>\n",
       "      <td>0.000000</td>\n",
       "      <td>0.000000</td>\n",
       "      <td>0.000000</td>\n",
       "      <td>0.000000</td>\n",
       "    </tr>\n",
       "    <tr>\n",
       "      <th>25%</th>\n",
       "      <td>0.221239</td>\n",
       "      <td>0.184932</td>\n",
       "      <td>0.090000</td>\n",
       "      <td>0.068493</td>\n",
       "      <td>0.096828</td>\n",
       "      <td>0.084507</td>\n",
       "      <td>0.056537</td>\n",
       "      <td>0.406021</td>\n",
       "      <td>0.370079</td>\n",
       "      <td>0.131737</td>\n",
       "      <td>0.169231</td>\n",
       "      <td>0.400000</td>\n",
       "    </tr>\n",
       "    <tr>\n",
       "      <th>50%</th>\n",
       "      <td>0.292035</td>\n",
       "      <td>0.273973</td>\n",
       "      <td>0.260000</td>\n",
       "      <td>0.089041</td>\n",
       "      <td>0.111853</td>\n",
       "      <td>0.183099</td>\n",
       "      <td>0.113074</td>\n",
       "      <td>0.490455</td>\n",
       "      <td>0.448819</td>\n",
       "      <td>0.173653</td>\n",
       "      <td>0.276923</td>\n",
       "      <td>0.600000</td>\n",
       "    </tr>\n",
       "    <tr>\n",
       "      <th>75%</th>\n",
       "      <td>0.407080</td>\n",
       "      <td>0.356164</td>\n",
       "      <td>0.420000</td>\n",
       "      <td>0.116438</td>\n",
       "      <td>0.130217</td>\n",
       "      <td>0.281690</td>\n",
       "      <td>0.197880</td>\n",
       "      <td>0.570117</td>\n",
       "      <td>0.519685</td>\n",
       "      <td>0.239521</td>\n",
       "      <td>0.415385</td>\n",
       "      <td>0.600000</td>\n",
       "    </tr>\n",
       "    <tr>\n",
       "      <th>max</th>\n",
       "      <td>1.000000</td>\n",
       "      <td>1.000000</td>\n",
       "      <td>1.000000</td>\n",
       "      <td>1.000000</td>\n",
       "      <td>1.000000</td>\n",
       "      <td>1.000000</td>\n",
       "      <td>1.000000</td>\n",
       "      <td>1.000000</td>\n",
       "      <td>1.000000</td>\n",
       "      <td>1.000000</td>\n",
       "      <td>1.000000</td>\n",
       "      <td>1.000000</td>\n",
       "    </tr>\n",
       "  </tbody>\n",
       "</table>\n",
       "</div>"
      ],
      "text/plain": [
       "       fixed acidity  volatile acidity  citric acid  residual sugar  \\\n",
       "count    1599.000000       1599.000000  1599.000000     1599.000000   \n",
       "mean        0.329171          0.279329     0.270976        0.112247   \n",
       "std         0.154079          0.122644     0.194801        0.096570   \n",
       "min         0.000000          0.000000     0.000000        0.000000   \n",
       "25%         0.221239          0.184932     0.090000        0.068493   \n",
       "50%         0.292035          0.273973     0.260000        0.089041   \n",
       "75%         0.407080          0.356164     0.420000        0.116438   \n",
       "max         1.000000          1.000000     1.000000        1.000000   \n",
       "\n",
       "         chlorides  free sulfur dioxide  total sulfur dioxide      density  \\\n",
       "count  1599.000000          1599.000000           1599.000000  1599.000000   \n",
       "mean      0.125988             0.209506              0.142996     0.490211   \n",
       "std       0.078573             0.147326              0.116238     0.138571   \n",
       "min       0.000000             0.000000              0.000000     0.000000   \n",
       "25%       0.096828             0.084507              0.056537     0.406021   \n",
       "50%       0.111853             0.183099              0.113074     0.490455   \n",
       "75%       0.130217             0.281690              0.197880     0.570117   \n",
       "max       1.000000             1.000000              1.000000     1.000000   \n",
       "\n",
       "                pH    sulphates      alcohol      quality  \n",
       "count  1599.000000  1599.000000  1599.000000  1599.000000  \n",
       "mean      0.449695     0.196496     0.311228     0.527205  \n",
       "std       0.121564     0.101501     0.163949     0.161514  \n",
       "min       0.000000     0.000000     0.000000     0.000000  \n",
       "25%       0.370079     0.131737     0.169231     0.400000  \n",
       "50%       0.448819     0.173653     0.276923     0.600000  \n",
       "75%       0.519685     0.239521     0.415385     0.600000  \n",
       "max       1.000000     1.000000     1.000000     1.000000  "
      ]
     },
     "execution_count": 28,
     "metadata": {},
     "output_type": "execute_result"
    }
   ],
   "source": [
    "df_norm.describe()"
   ]
  },
  {
   "cell_type": "markdown",
   "metadata": {},
   "source": [
    "#### Clustering jerarquico"
   ]
  },
  {
   "cell_type": "code",
   "execution_count": 50,
   "metadata": {},
   "outputs": [],
   "source": [
    "clus = AgglomerativeClustering(n_clusters=6,linkage=\"ward\").fit(df_norm)\n",
    "md_h = pd.Series(clus.labels_)"
   ]
  },
  {
   "cell_type": "code",
   "execution_count": 51,
   "metadata": {},
   "outputs": [
    {
     "data": {
      "text/plain": [
       "Text(0, 0.5, 'Numero de vinos del cluster')"
      ]
     },
     "execution_count": 51,
     "metadata": {},
     "output_type": "execute_result"
    },
    {
     "data": {
      "image/png": "[encoded data removed]",
      "text/plain": [
       "<Figure size 432x288 with 1 Axes>"
      ]
     },
     "metadata": {
      "needs_background": "light"
     },
     "output_type": "display_data"
    }
   ],
   "source": [
    "plt.hist(md_h)\n",
    "plt.title(\"Histograma de los clusters\")\n",
    "plt.xlabel(\"Clusters\")\n",
    "plt.ylabel(\"Numero de vinos del cluster\")"
   ]
  },
  {
   "cell_type": "code",
   "execution_count": 35,
   "metadata": {},
   "outputs": [
    {
     "data": {
      "text/plain": [
       "array([[   0,    4],\n",
       "       [ 135,  140],\n",
       "       [ 750,  751],\n",
       "       ...,\n",
       "       [3179, 3191],\n",
       "       [3192, 3193],\n",
       "       [3194, 3195]])"
      ]
     },
     "execution_count": 35,
     "metadata": {},
     "output_type": "execute_result"
    }
   ],
   "source": [
    "clus.children_"
   ]
  },
  {
   "cell_type": "code",
   "execution_count": null,
   "metadata": {},
   "outputs": [],
   "source": [
    "Z = linkage(df_norm,\"ward\")"
   ]
  },
  {
   "cell_type": "code",
   "execution_count": 42,
   "metadata": {},
   "outputs": [
    {
     "data": {
      "image/png": "[encoded data removed]",
      "text/plain": [
       "<Figure size 1800x720 with 1 Axes>"
      ]
     },
     "metadata": {
      "needs_background": "light"
     },
     "output_type": "display_data"
    }
   ],
   "source": [
    "plt.figure(figsize=(25,10))\n",
    "plt.title(\"Dendrograma de los vinos\")\n",
    "plt.xlabel(\"Id del vino\")\n",
    "plt.ylabel(\"Distancia\")\n",
    "dendrogram(Z,leaf_rotation=90.,leaf_font_size=0.)\n",
    "plt.show()"
   ]
  },
  {
   "cell_type": "code",
   "execution_count": 46,
   "metadata": {},
   "outputs": [
    {
     "name": "stderr",
     "output_type": "stream",
     "text": [
      "/Users/linatobon/opt/anaconda3/lib/python3.8/site-packages/sklearn/cluster/_kmeans.py:890: FutureWarning: The default value of `n_init` will change from 10 to 'auto' in 1.4. Set the value of `n_init` explicitly to suppress the warning\n",
      "  warnings.warn(\n"
     ]
    },
    {
     "data": {
      "text/html": [
       "<style>#sk-container-id-1 {color: black;background-color: white;}#sk-container-id-1 pre{padding: 0;}#sk-container-id-1 div.sk-toggleable {background-color: white;}#sk-container-id-1 label.sk-toggleable__label {cursor: pointer;display: block;width: 100%;margin-bottom: 0;padding: 0.3em;box-sizing: border-box;text-align: center;}#sk-container-id-1 label.sk-toggleable__label-arrow:before {content: \"▸\";float: left;margin-right: 0.25em;color: #696969;}#sk-container-id-1 label.sk-toggleable__label-arrow:hover:before {color: black;}#sk-container-id-1 div.sk-estimator:hover label.sk-toggleable__label-arrow:before {color: black;}#sk-container-id-1 div.sk-toggleable__content {max-height: 0;max-width: 0;overflow: hidden;text-align: left;background-color: #f0f8ff;}#sk-container-id-1 div.sk-toggleable__content pre {margin: 0.2em;color: black;border-radius: 0.25em;background-color: #f0f8ff;}#sk-container-id-1 input.sk-toggleable__control:checked~div.sk-toggleable__content {max-height: 200px;max-width: 100%;overflow: auto;}#sk-container-id-1 input.sk-toggleable__control:checked~label.sk-toggleable__label-arrow:before {content: \"▾\";}#sk-container-id-1 div.sk-estimator input.sk-toggleable__control:checked~label.sk-toggleable__label {background-color: #d4ebff;}#sk-container-id-1 div.sk-label input.sk-toggleable__control:checked~label.sk-toggleable__label {background-color: #d4ebff;}#sk-container-id-1 input.sk-hidden--visually {border: 0;clip: rect(1px 1px 1px 1px);clip: rect(1px, 1px, 1px, 1px);height: 1px;margin: -1px;overflow: hidden;padding: 0;position: absolute;width: 1px;}#sk-container-id-1 div.sk-estimator {font-family: monospace;background-color: #f0f8ff;border: 1px dotted black;border-radius: 0.25em;box-sizing: border-box;margin-bottom: 0.5em;}#sk-container-id-1 div.sk-estimator:hover {background-color: #d4ebff;}#sk-container-id-1 div.sk-parallel-item::after {content: \"\";width: 100%;border-bottom: 1px solid gray;flex-grow: 1;}#sk-container-id-1 div.sk-label:hover label.sk-toggleable__label {background-color: #d4ebff;}#sk-container-id-1 div.sk-serial::before {content: \"\";position: absolute;border-left: 1px solid gray;box-sizing: border-box;top: 0;bottom: 0;left: 50%;z-index: 0;}#sk-container-id-1 div.sk-serial {display: flex;flex-direction: column;align-items: center;background-color: white;padding-right: 0.2em;padding-left: 0.2em;position: relative;}#sk-container-id-1 div.sk-item {position: relative;z-index: 1;}#sk-container-id-1 div.sk-parallel {display: flex;align-items: stretch;justify-content: center;background-color: white;position: relative;}#sk-container-id-1 div.sk-item::before, #sk-container-id-1 div.sk-parallel-item::before {content: \"\";position: absolute;border-left: 1px solid gray;box-sizing: border-box;top: 0;bottom: 0;left: 50%;z-index: -1;}#sk-container-id-1 div.sk-parallel-item {display: flex;flex-direction: column;z-index: 1;position: relative;background-color: white;}#sk-container-id-1 div.sk-parallel-item:first-child::after {align-self: flex-end;width: 50%;}#sk-container-id-1 div.sk-parallel-item:last-child::after {align-self: flex-start;width: 50%;}#sk-container-id-1 div.sk-parallel-item:only-child::after {width: 0;}#sk-container-id-1 div.sk-dashed-wrapped {border: 1px dashed gray;margin: 0 0.4em 0.5em 0.4em;box-sizing: border-box;padding-bottom: 0.4em;background-color: white;}#sk-container-id-1 div.sk-label label {font-family: monospace;font-weight: bold;display: inline-block;line-height: 1.2em;}#sk-container-id-1 div.sk-label-container {text-align: center;}#sk-container-id-1 div.sk-container {/* jupyter's `normalize.less` sets `[hidden] { display: none; }` but bootstrap.min.css set `[hidden] { display: none !important; }` so we also need the `!important` here to be able to override the default hidden behavior on the sphinx rendered scikit-learn.org. See: https://github.com/scikit-learn/scikit-learn/issues/21755 */display: inline-block !important;position: relative;}#sk-container-id-1 div.sk-text-repr-fallback {display: none;}</style><div id=\"sk-container-id-1\" class=\"sk-top-container\"><div class=\"sk-text-repr-fallback\"><pre>KMeans(n_clusters=6)</pre><b>In a Jupyter environment, please rerun this cell to show the HTML representation or trust the notebook. <br />On GitHub, the HTML representation is unable to render, please try loading this page with nbviewer.org.</b></div><div class=\"sk-container\" hidden><div class=\"sk-item\"><div class=\"sk-estimator sk-toggleable\"><input class=\"sk-toggleable__control sk-hidden--visually\" id=\"sk-estimator-id-1\" type=\"checkbox\" checked><label for=\"sk-estimator-id-1\" class=\"sk-toggleable__label sk-toggleable__label-arrow\">KMeans</label><div class=\"sk-toggleable__content\"><pre>KMeans(n_clusters=6)</pre></div></div></div></div></div>"
      ],
      "text/plain": [
       "KMeans(n_clusters=6)"
      ]
     },
     "execution_count": 46,
     "metadata": {},
     "output_type": "execute_result"
    }
   ],
   "source": [
    "model = KMeans(n_clusters = 6)\n",
    "model.fit(df_norm)"
   ]
  },
  {
   "cell_type": "code",
   "execution_count": 53,
   "metadata": {},
   "outputs": [],
   "source": [
    "md_k = pd.Series(model.labels_)\n",
    "df_norm['clust_h'] = md_h\n",
    "df_norm['clust_k'] = md_k"
   ]
  },
  {
   "cell_type": "code",
   "execution_count": 54,
   "metadata": {},
   "outputs": [
    {
     "data": {
      "text/html": [
       "<div>\n",
       "<style scoped>\n",
       "    .dataframe tbody tr th:only-of-type {\n",
       "        vertical-align: middle;\n",
       "    }\n",
       "\n",
       "    .dataframe tbody tr th {\n",
       "        vertical-align: top;\n",
       "    }\n",
       "\n",
       "    .dataframe thead th {\n",
       "        text-align: right;\n",
       "    }\n",
       "</style>\n",
       "<table border=\"1\" class=\"dataframe\">\n",
       "  <thead>\n",
       "    <tr style=\"text-align: right;\">\n",
       "      <th></th>\n",
       "      <th>fixed acidity</th>\n",
       "      <th>volatile acidity</th>\n",
       "      <th>citric acid</th>\n",
       "      <th>residual sugar</th>\n",
       "      <th>chlorides</th>\n",
       "      <th>free sulfur dioxide</th>\n",
       "      <th>total sulfur dioxide</th>\n",
       "      <th>density</th>\n",
       "      <th>pH</th>\n",
       "      <th>sulphates</th>\n",
       "      <th>alcohol</th>\n",
       "      <th>quality</th>\n",
       "      <th>clust_h</th>\n",
       "      <th>clust_k</th>\n",
       "    </tr>\n",
       "  </thead>\n",
       "  <tbody>\n",
       "    <tr>\n",
       "      <th>0</th>\n",
       "      <td>0.247788</td>\n",
       "      <td>0.397260</td>\n",
       "      <td>0.00</td>\n",
       "      <td>0.068493</td>\n",
       "      <td>0.106845</td>\n",
       "      <td>0.140845</td>\n",
       "      <td>0.098940</td>\n",
       "      <td>0.567548</td>\n",
       "      <td>0.606299</td>\n",
       "      <td>0.137725</td>\n",
       "      <td>0.153846</td>\n",
       "      <td>0.4</td>\n",
       "      <td>1</td>\n",
       "      <td>1</td>\n",
       "    </tr>\n",
       "    <tr>\n",
       "      <th>1</th>\n",
       "      <td>0.283186</td>\n",
       "      <td>0.520548</td>\n",
       "      <td>0.00</td>\n",
       "      <td>0.116438</td>\n",
       "      <td>0.143573</td>\n",
       "      <td>0.338028</td>\n",
       "      <td>0.215548</td>\n",
       "      <td>0.494126</td>\n",
       "      <td>0.362205</td>\n",
       "      <td>0.209581</td>\n",
       "      <td>0.215385</td>\n",
       "      <td>0.4</td>\n",
       "      <td>1</td>\n",
       "      <td>1</td>\n",
       "    </tr>\n",
       "    <tr>\n",
       "      <th>2</th>\n",
       "      <td>0.283186</td>\n",
       "      <td>0.438356</td>\n",
       "      <td>0.04</td>\n",
       "      <td>0.095890</td>\n",
       "      <td>0.133556</td>\n",
       "      <td>0.197183</td>\n",
       "      <td>0.169611</td>\n",
       "      <td>0.508811</td>\n",
       "      <td>0.409449</td>\n",
       "      <td>0.191617</td>\n",
       "      <td>0.215385</td>\n",
       "      <td>0.4</td>\n",
       "      <td>1</td>\n",
       "      <td>1</td>\n",
       "    </tr>\n",
       "    <tr>\n",
       "      <th>3</th>\n",
       "      <td>0.584071</td>\n",
       "      <td>0.109589</td>\n",
       "      <td>0.56</td>\n",
       "      <td>0.068493</td>\n",
       "      <td>0.105175</td>\n",
       "      <td>0.225352</td>\n",
       "      <td>0.190813</td>\n",
       "      <td>0.582232</td>\n",
       "      <td>0.330709</td>\n",
       "      <td>0.149701</td>\n",
       "      <td>0.215385</td>\n",
       "      <td>0.6</td>\n",
       "      <td>3</td>\n",
       "      <td>0</td>\n",
       "    </tr>\n",
       "    <tr>\n",
       "      <th>4</th>\n",
       "      <td>0.247788</td>\n",
       "      <td>0.397260</td>\n",
       "      <td>0.00</td>\n",
       "      <td>0.068493</td>\n",
       "      <td>0.106845</td>\n",
       "      <td>0.140845</td>\n",
       "      <td>0.098940</td>\n",
       "      <td>0.567548</td>\n",
       "      <td>0.606299</td>\n",
       "      <td>0.137725</td>\n",
       "      <td>0.153846</td>\n",
       "      <td>0.4</td>\n",
       "      <td>1</td>\n",
       "      <td>1</td>\n",
       "    </tr>\n",
       "  </tbody>\n",
       "</table>\n",
       "</div>"
      ],
      "text/plain": [
       "   fixed acidity  volatile acidity  citric acid  residual sugar  chlorides  \\\n",
       "0       0.247788          0.397260         0.00        0.068493   0.106845   \n",
       "1       0.283186          0.520548         0.00        0.116438   0.143573   \n",
       "2       0.283186          0.438356         0.04        0.095890   0.133556   \n",
       "3       0.584071          0.109589         0.56        0.068493   0.105175   \n",
       "4       0.247788          0.397260         0.00        0.068493   0.106845   \n",
       "\n",
       "   free sulfur dioxide  total sulfur dioxide   density        pH  sulphates  \\\n",
       "0             0.140845              0.098940  0.567548  0.606299   0.137725   \n",
       "1             0.338028              0.215548  0.494126  0.362205   0.209581   \n",
       "2             0.197183              0.169611  0.508811  0.409449   0.191617   \n",
       "3             0.225352              0.190813  0.582232  0.330709   0.149701   \n",
       "4             0.140845              0.098940  0.567548  0.606299   0.137725   \n",
       "\n",
       "    alcohol  quality  clust_h  clust_k  \n",
       "0  0.153846      0.4        1        1  \n",
       "1  0.215385      0.4        1        1  \n",
       "2  0.215385      0.4        1        1  \n",
       "3  0.215385      0.6        3        0  \n",
       "4  0.153846      0.4        1        1  "
      ]
     },
     "execution_count": 54,
     "metadata": {},
     "output_type": "execute_result"
    }
   ],
   "source": [
    "df_norm.head()"
   ]
  },
  {
   "cell_type": "code",
   "execution_count": 55,
   "metadata": {},
   "outputs": [
    {
     "data": {
      "text/plain": [
       "array([[0.58281681, 0.20571516, 0.51311741, 0.13426876, 0.13123762,\n",
       "        0.1391344 , 0.09203016, 0.6563401 , 0.33176066, 0.22262358,\n",
       "        0.29247379, 0.54736842],\n",
       "       [0.26456162, 0.35935938, 0.12351085, 0.0913985 , 0.12284774,\n",
       "        0.14391477, 0.10735219, 0.49237691, 0.48585939, 0.15538154,\n",
       "        0.21965812, 0.44023669],\n",
       "       [0.17610619, 0.32432996, 0.08913043, 0.09416319, 0.09608042,\n",
       "        0.24856093, 0.12292211, 0.32587627, 0.57733653, 0.18516011,\n",
       "        0.48637681, 0.61043478],\n",
       "       [0.36379305, 0.15772664, 0.42168539, 0.10422759, 0.10550668,\n",
       "        0.16162895, 0.08369397, 0.41361019, 0.41974107, 0.23694185,\n",
       "        0.48326131, 0.69438202],\n",
       "       [0.31605165, 0.27724649, 0.30314465, 0.15165417, 0.12688338,\n",
       "        0.38070245, 0.29733093, 0.53861552, 0.43685931, 0.17886868,\n",
       "        0.21444928, 0.45534591],\n",
       "       [0.33716814, 0.29223744, 0.48133333, 0.07557078, 0.53789649,\n",
       "        0.20938967, 0.21071849, 0.5143906 , 0.2335958 , 0.59001996,\n",
       "        0.16512821, 0.46666667]])"
      ]
     },
     "execution_count": 55,
     "metadata": {},
     "output_type": "execute_result"
    }
   ],
   "source": [
    "model.cluster_centers_"
   ]
  },
  {
   "cell_type": "code",
   "execution_count": 56,
   "metadata": {},
   "outputs": [
    {
     "data": {
      "text/plain": [
       "186.5514169465971"
      ]
     },
     "execution_count": 56,
     "metadata": {},
     "output_type": "execute_result"
    }
   ],
   "source": [
    "model.inertia_"
   ]
  },
  {
   "cell_type": "markdown",
   "metadata": {},
   "source": [
    "### Metodo del codo\n",
    "\n",
    "forma para medir la compacidad de las observacione del cluster,¿que tan compacto es?\n",
    "\n",
    "- medimos la distancia intra cluster y la distancia al baricentro respectivo \n"
   ]
  },
  {
   "cell_type": "markdown",
   "metadata": {},
   "source": [
    "#### coeficiente de la silueta\n",
    "cuantifica que tambien  esta unido el punto al resto de puntos del mismo cluster, es decir cuan compacto y cuan alejado se encuentra el punto con respecto al cluster que tiene más cerca\n"
   ]
  },
  {
   "cell_type": "markdown",
   "metadata": {},
   "source": [
    "Dado un punto cualquiera del dataset, definimos:\n",
    "* como de ben el punto está unido respecto al resto de puntos de su cluster\n",
    "a(i): promedio de las distancias del punto i a cada uno de los otros puntos del mismo cluster\n",
    "* como de bien esta el punto seprado de lso puntos del cluster vecino mas cercano\n",
    "b(i): la menor distancia promedio del punto i a cualquier otro cluster que no contenga i (el vecino mas cercano)"
   ]
  },
  {
   "cell_type": "markdown",
   "metadata": {},
   "source": [
    "$S_{i} = \\frac{b_{i}-a_{i}}{max(a_{i},b_{i}) }$\n",
    "\n",
    "$S_{i}=$\n",
    " * $1- \\frac{a_{i}}{b_{i}}$ si ${a_{i}}<{b_{i}}$\n",
    " * 0 si  ${a_{i}}={b_{i}}$\n",
    " * $\\frac{b_{i}}{a_{i}} -1$ si ${a_{i}}>{b_{i}}$"
   ]
  },
  {
   "cell_type": "markdown",
   "metadata": {},
   "source": [
    "* Cuando s(i) tiende a 1, entonces a(i)< b(i) y por tanto el punto esta bien clasificado\n",
    "* Cuando s(i) tiende a -1, entonces a(i)> b(i) y por tanto el punto estaría mejor en el cluster vecino\n",
    "* El promedio de s(i) sobre todos los puntos de un cluster nos informa que tan bien agrupados estan los puntos\n",
    "\n",
    "El promedio de los coeficientes de la silueta de todos los puntos del dataset se puede usar para decidir el numero optimo de clusters:\n",
    "\n",
    "1. Empezamos con dos clusters y calculamos la silueta de cada cluster\n",
    "\n",
    "2. Calculamos la silueta promedio de todo el dataset\n",
    "\n",
    "3. Si la silueta promedio de algun cluster es muy inferior al promedio global, el numero de clusters es suboptimo y debemos agregar uno mas\n",
    "\n",
    "4. Repetimos los pasos 1 a 3 para diferentes numeros de clusters hasta alcanzar un valor optimo segun el contexto o siluetas similares\n",
    "\n",
    "5. Decidimos el candidato potencial en funcion de los resultados obtenidos"
   ]
  },
  {
   "cell_type": "code",
   "execution_count": 5,
   "metadata": {},
   "outputs": [],
   "source": [
    "x1 = np.array([3,1,1,2,1,6,6,6,5,6,7,8,9,8,9,9,8])\n",
    "x2 = np.array([5,4,5,6,5,8,6,7,6,7,1,2,1,2,3,2,3])\n",
    "\n",
    "X = np.array(list(zip(x1,x2))).reshape(len(x1),2)"
   ]
  },
  {
   "cell_type": "code",
   "execution_count": 6,
   "metadata": {},
   "outputs": [
    {
     "data": {
      "image/png": "[encoded data removed]",
      "text/plain": [
       "<Figure size 432x288 with 1 Axes>"
      ]
     },
     "metadata": {
      "needs_background": "light"
     },
     "output_type": "display_data"
    }
   ],
   "source": [
    "plt.plot()\n",
    "plt.xlim([0,10])\n",
    "plt.ylim([0,10])\n",
    "plt.title(\"Dataset a clasificar\")\n",
    "plt.xlabel(\"x\")\n",
    "plt.ylabel(\"y\")\n",
    "plt.scatter(x1,x2)\n",
    "plt.show()"
   ]
  },
  {
   "cell_type": "code",
   "execution_count": 21,
   "metadata": {},
   "outputs": [
    {
     "name": "stderr",
     "output_type": "stream",
     "text": [
      "/Users/linatobon/opt/anaconda3/lib/python3.8/site-packages/sklearn/cluster/_kmeans.py:890: FutureWarning: The default value of `n_init` will change from 10 to 'auto' in 1.4. Set the value of `n_init` explicitly to suppress the warning\n",
      "  warnings.warn(\n"
     ]
    },
    {
     "data": {
      "image/png": "[encoded data removed]",
      "text/plain": [
       "<Figure size 432x288 with 1 Axes>"
      ]
     },
     "metadata": {
      "needs_background": "light"
     },
     "output_type": "display_data"
    },
    {
     "name": "stdout",
     "output_type": "stream",
     "text": [
      "Para k =  2 el promedio de la silueta es de: 0.6113424368705715\n",
      " - Para i =  1 la silueta del cluster vale  0.49704450958269375\n",
      " - Para i =  2 la silueta del cluster vale  0.7746251901389686\n"
     ]
    },
    {
     "name": "stderr",
     "output_type": "stream",
     "text": [
      "/Users/linatobon/opt/anaconda3/lib/python3.8/site-packages/sklearn/cluster/_kmeans.py:890: FutureWarning: The default value of `n_init` will change from 10 to 'auto' in 1.4. Set the value of `n_init` explicitly to suppress the warning\n",
      "  warnings.warn(\n"
     ]
    },
    {
     "data": {
      "image/png": "[encoded data removed]",
      "text/plain": [
       "<Figure size 1440x576 with 2 Axes>"
      ]
     },
     "metadata": {
      "needs_background": "light"
     },
     "output_type": "display_data"
    },
    {
     "name": "stderr",
     "output_type": "stream",
     "text": [
      "/Users/linatobon/opt/anaconda3/lib/python3.8/site-packages/sklearn/cluster/_kmeans.py:890: FutureWarning: The default value of `n_init` will change from 10 to 'auto' in 1.4. Set the value of `n_init` explicitly to suppress the warning\n",
      "  warnings.warn(\n"
     ]
    },
    {
     "name": "stdout",
     "output_type": "stream",
     "text": [
      "Para k =  3 el promedio de la silueta es de: 0.7122079383287169\n",
      " - Para i =  1 la silueta del cluster vale  0.7322200728725188\n",
      " - Para i =  2 la silueta del cluster vale  0.7345257364682265\n",
      " - Para i =  3 la silueta del cluster vale  0.6609508863896014\n"
     ]
    },
    {
     "data": {
      "image/png": "[encoded data removed]",
      "text/plain": [
       "<Figure size 1440x576 with 2 Axes>"
      ]
     },
     "metadata": {
      "needs_background": "light"
     },
     "output_type": "display_data"
    },
    {
     "name": "stderr",
     "output_type": "stream",
     "text": [
      "/Users/linatobon/opt/anaconda3/lib/python3.8/site-packages/sklearn/cluster/_kmeans.py:890: FutureWarning: The default value of `n_init` will change from 10 to 'auto' in 1.4. Set the value of `n_init` explicitly to suppress the warning\n",
      "  warnings.warn(\n"
     ]
    },
    {
     "name": "stdout",
     "output_type": "stream",
     "text": [
      "Para k =  4 el promedio de la silueta es de: 0.6389948643127632\n",
      " - Para i =  1 la silueta del cluster vale  0.655666655624379\n",
      " - Para i =  2 la silueta del cluster vale  0.7345257364682265\n",
      " - Para i =  3 la silueta del cluster vale  0.24096929517637128\n",
      " - Para i =  4 la silueta del cluster vale  0.654458796162702\n"
     ]
    },
    {
     "data": {
      "image/png": "[encoded data removed]",
      "text/plain": [
       "<Figure size 1440x576 with 2 Axes>"
      ]
     },
     "metadata": {
      "needs_background": "light"
     },
     "output_type": "display_data"
    },
    {
     "name": "stderr",
     "output_type": "stream",
     "text": [
      "/Users/linatobon/opt/anaconda3/lib/python3.8/site-packages/sklearn/cluster/_kmeans.py:890: FutureWarning: The default value of `n_init` will change from 10 to 'auto' in 1.4. Set the value of `n_init` explicitly to suppress the warning\n",
      "  warnings.warn(\n"
     ]
    },
    {
     "name": "stdout",
     "output_type": "stream",
     "text": [
      "Para k =  5 el promedio de la silueta es de: 0.46983374375750137\n",
      " - Para i =  1 la silueta del cluster vale  0.24096929517637128\n",
      " - Para i =  2 la silueta del cluster vale  0.37765685097302226\n",
      " - Para i =  3 la silueta del cluster vale  0.654458796162702\n",
      " - Para i =  4 la silueta del cluster vale  0.0\n",
      " - Para i =  5 la silueta del cluster vale  0.655666655624379\n"
     ]
    },
    {
     "data": {
      "image/png": "[encoded data removed]",
      "text/plain": [
       "<Figure size 1440x576 with 2 Axes>"
      ]
     },
     "metadata": {
      "needs_background": "light"
     },
     "output_type": "display_data"
    },
    {
     "name": "stderr",
     "output_type": "stream",
     "text": [
      "/Users/linatobon/opt/anaconda3/lib/python3.8/site-packages/sklearn/cluster/_kmeans.py:890: FutureWarning: The default value of `n_init` will change from 10 to 'auto' in 1.4. Set the value of `n_init` explicitly to suppress the warning\n",
      "  warnings.warn(\n"
     ]
    },
    {
     "name": "stdout",
     "output_type": "stream",
     "text": [
      "Para k =  6 el promedio de la silueta es de: 0.4159974962395202\n",
      " - Para i =  1 la silueta del cluster vale  0.655666655624379\n",
      " - Para i =  2 la silueta del cluster vale  0.37765685097302226\n",
      " - Para i =  3 la silueta del cluster vale  0.32882042637679976\n",
      " - Para i =  4 la silueta del cluster vale  0.24096929517637128\n",
      " - Para i =  5 la silueta del cluster vale  0.5664789734180768\n",
      " - Para i =  6 la silueta del cluster vale  0.0\n"
     ]
    },
    {
     "data": {
      "image/png": "[encoded data removed]",
      "text/plain": [
       "<Figure size 1440x576 with 2 Axes>"
      ]
     },
     "metadata": {
      "needs_background": "light"
     },
     "output_type": "display_data"
    },
    {
     "name": "stderr",
     "output_type": "stream",
     "text": [
      "/Users/linatobon/opt/anaconda3/lib/python3.8/site-packages/sklearn/cluster/_kmeans.py:890: FutureWarning: The default value of `n_init` will change from 10 to 'auto' in 1.4. Set the value of `n_init` explicitly to suppress the warning\n",
      "  warnings.warn(\n"
     ]
    },
    {
     "name": "stdout",
     "output_type": "stream",
     "text": [
      "Para k =  7 el promedio de la silueta es de: 0.32091008541413746\n",
      " - Para i =  1 la silueta del cluster vale  0.263812295212263\n",
      " - Para i =  2 la silueta del cluster vale  0.24096929517637128\n",
      " - Para i =  3 la silueta del cluster vale  0.30272654110449826\n",
      " - Para i =  4 la silueta del cluster vale  0.31700053499298475\n",
      " - Para i =  5 la silueta del cluster vale  0.0\n",
      " - Para i =  6 la silueta del cluster vale  0.0\n",
      " - Para i =  7 la silueta del cluster vale  0.655666655624379\n"
     ]
    },
    {
     "data": {
      "image/png": "[encoded data removed]",
      "text/plain": [
       "<Figure size 1440x576 with 2 Axes>"
      ]
     },
     "metadata": {
      "needs_background": "light"
     },
     "output_type": "display_data"
    },
    {
     "name": "stderr",
     "output_type": "stream",
     "text": [
      "/Users/linatobon/opt/anaconda3/lib/python3.8/site-packages/sklearn/cluster/_kmeans.py:890: FutureWarning: The default value of `n_init` will change from 10 to 'auto' in 1.4. Set the value of `n_init` explicitly to suppress the warning\n",
      "  warnings.warn(\n"
     ]
    },
    {
     "name": "stdout",
     "output_type": "stream",
     "text": [
      "Para k =  8 el promedio de la silueta es de: 0.2860313715043606\n",
      " - Para i =  1 la silueta del cluster vale  0.6152265411044983\n",
      " - Para i =  2 la silueta del cluster vale  0.30004208861569454\n",
      " - Para i =  3 la silueta del cluster vale  0.30272654110449826\n",
      " - Para i =  4 la silueta del cluster vale  0.0\n",
      " - Para i =  5 la silueta del cluster vale  0.0\n",
      " - Para i =  6 la silueta del cluster vale  0.0\n",
      " - Para i =  7 la silueta del cluster vale  0.3028895866899326\n",
      " - Para i =  8 la silueta del cluster vale  0.0\n"
     ]
    },
    {
     "data": {
      "image/png": "[encoded data removed]",
      "text/plain": [
       "<Figure size 1440x576 with 2 Axes>"
      ]
     },
     "metadata": {
      "needs_background": "light"
     },
     "output_type": "display_data"
    },
    {
     "name": "stderr",
     "output_type": "stream",
     "text": [
      "/Users/linatobon/opt/anaconda3/lib/python3.8/site-packages/sklearn/cluster/_kmeans.py:890: FutureWarning: The default value of `n_init` will change from 10 to 'auto' in 1.4. Set the value of `n_init` explicitly to suppress the warning\n",
      "  warnings.warn(\n"
     ]
    },
    {
     "name": "stdout",
     "output_type": "stream",
     "text": [
      "Para k =  9 el promedio de la silueta es de: 0.3937168093786925\n",
      " - Para i =  1 la silueta del cluster vale  0.0\n",
      " - Para i =  2 la silueta del cluster vale  0.31256470041698214\n",
      " - Para i =  3 la silueta del cluster vale  0.5664789734180768\n",
      " - Para i =  4 la silueta del cluster vale  0.0\n",
      " - Para i =  5 la silueta del cluster vale  0.2751262658470836\n",
      " - Para i =  6 la silueta del cluster vale  0.3869086846339371\n",
      " - Para i =  7 la silueta del cluster vale  0.0\n",
      " - Para i =  8 la silueta del cluster vale  1.0\n",
      " - Para i =  9 la silueta del cluster vale  0.32882042637679976\n"
     ]
    },
    {
     "data": {
      "image/png": "[encoded data removed]",
      "text/plain": [
       "<Figure size 1440x576 with 2 Axes>"
      ]
     },
     "metadata": {
      "needs_background": "light"
     },
     "output_type": "display_data"
    }
   ],
   "source": [
    "max_k =10 # max numb de clusters\n",
    "K = range(1,max_k)\n",
    "ssv = []\n",
    "# generar un color por cluster\n",
    "color_palette = [plt.cm.Spectral(float(i)/max_k) for i in K]\n",
    "centroid = [sum(X)/len(X) for i in K]\n",
    "# suma de los cuadrados totales\n",
    "sst = sum(np.min(cdist(X,centroid,\"euclidean\"),axis =1))\n",
    "\n",
    "# para cada cluster\n",
    "for k in K:\n",
    "    kmeanModel = KMeans(n_clusters=k).fit(X)\n",
    "    centers = pd.DataFrame(kmeanModel.cluster_centers_)\n",
    "    labels = kmeanModel.labels_\n",
    "    # suma de distancias al baricentro\n",
    "    saw_k = sum(np.min(cdist(X,kmeanModel.cluster_centers_,\"euclidean\"),axis=1))\n",
    "    ssv.append(saw_k)\n",
    "    label_color = [color_palette[i] for i in labels]\n",
    "\n",
    "\n",
    "    ## dibujamos una silueta para cada cluster\n",
    "    if 1<k<len(X):\n",
    "        # Crear subplot una fila y dos columnas\n",
    "        fig,(axis1,axis2) = plt.subplots(1,2)\n",
    "        fig.set_size_inches(20,8)\n",
    "\n",
    "        # primer subplot contendrá la silueta, valores desde -1 a 1\n",
    "        axis1.set_xlim([-0.1,1.0])\n",
    "        # numero de clusters determina el tamaño de cda barra\n",
    "        axis1.set_ylim([0,len(X)+(k+1)*10])\n",
    "        silhouette_avg = silhouette_score(X,labels)\n",
    "        print(\"Para k = \",k,\"el promedio de la silueta es de:\",silhouette_avg)\n",
    "        sample_silhouette_values = silhouette_samples(X,labels)\n",
    "        \n",
    "        y_lower = 10\n",
    "        for i in range(k):\n",
    "            # agregamos la silueta del cluster k\n",
    "            ith_cluster = sample_silhouette_values[labels == i]\n",
    "            print(\" - Para i = \",i+1,\"la silueta del cluster vale \",np.mean(ith_cluster))\n",
    "            # donde poner la primera silueta en el eje verticla\n",
    "            ith_cluster.sort()\n",
    "            ith_cluster_size = ith_cluster.shape[0]\n",
    "            y_upper = y_lower+ith_cluster_size\n",
    "\n",
    "            # elegimos el clor del cluster\n",
    "            color = color_palette[i]\n",
    "\n",
    "            # pintamos la silueta del cluster iesimo\n",
    "            axis1.fill_betweenx(np.arange(y_lower,y_upper),0,\n",
    "                                ith_cluster,facecolor= color,alpha=0.7)\n",
    "\n",
    "            # etiquetar cluster\n",
    "            axis1.text(-0.05,y_lower+0.5*ith_cluster_size,str(i+1))\n",
    "\n",
    "            # calculamos el nuevo y_lower\n",
    "            y_lower = y_upper+10\n",
    "        axis1.set_title(\"Representacion de la silueta para k =%s\"%str(k))\n",
    "    plt.plot()\n",
    "    plt.xlim([0,10])\n",
    "    plt.ylim([0,10])\n",
    "    plt.title(\"Clustering para k=%s\"%str(k))\n",
    "    plt.scatter(x1,x2,c=label_color)\n",
    "    plt.scatter(centers[0],centers[1],c=color_palette[0:len(centers)],marker=\"x\")\n",
    "    plt.show()\n",
    "\n",
    "\n"
   ]
  },
  {
   "cell_type": "code",
   "execution_count": 23,
   "metadata": {},
   "outputs": [
    {
     "data": {
      "image/png": "[encoded data removed]",
      "text/plain": [
       "<Figure size 432x288 with 1 Axes>"
      ]
     },
     "metadata": {
      "needs_background": "light"
     },
     "output_type": "display_data"
    }
   ],
   "source": [
    "# Representacion del codo\n",
    "plt.plot(K,ssv,\"bx-\")\n",
    "plt.xlabel(\"k\")\n",
    "plt.ylabel(\"SSv(k)\")\n",
    "plt.title(\"técinca del codo\")\n",
    "plt.show()"
   ]
  },
  {
   "cell_type": "code",
   "execution_count": 24,
   "metadata": {},
   "outputs": [
    {
     "data": {
      "image/png": "[encoded data removed]",
      "text/plain": [
       "<Figure size 432x288 with 1 Axes>"
      ]
     },
     "metadata": {
      "needs_background": "light"
     },
     "output_type": "display_data"
    }
   ],
   "source": [
    "# Representacion del codo normalizado\n",
    "plt.plot(K,1-ssv/sst,\"bx-\")\n",
    "plt.xlabel(\"k\")\n",
    "plt.ylabel(\"1-normSSv(k)\")\n",
    "plt.title(\"técinca del codo normalizado\")\n",
    "plt.show()"
   ]
  },
  {
   "cell_type": "markdown",
   "metadata": {},
   "source": [
    "### Propagacion de afinidad\n",
    "\n",
    "Clustering con transferencia de mensajes entre los puntos del dataset.\n",
    "intenta encontrar de forma automatica el numero de clusters a partir de los puntos del data set.\n",
    "\n",
    "* Toma una matriz de similaridades como entrada de datos. Por ejemplo se toma por matriz de similaridades las inverzas de las distancias euclidianas.De modo que hay puntos que son muy parecidos que están muy cercanos en distancia que resultan estar con una similaridad muy elevada.\n",
    "* Matriz de responsabilidad\n",
    "* Matriz de disponibilidad"
   ]
  }
 ],
 "metadata": {
  "kernelspec": {
   "display_name": "ml_env",
   "language": "python",
   "name": "python3"
  },
  "language_info": {
   "codemirror_mode": {
    "name": "ipython",
    "version": 3
   },
   "file_extension": ".py",
   "mimetype": "text/x-python",
   "name": "python",
   "nbconvert_exporter": "python",
   "pygments_lexer": "ipython3",
   "version": "3.8.8"
  },
  "orig_nbformat": 4
 },
 "nbformat": 4,
 "nbformat_minor": 2
}
