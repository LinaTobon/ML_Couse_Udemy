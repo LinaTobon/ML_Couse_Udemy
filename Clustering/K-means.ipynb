{
 "cells": [
  {
   "cell_type": "markdown",
   "metadata": {},
   "source": [
    "### Clustering con K-means\n",
    "\n",
    "Divide los datos ek k grupos, k tiene que ser definido a priori.\n",
    "El método calcula los centroides que formarán parte en la etapa inicial del modelo.\n",
    "El centroide de los clusters se seguirá actualizando basandonos en las observaciones de los nuevos clusters generados en las siguientes etapas del algoritmo.\n",
    "\n",
    "**Objetivo**\n",
    "Encontrar una configuracion de clusters y baricentros que minimice la funcion que tenemos y que minimice para dos puntos cualquiera del mismo cluster la suma de los cuadrados de las distancias.\n",
    "** Minimiza la distancia intra cluster**\n",
    "\n",
    "**Metodo:**\n",
    "\n",
    "1. Se calculan los centroides de los k clusters iniciales\n",
    "2. Se asigna cada punto del dataset al cluster del centroide que le queda mas cerca y se reconfigura el cluster\n",
    "3. Recalculamos el baricentro de las observaciones\n",
    "4. Reasignamos cada punto al centroide que le quede mas cerca,hasta que ninguna de las observaciones sea asignada a un cluster diferente al cual pertenece.\n"
   ]
  },
  {
   "cell_type": "code",
   "execution_count": 4,
   "metadata": {},
   "outputs": [],
   "source": [
    "from IPython.display import display, Math, Latex"
   ]
  },
  {
   "cell_type": "markdown",
   "metadata": {},
   "source": [
    "**Distancia intra cluster**\n",
    "\n",
    "$SS_{w}(C_{j}) = \\sum_{}^{}(x-c_{j})^{2}$\n",
    "\n",
    "**Distancia intra cluster normalizada**\n",
    "\n",
    "$SS_{w} = \\frac{\\sum_{j=1}^{k}(x-c_{j})^{2}}{\\sum_{i=1}^{n}(x-\\bar{x})^{2} }$"
   ]
  }
 ],
 "metadata": {
  "kernelspec": {
   "display_name": "ml_env",
   "language": "python",
   "name": "python3"
  },
  "language_info": {
   "codemirror_mode": {
    "name": "ipython",
    "version": 3
   },
   "file_extension": ".py",
   "mimetype": "text/x-python",
   "name": "python",
   "nbconvert_exporter": "python",
   "pygments_lexer": "ipython3",
   "version": "3.8.8"
  },
  "orig_nbformat": 4
 },
 "nbformat": 4,
 "nbformat_minor": 2
}
