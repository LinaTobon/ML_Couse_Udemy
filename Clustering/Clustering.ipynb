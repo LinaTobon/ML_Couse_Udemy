{
 "cells": [
  {
   "cell_type": "code",
   "execution_count": 2,
   "metadata": {},
   "outputs": [],
   "source": [
    "#!pip install matplotlib --quiet\n",
    "#!pip install scipy --quiet\n",
    "#!pip install pandas --quiet"
   ]
  },
  {
   "cell_type": "code",
   "execution_count": 3,
   "metadata": {},
   "outputs": [],
   "source": [
    "import matplotlib.pyplot as plt\n",
    "from scipy.cluster.hierarchy import linkage,cophenet,dendrogram\n",
    "from scipy.spatial.distance import pdist\n",
    "import numpy as np\n",
    "from scipy.spatial import distance_matrix\n",
    "import pandas as pd\n",
    "from mpl_toolkits.mplot3d import Axes3D"
   ]
  },
  {
   "cell_type": "markdown",
   "metadata": {},
   "source": [
    "#### Tipos de distancias\n",
    "**Distancia de Manhattan:** numero de calles o manzanas que separan un punto de otro.la distancia entre dos puntos es la suma de las diferencias absolutas de sus coordenadas. Es decir, es la suma de las longitudes de los dos catetos del triángulo rectangulo.\n",
    "\n",
    "**Distancia Euclidea** d(A,B) entre los puntos A y B, ubicados sobre una recta, como la raíz cuadrada del cuadrado de las diferencias de sus coordenadas\n",
    "\n",
    "**Distancia de Minkowski**"
   ]
  },
  {
   "cell_type": "code",
   "execution_count": 4,
   "metadata": {},
   "outputs": [],
   "source": [
    "data =  pd.read_csv(\"../datasets/movies/movies.csv\",sep=\";\")"
   ]
  },
  {
   "cell_type": "code",
   "execution_count": 5,
   "metadata": {},
   "outputs": [
    {
     "data": {
      "text/html": [
       "<div>\n",
       "<style scoped>\n",
       "    .dataframe tbody tr th:only-of-type {\n",
       "        vertical-align: middle;\n",
       "    }\n",
       "\n",
       "    .dataframe tbody tr th {\n",
       "        vertical-align: top;\n",
       "    }\n",
       "\n",
       "    .dataframe thead th {\n",
       "        text-align: right;\n",
       "    }\n",
       "</style>\n",
       "<table border=\"1\" class=\"dataframe\">\n",
       "  <thead>\n",
       "    <tr style=\"text-align: right;\">\n",
       "      <th></th>\n",
       "      <th>user_id</th>\n",
       "      <th>star_wars</th>\n",
       "      <th>lord_of_the_rings</th>\n",
       "      <th>harry_potter</th>\n",
       "    </tr>\n",
       "  </thead>\n",
       "  <tbody>\n",
       "    <tr>\n",
       "      <th>0</th>\n",
       "      <td>1</td>\n",
       "      <td>1.2</td>\n",
       "      <td>4.9</td>\n",
       "      <td>2.1</td>\n",
       "    </tr>\n",
       "    <tr>\n",
       "      <th>1</th>\n",
       "      <td>2</td>\n",
       "      <td>2.1</td>\n",
       "      <td>8.1</td>\n",
       "      <td>7.9</td>\n",
       "    </tr>\n",
       "    <tr>\n",
       "      <th>2</th>\n",
       "      <td>3</td>\n",
       "      <td>7.4</td>\n",
       "      <td>3.0</td>\n",
       "      <td>9.9</td>\n",
       "    </tr>\n",
       "    <tr>\n",
       "      <th>3</th>\n",
       "      <td>4</td>\n",
       "      <td>5.6</td>\n",
       "      <td>0.5</td>\n",
       "      <td>1.8</td>\n",
       "    </tr>\n",
       "    <tr>\n",
       "      <th>4</th>\n",
       "      <td>5</td>\n",
       "      <td>1.5</td>\n",
       "      <td>8.3</td>\n",
       "      <td>2.6</td>\n",
       "    </tr>\n",
       "  </tbody>\n",
       "</table>\n",
       "</div>"
      ],
      "text/plain": [
       "   user_id  star_wars  lord_of_the_rings  harry_potter\n",
       "0        1        1.2                4.9           2.1\n",
       "1        2        2.1                8.1           7.9\n",
       "2        3        7.4                3.0           9.9\n",
       "3        4        5.6                0.5           1.8\n",
       "4        5        1.5                8.3           2.6"
      ]
     },
     "execution_count": 5,
     "metadata": {},
     "output_type": "execute_result"
    }
   ],
   "source": [
    "data.head()"
   ]
  },
  {
   "cell_type": "code",
   "execution_count": 6,
   "metadata": {},
   "outputs": [],
   "source": [
    "movies = data.columns.values.tolist()[1:]"
   ]
  },
  {
   "cell_type": "code",
   "execution_count": 7,
   "metadata": {},
   "outputs": [
    {
     "data": {
      "text/plain": [
       "['star_wars', 'lord_of_the_rings', 'harry_potter']"
      ]
     },
     "execution_count": 7,
     "metadata": {},
     "output_type": "execute_result"
    }
   ],
   "source": [
    "movies"
   ]
  },
  {
   "cell_type": "code",
   "execution_count": 8,
   "metadata": {},
   "outputs": [],
   "source": [
    "dd1 = distance_matrix(data[movies],data[movies],p=1)\n",
    "dd2 = distance_matrix(data[movies],data[movies],p=2)\n",
    "dd3 = distance_matrix(data[movies],data[movies],p=3)"
   ]
  },
  {
   "cell_type": "code",
   "execution_count": 9,
   "metadata": {},
   "outputs": [],
   "source": [
    "def dd_to_df(dd,col_name):\n",
    "    return pd.DataFrame(dd,index=col_name,columns=col_name)"
   ]
  },
  {
   "cell_type": "code",
   "execution_count": 10,
   "metadata": {},
   "outputs": [],
   "source": [
    "df_dd1 = dd_to_df(dd1,data[\"user_id\"])\n",
    "df_dd2 = dd_to_df(dd2,data[\"user_id\"])\n",
    "df_dd3 = dd_to_df(dd3,data[\"user_id\"])"
   ]
  },
  {
   "cell_type": "code",
   "execution_count": 11,
   "metadata": {},
   "outputs": [
    {
     "data": {
      "text/plain": [
       "0    1.2\n",
       "1    2.1\n",
       "2    7.4\n",
       "3    5.6\n",
       "4    1.5\n",
       "5    2.5\n",
       "6    2.0\n",
       "7    1.8\n",
       "8    2.6\n",
       "9    1.5\n",
       "Name: star_wars, dtype: float64"
      ]
     },
     "execution_count": 11,
     "metadata": {},
     "output_type": "execute_result"
    }
   ],
   "source": [
    "data[movies[0]]"
   ]
  },
  {
   "cell_type": "code",
   "execution_count": 12,
   "metadata": {},
   "outputs": [
    {
     "data": {
      "text/plain": [
       "<mpl_toolkits.mplot3d.art3d.Path3DCollection at 0x7fc240e3bd30>"
      ]
     },
     "execution_count": 12,
     "metadata": {},
     "output_type": "execute_result"
    },
    {
     "data": {
      "image/png": "[encoded data removed]",
      "text/plain": [
       "<Figure size 432x288 with 1 Axes>"
      ]
     },
     "metadata": {
      "needs_background": "light"
     },
     "output_type": "display_data"
    }
   ],
   "source": [
    "fig = plt.figure()\n",
    "ax = fig.add_subplot(111,projection='3d')\n",
    "ax.scatter(xs=data[movies[0]],ys=data[movies[1]],zs=data[movies[2]])"
   ]
  },
  {
   "cell_type": "markdown",
   "metadata": {},
   "source": [
    "#### Normalizacion de distancias\n",
    "Cuando las variables no tienen el mimsmo rango.\n",
    "\n"
   ]
  },
  {
   "cell_type": "markdown",
   "metadata": {},
   "source": [
    "### Clustering\n",
    "Se dividen en métodos aglomerativos o disociativos.\n",
    "\n",
    "* Agrupar clusters para crear uno nuevo\n",
    "* Separar cluster existente para dar origen a otros dos,para que sucesivamente se lleve a cabo se lleve el proceso de aglomeración o division minimizando alguna distancia o maximizando medida de similitud.\n",
    "\n",
    "**Aglomerativos:** se inicia con un numero de clusters igual al numero de individuos o puntos, a partir de estos clusters individuales se van formando grupos de forma ascendente hasta que al final del proceso se llegue a un unico cluster comun.\n",
    "\n",
    "**Disociativos:** se inicia con un unico cluster englobando todos los puntos del dataset y a partir de sucesivas divisiones se van formando grupos cada vez mas pequeños.Al final del proceso tendremos tantos grupos como casos tratados.\n"
   ]
  },
  {
   "cell_type": "markdown",
   "metadata": {},
   "source": [
    "#### Métodos de enlace\n",
    "* Enlace simple: la distancia entre dos clusters es el minimo de las distancias entre cualquier par de puntos del cluster1 y el cluster 2\n",
    "\n",
    "* Enlace completo: juntar los clusters basandonos en el maximo de las distancias entre cualquier par de puntos del cluster 1 y el cluster 2.\n",
    "\n",
    "* Enlace promedio: la distancia entre dos clusters es el promedio de las distancias entre cualquier dos puntos del cluster 1 y el cluster 2.\n",
    "\n",
    "* Enlace del centroide: la distancia entre dos clusters es la distancia entre el centroide (punto medio) del cluster1 y el centroide (punto medio) del cluster2.\n",
    "\n",
    "* Enlace de Ward: método jerarquico donde en cada etapa se unen los dos clusters que provoquen un menor incremento en el valor total de la suma de los cuadrados de las varianzas. Minimizamos para cada cluster las distancias de los puntos que lo conforman al centroide."
   ]
  },
  {
   "cell_type": "markdown",
   "metadata": {},
   "source": [
    "### Clustering jerarquico\n",
    "\n",
    "Metodo aglomerativo donde cada punto empieza siendo un unico cluster y en cada paso los vamos juntando hasta tener u unico cluster basado en las similitudes entre observaciones.\n",
    "\n",
    "**Pasos**\n",
    "\n",
    "1. Empezamos con cada obervacion en un cluster (tenemos N clusters)\n",
    "2. Encontramos la menor distancia en la matriz de distancias y unimos las dos observaciones en un nuevo cluster\n",
    "3. Recalculamos las distancias entre los clusters antiguos y el nuevo recien creado con alguno de los metodos de enlace\n",
    "4. Repetimos los pasos 2 y 3 hasta tener un unico cluster con las N observaciones"
   ]
  },
  {
   "cell_type": "code",
   "execution_count": 13,
   "metadata": {},
   "outputs": [],
   "source": [
    "Z = linkage(data[movies],method=\"ward\")"
   ]
  },
  {
   "cell_type": "code",
   "execution_count": 14,
   "metadata": {},
   "outputs": [
    {
     "data": {
      "text/plain": [
       "array([[ 0.        ,  9.        ,  0.41231056,  2.        ],\n",
       "       [ 1.        ,  6.        ,  0.6164414 ,  2.        ],\n",
       "       [ 4.        ,  7.        ,  2.16794834,  2.        ],\n",
       "       [ 3.        ,  8.        ,  3.48281495,  2.        ],\n",
       "       [ 5.        , 10.        ,  5.2943366 ,  3.        ],\n",
       "       [13.        , 14.        ,  6.59317829,  5.        ],\n",
       "       [11.        , 12.        ,  6.66408283,  4.        ],\n",
       "       [ 2.        , 15.        , 10.62355873,  6.        ],\n",
       "       [16.        , 17.        , 12.8156935 , 10.        ]])"
      ]
     },
     "execution_count": 14,
     "metadata": {},
     "output_type": "execute_result"
    }
   ],
   "source": [
    "Z"
   ]
  },
  {
   "cell_type": "code",
   "execution_count": 15,
   "metadata": {},
   "outputs": [
    {
     "data": {
      "image/png": "[encoded data removed]",
      "text/plain": [
       "<Figure size 1800x720 with 1 Axes>"
      ]
     },
     "metadata": {
      "needs_background": "light"
     },
     "output_type": "display_data"
    }
   ],
   "source": [
    "plt.figure(figsize=[25,10])\n",
    "plt.title(\"Dendograma jerarquico para el clustering\")\n",
    "plt.xlabel(\"ID de los usuarios\")\n",
    "plt.ylabel(\"Distancia\")\n",
    "dendrogram(Z,leaf_rotation=90)\n",
    "plt.show()"
   ]
  },
  {
   "cell_type": "code",
   "execution_count": 16,
   "metadata": {},
   "outputs": [
    {
     "name": "stdout",
     "output_type": "stream",
     "text": [
      "(150, 2)\n"
     ]
    },
    {
     "data": {
      "text/plain": [
       "<matplotlib.collections.PathCollection at 0x7fc240ee1310>"
      ]
     },
     "execution_count": 16,
     "metadata": {},
     "output_type": "execute_result"
    },
    {
     "data": {
      "image/png": "[encoded data removed]",
      "text/plain": [
       "<Figure size 432x288 with 1 Axes>"
      ]
     },
     "metadata": {
      "needs_background": "light"
     },
     "output_type": "display_data"
    }
   ],
   "source": [
    "np.random.seed(4711)\n",
    "\n",
    "a = np.random.multivariate_normal([10,0],[[3,1],[1,4]],size=[100,])\n",
    "b = np.random.multivariate_normal([0,20],[[3,1],[1,4]],size=[50,])\n",
    "X = np.concatenate((a,b))\n",
    "print(X.shape)\n",
    "plt.scatter(X[:,0],X[:,1])\n"
   ]
  },
  {
   "cell_type": "markdown",
   "metadata": {},
   "source": [
    "comprobar el coeficiente de correlacion cophenet, el cual compara las distancias dos a dos de los puntos con las que se llevaron a cabo en el clusterin jerarquico, entre mas similar sea 1 es mucho mejor ya que se conservan las distancias originales.\n",
    "\n",
    "  The cophenetic distance between two observations that have been clustered is defined to be the intergroup dissimilarity at which the two observations are first combined into a single cluster. Note that this distance has many ties and restrictions."
   ]
  },
  {
   "cell_type": "code",
   "execution_count": 17,
   "metadata": {},
   "outputs": [],
   "source": [
    "Z = linkage(X,\"ward\")\n",
    "c, coph_dist = cophenet(Z,pdist(X))"
   ]
  },
  {
   "cell_type": "code",
   "execution_count": 18,
   "metadata": {},
   "outputs": [
    {
     "data": {
      "text/plain": [
       "0.9800148387574268"
      ]
     },
     "execution_count": 18,
     "metadata": {},
     "output_type": "execute_result"
    }
   ],
   "source": [
    "c"
   ]
  },
  {
   "cell_type": "code",
   "execution_count": 19,
   "metadata": {},
   "outputs": [
    {
     "data": {
      "text/plain": [
       "array([[5.20000000e+01, 5.30000000e+01, 4.15105485e-02, 2.00000000e+00],\n",
       "       [1.40000000e+01, 7.90000000e+01, 5.91375926e-02, 2.00000000e+00],\n",
       "       [3.30000000e+01, 6.80000000e+01, 7.10677929e-02, 2.00000000e+00],\n",
       "       [1.70000000e+01, 7.30000000e+01, 7.13712071e-02, 2.00000000e+00],\n",
       "       [1.00000000e+00, 8.00000000e+00, 7.54313099e-02, 2.00000000e+00],\n",
       "       [8.50000000e+01, 9.50000000e+01, 1.09277896e-01, 2.00000000e+00],\n",
       "       [1.08000000e+02, 1.31000000e+02, 1.10071548e-01, 2.00000000e+00],\n",
       "       [9.00000000e+00, 6.60000000e+01, 1.13022407e-01, 2.00000000e+00],\n",
       "       [1.50000000e+01, 6.90000000e+01, 1.14289714e-01, 2.00000000e+00],\n",
       "       [6.30000000e+01, 9.80000000e+01, 1.21200766e-01, 2.00000000e+00],\n",
       "       [1.07000000e+02, 1.15000000e+02, 1.21671017e-01, 2.00000000e+00],\n",
       "       [6.50000000e+01, 7.40000000e+01, 1.24900190e-01, 2.00000000e+00],\n",
       "       [5.80000000e+01, 6.10000000e+01, 1.40277358e-01, 2.00000000e+00],\n",
       "       [6.20000000e+01, 1.52000000e+02, 1.72599535e-01, 3.00000000e+00],\n",
       "       [4.10000000e+01, 1.58000000e+02, 1.77901377e-01, 3.00000000e+00],\n",
       "       [1.00000000e+01, 8.30000000e+01, 1.86354938e-01, 2.00000000e+00],\n",
       "       [1.14000000e+02, 1.39000000e+02, 2.04186147e-01, 2.00000000e+00],\n",
       "       [3.90000000e+01, 8.80000000e+01, 2.06282849e-01, 2.00000000e+00],\n",
       "       [7.00000000e+01, 9.60000000e+01, 2.19312547e-01, 2.00000000e+00],\n",
       "       [4.60000000e+01, 5.00000000e+01, 2.20492804e-01, 2.00000000e+00],\n",
       "       [1.09000000e+02, 1.13000000e+02, 2.24986663e-01, 2.00000000e+00],\n",
       "       [3.10000000e+01, 8.00000000e+01, 2.32862816e-01, 2.00000000e+00],\n",
       "       [2.20000000e+01, 1.50000000e+02, 2.36078175e-01, 3.00000000e+00],\n",
       "       [2.80000000e+01, 3.50000000e+01, 2.42819974e-01, 2.00000000e+00],\n",
       "       [1.80000000e+01, 3.40000000e+01, 2.48389451e-01, 2.00000000e+00],\n",
       "       [1.05000000e+02, 1.37000000e+02, 2.59280405e-01, 2.00000000e+00],\n",
       "       [2.10000000e+01, 7.10000000e+01, 2.62001604e-01, 2.00000000e+00],\n",
       "       [3.00000000e+00, 3.20000000e+01, 2.66509630e-01, 2.00000000e+00],\n",
       "       [1.23000000e+02, 1.45000000e+02, 2.71913544e-01, 2.00000000e+00],\n",
       "       [1.10000000e+01, 4.40000000e+01, 2.91404524e-01, 2.00000000e+00],\n",
       "       [7.60000000e+01, 9.90000000e+01, 2.97093481e-01, 2.00000000e+00],\n",
       "       [4.70000000e+01, 5.90000000e+01, 2.99059799e-01, 2.00000000e+00],\n",
       "       [5.00000000e+00, 9.10000000e+01, 3.39202110e-01, 2.00000000e+00],\n",
       "       [9.00000000e+01, 1.81000000e+02, 3.39763724e-01, 3.00000000e+00],\n",
       "       [1.24000000e+02, 1.43000000e+02, 3.45214137e-01, 2.00000000e+00],\n",
       "       [4.30000000e+01, 5.50000000e+01, 3.45929445e-01, 2.00000000e+00],\n",
       "       [5.10000000e+01, 6.40000000e+01, 3.46553413e-01, 2.00000000e+00],\n",
       "       [5.40000000e+01, 9.70000000e+01, 3.55805293e-01, 2.00000000e+00],\n",
       "       [2.00000000e+00, 9.30000000e+01, 3.75562530e-01, 2.00000000e+00],\n",
       "       [1.00000000e+02, 1.60000000e+02, 3.80913085e-01, 3.00000000e+00],\n",
       "       [1.20000000e+01, 7.80000000e+01, 4.01472868e-01, 2.00000000e+00],\n",
       "       [1.18000000e+02, 1.33000000e+02, 4.05097832e-01, 2.00000000e+00],\n",
       "       [2.60000000e+01, 1.67000000e+02, 4.12133337e-01, 3.00000000e+00],\n",
       "       [8.20000000e+01, 1.63000000e+02, 4.18980543e-01, 4.00000000e+00],\n",
       "       [0.00000000e+00, 1.68000000e+02, 4.25362998e-01, 3.00000000e+00],\n",
       "       [1.44000000e+02, 1.56000000e+02, 4.43167352e-01, 3.00000000e+00],\n",
       "       [1.30000000e+02, 1.49000000e+02, 4.45787404e-01, 2.00000000e+00],\n",
       "       [1.54000000e+02, 1.64000000e+02, 4.60097743e-01, 5.00000000e+00],\n",
       "       [2.90000000e+01, 8.90000000e+01, 4.70335807e-01, 2.00000000e+00],\n",
       "       [1.02000000e+02, 1.47000000e+02, 4.71302568e-01, 2.00000000e+00],\n",
       "       [8.60000000e+01, 1.55000000e+02, 4.72173168e-01, 3.00000000e+00],\n",
       "       [1.01000000e+02, 1.34000000e+02, 4.78254332e-01, 2.00000000e+00],\n",
       "       [1.90000000e+01, 1.77000000e+02, 4.89484285e-01, 3.00000000e+00],\n",
       "       [6.00000000e+00, 8.40000000e+01, 4.99743222e-01, 2.00000000e+00],\n",
       "       [1.51000000e+02, 1.73000000e+02, 5.05199907e-01, 4.00000000e+00],\n",
       "       [4.50000000e+01, 9.20000000e+01, 5.24460465e-01, 2.00000000e+00],\n",
       "       [1.30000000e+01, 1.65000000e+02, 5.26233975e-01, 3.00000000e+00],\n",
       "       [1.10000000e+02, 1.78000000e+02, 5.29097437e-01, 3.00000000e+00],\n",
       "       [4.20000000e+01, 2.02000000e+02, 5.33881589e-01, 4.00000000e+00],\n",
       "       [1.53000000e+02, 1.74000000e+02, 5.37558049e-01, 4.00000000e+00],\n",
       "       [4.90000000e+01, 7.50000000e+01, 5.81200479e-01, 2.00000000e+00],\n",
       "       [1.06000000e+02, 1.42000000e+02, 5.90330642e-01, 2.00000000e+00],\n",
       "       [1.16000000e+02, 1.36000000e+02, 5.91505947e-01, 2.00000000e+00],\n",
       "       [1.75000000e+02, 1.96000000e+02, 5.97160620e-01, 4.00000000e+00],\n",
       "       [1.69000000e+02, 1.76000000e+02, 6.29486922e-01, 4.00000000e+00],\n",
       "       [5.60000000e+01, 1.90000000e+02, 6.40141135e-01, 3.00000000e+00],\n",
       "       [1.71000000e+02, 1.98000000e+02, 6.43710753e-01, 4.00000000e+00],\n",
       "       [1.11000000e+02, 1.26000000e+02, 6.59346638e-01, 2.00000000e+00],\n",
       "       [1.59000000e+02, 1.93000000e+02, 6.76649875e-01, 6.00000000e+00],\n",
       "       [1.57000000e+02, 1.88000000e+02, 7.10036934e-01, 4.00000000e+00],\n",
       "       [7.20000000e+01, 9.40000000e+01, 7.29958530e-01, 2.00000000e+00],\n",
       "       [8.10000000e+01, 2.06000000e+02, 7.47996178e-01, 4.00000000e+00],\n",
       "       [1.60000000e+01, 7.70000000e+01, 7.53781676e-01, 2.00000000e+00],\n",
       "       [6.70000000e+01, 1.92000000e+02, 7.72469937e-01, 4.00000000e+00],\n",
       "       [1.12000000e+02, 1.32000000e+02, 7.92726839e-01, 2.00000000e+00],\n",
       "       [1.03000000e+02, 1.22000000e+02, 8.10604930e-01, 2.00000000e+00],\n",
       "       [1.19000000e+02, 1.70000000e+02, 8.17309531e-01, 3.00000000e+00],\n",
       "       [1.86000000e+02, 2.05000000e+02, 8.32843248e-01, 4.00000000e+00],\n",
       "       [1.48000000e+02, 1.99000000e+02, 8.54389694e-01, 3.00000000e+00],\n",
       "       [2.40000000e+01, 1.62000000e+02, 8.65111008e-01, 3.00000000e+00],\n",
       "       [1.35000000e+02, 1.84000000e+02, 8.77319341e-01, 3.00000000e+00],\n",
       "       [2.30000000e+01, 1.79000000e+02, 9.09269952e-01, 3.00000000e+00],\n",
       "       [3.00000000e+01, 2.03000000e+02, 9.11997903e-01, 3.00000000e+00],\n",
       "       [8.70000000e+01, 1.87000000e+02, 9.23061191e-01, 3.00000000e+00],\n",
       "       [1.04000000e+02, 1.91000000e+02, 9.37163564e-01, 3.00000000e+00],\n",
       "       [1.21000000e+02, 1.95000000e+02, 9.73235140e-01, 4.00000000e+00],\n",
       "       [2.00000000e+01, 2.10000000e+02, 1.01208749e+00, 3.00000000e+00],\n",
       "       [3.70000000e+01, 5.70000000e+01, 1.01373896e+00, 2.00000000e+00],\n",
       "       [1.46000000e+02, 2.26000000e+02, 1.03060025e+00, 4.00000000e+00],\n",
       "       [1.72000000e+02, 2.14000000e+02, 1.03456497e+00, 7.00000000e+00],\n",
       "       [4.80000000e+01, 2.09000000e+02, 1.04091563e+00, 5.00000000e+00],\n",
       "       [1.89000000e+02, 2.30000000e+02, 1.05573700e+00, 6.00000000e+00],\n",
       "       [7.00000000e+00, 3.80000000e+01, 1.08173289e+00, 2.00000000e+00],\n",
       "       [1.28000000e+02, 1.66000000e+02, 1.12388675e+00, 3.00000000e+00],\n",
       "       [1.17000000e+02, 2.12000000e+02, 1.15172144e+00, 3.00000000e+00],\n",
       "       [1.83000000e+02, 2.00000000e+02, 1.15312496e+00, 6.00000000e+00],\n",
       "       [2.50000000e+01, 2.23000000e+02, 1.17325324e+00, 5.00000000e+00],\n",
       "       [3.60000000e+01, 1.80000000e+02, 1.18423212e+00, 3.00000000e+00],\n",
       "       [1.85000000e+02, 2.16000000e+02, 1.19546471e+00, 6.00000000e+00],\n",
       "       [2.11000000e+02, 2.24000000e+02, 1.22482123e+00, 4.00000000e+00],\n",
       "       [1.40000000e+02, 2.25000000e+02, 1.32626476e+00, 3.00000000e+00],\n",
       "       [1.38000000e+02, 2.07000000e+02, 1.35045653e+00, 4.00000000e+00],\n",
       "       [1.61000000e+02, 2.22000000e+02, 1.49318151e+00, 4.00000000e+00],\n",
       "       [1.94000000e+02, 1.97000000e+02, 1.49619316e+00, 8.00000000e+00],\n",
       "       [2.20000000e+02, 2.39000000e+02, 1.59175337e+00, 9.00000000e+00],\n",
       "       [2.15000000e+02, 2.31000000e+02, 1.67009794e+00, 6.00000000e+00],\n",
       "       [1.29000000e+02, 1.41000000e+02, 1.67580202e+00, 2.00000000e+00],\n",
       "       [2.01000000e+02, 2.51000000e+02, 1.69900231e+00, 6.00000000e+00],\n",
       "       [2.04000000e+02, 2.40000000e+02, 1.70929232e+00, 9.00000000e+00],\n",
       "       [2.70000000e+01, 6.00000000e+01, 1.75072784e+00, 2.00000000e+00],\n",
       "       [2.13000000e+02, 2.28000000e+02, 1.79407410e+00, 7.00000000e+00],\n",
       "       [2.27000000e+02, 2.33000000e+02, 1.84758143e+00, 7.00000000e+00],\n",
       "       [1.20000000e+02, 2.34000000e+02, 1.88066656e+00, 4.00000000e+00],\n",
       "       [2.08000000e+02, 2.55000000e+02, 1.92114302e+00, 1.00000000e+01],\n",
       "       [2.35000000e+02, 2.49000000e+02, 2.03402759e+00, 8.00000000e+00],\n",
       "       [2.19000000e+02, 2.37000000e+02, 2.15901881e+00, 6.00000000e+00],\n",
       "       [1.25000000e+02, 2.50000000e+02, 2.23527643e+00, 4.00000000e+00],\n",
       "       [2.32000000e+02, 2.46000000e+02, 2.26166269e+00, 8.00000000e+00],\n",
       "       [2.21000000e+02, 2.45000000e+02, 2.42437004e+00, 1.00000000e+01],\n",
       "       [2.41000000e+02, 2.57000000e+02, 2.46289389e+00, 1.20000000e+01],\n",
       "       [2.18000000e+02, 2.53000000e+02, 2.48409413e+00, 1.40000000e+01],\n",
       "       [2.29000000e+02, 2.48000000e+02, 2.61009104e+00, 9.00000000e+00],\n",
       "       [2.17000000e+02, 2.44000000e+02, 2.75677501e+00, 5.00000000e+00],\n",
       "       [1.27000000e+02, 2.62000000e+02, 2.83419027e+00, 5.00000000e+00],\n",
       "       [4.00000000e+00, 2.59000000e+02, 3.10980863e+00, 3.00000000e+00],\n",
       "       [2.42000000e+02, 2.61000000e+02, 3.32706211e+00, 9.00000000e+00],\n",
       "       [2.36000000e+02, 2.71000000e+02, 3.48015779e+00, 1.20000000e+01],\n",
       "       [1.82000000e+02, 2.67000000e+02, 3.72097174e+00, 1.00000000e+01],\n",
       "       [2.47000000e+02, 2.68000000e+02, 3.83145041e+00, 1.30000000e+01],\n",
       "       [2.43000000e+02, 2.60000000e+02, 4.00300409e+00, 1.00000000e+01],\n",
       "       [2.38000000e+02, 2.56000000e+02, 4.03584653e+00, 6.00000000e+00],\n",
       "       [2.64000000e+02, 2.73000000e+02, 4.11676131e+00, 1.30000000e+01],\n",
       "       [2.52000000e+02, 2.65000000e+02, 4.17760882e+00, 1.00000000e+01],\n",
       "       [2.54000000e+02, 2.63000000e+02, 5.05391485e+00, 1.90000000e+01],\n",
       "       [2.58000000e+02, 2.76000000e+02, 5.31022757e+00, 2.10000000e+01],\n",
       "       [2.69000000e+02, 2.72000000e+02, 6.20388183e+00, 1.70000000e+01],\n",
       "       [2.70000000e+02, 2.83000000e+02, 6.44511711e+00, 3.30000000e+01],\n",
       "       [2.79000000e+02, 2.81000000e+02, 6.59359584e+00, 2.30000000e+01],\n",
       "       [2.74000000e+02, 2.75000000e+02, 6.65621609e+00, 1.20000000e+01],\n",
       "       [4.00000000e+01, 2.78000000e+02, 7.11106083e+00, 1.40000000e+01],\n",
       "       [2.77000000e+02, 2.88000000e+02, 7.86878542e+00, 2.20000000e+01],\n",
       "       [2.66000000e+02, 2.80000000e+02, 8.04935282e+00, 1.00000000e+01],\n",
       "       [2.85000000e+02, 2.91000000e+02, 8.74822275e+00, 2.70000000e+01],\n",
       "       [2.82000000e+02, 2.89000000e+02, 9.84427829e+00, 2.40000000e+01],\n",
       "       [2.84000000e+02, 2.86000000e+02, 1.24273466e+01, 5.40000000e+01],\n",
       "       [2.90000000e+02, 2.94000000e+02, 1.51153312e+01, 7.60000000e+01],\n",
       "       [2.87000000e+02, 2.92000000e+02, 1.71152736e+01, 5.00000000e+01],\n",
       "       [2.93000000e+02, 2.95000000e+02, 2.31219894e+01, 1.00000000e+02],\n",
       "       [2.96000000e+02, 2.97000000e+02, 1.80270430e+02, 1.50000000e+02]])"
      ]
     },
     "execution_count": 19,
     "metadata": {},
     "output_type": "execute_result"
    }
   ],
   "source": [
    "Z"
   ]
  },
  {
   "cell_type": "code",
   "execution_count": 20,
   "metadata": {},
   "outputs": [
    {
     "data": {
      "text/plain": [
       "array([33.        , 68.        ,  0.07106779,  2.        ])"
      ]
     },
     "execution_count": 20,
     "metadata": {},
     "output_type": "execute_result"
    }
   ],
   "source": [
    "Z[152-len(X)]"
   ]
  },
  {
   "cell_type": "code",
   "execution_count": 22,
   "metadata": {},
   "outputs": [
    {
     "data": {
      "image/png": "[encoded data removed]",
      "text/plain": [
       "<Figure size 720x576 with 1 Axes>"
      ]
     },
     "metadata": {
      "needs_background": "light"
     },
     "output_type": "display_data"
    }
   ],
   "source": [
    "idx = [33,62,68]\n",
    "plt.figure(figsize=(10,8))\n",
    "plt.scatter(X[:,0],X[:,1])\n",
    "plt.scatter(X[idx,0],X[idx,1],c='r')\n",
    "plt.show()"
   ]
  },
  {
   "cell_type": "markdown",
   "metadata": {},
   "source": [
    "### Dendrograma"
   ]
  },
  {
   "cell_type": "code",
   "execution_count": 26,
   "metadata": {},
   "outputs": [
    {
     "data": {
      "image/png": "[encoded data removed]",
      "text/plain": [
       "<Figure size 2160x720 with 1 Axes>"
      ]
     },
     "metadata": {
      "needs_background": "light"
     },
     "output_type": "display_data"
    }
   ],
   "source": [
    "plt.figure(figsize=(30,10))\n",
    "plt.title(\"Dendrograma del clustering jerarquico\")\n",
    "plt.xlabel(\"indices de la muestra\")\n",
    "plt.ylabel(\"Distancias\")\n",
    "dendrogram(Z,leaf_rotation=90.,leaf_font_size=8.0)\n",
    "plt.show()"
   ]
  },
  {
   "cell_type": "code",
   "execution_count": 27,
   "metadata": {},
   "outputs": [
    {
     "data": {
      "text/plain": [
       "array([[290.        , 294.        ,  15.11533118,  76.        ],\n",
       "       [287.        , 292.        ,  17.11527362,  50.        ],\n",
       "       [293.        , 295.        ,  23.12198936, 100.        ],\n",
       "       [296.        , 297.        , 180.27043021, 150.        ]])"
      ]
     },
     "execution_count": 27,
     "metadata": {},
     "output_type": "execute_result"
    }
   ],
   "source": [
    "Z[-4:,]"
   ]
  },
  {
   "cell_type": "code",
   "execution_count": 30,
   "metadata": {},
   "outputs": [
    {
     "data": {
      "image/png": "[encoded data removed]",
      "text/plain": [
       "<Figure size 2160x720 with 1 Axes>"
      ]
     },
     "metadata": {
      "needs_background": "light"
     },
     "output_type": "display_data"
    }
   ],
   "source": [
    "plt.figure(figsize=(30,10))\n",
    "plt.title(\"Dendrograma del clustering jerarquico truncado\")\n",
    "plt.xlabel(\"indices de la muestra\")\n",
    "plt.ylabel(\"Distancias\")\n",
    "dendrogram(Z,leaf_rotation=90.,leaf_font_size=8.0,truncate_mode='lastp',p=10,show_leaf_counts=False,show_contracted=True)\n",
    "plt.show()"
   ]
  },
  {
   "cell_type": "code",
   "execution_count": 32,
   "metadata": {},
   "outputs": [
    {
     "data": {
      "text/plain": [
       "{'icoord': [[25.0, 25.0, 35.0, 35.0],\n",
       "  [15.0, 15.0, 30.0, 30.0],\n",
       "  [5.0, 5.0, 22.5, 22.5],\n",
       "  [45.0, 45.0, 55.0, 55.0],\n",
       "  [65.0, 65.0, 75.0, 75.0],\n",
       "  [85.0, 85.0, 95.0, 95.0],\n",
       "  [70.0, 70.0, 90.0, 90.0],\n",
       "  [50.0, 50.0, 80.0, 80.0],\n",
       "  [13.75, 13.75, 65.0, 65.0]],\n",
       " 'dcoord': [[0.0, 8.049352823485103, 8.049352823485103, 0.0],\n",
       "  [0.0, 8.748222747739588, 8.748222747739588, 8.049352823485103],\n",
       "  [0.0, 17.11527361712349, 17.11527361712349, 8.748222747739588],\n",
       "  [0.0, 9.844278294486319, 9.844278294486319, 0.0],\n",
       "  [0.0, 7.868785423127422, 7.868785423127422, 0.0],\n",
       "  [0.0, 12.42734657224792, 12.42734657224792, 0.0],\n",
       "  [7.868785423127422,\n",
       "   15.115331182663091,\n",
       "   15.115331182663091,\n",
       "   12.42734657224792],\n",
       "  [9.844278294486319,\n",
       "   23.121989355286757,\n",
       "   23.121989355286757,\n",
       "   15.115331182663091],\n",
       "  [17.11527361712349,\n",
       "   180.27043021047612,\n",
       "   180.27043021047612,\n",
       "   23.121989355286757]],\n",
       " 'ivl': ['', '', '', '', '', '', '', '', '', ''],\n",
       " 'leaves': [287, 285, 266, 280, 282, 289, 277, 288, 284, 286],\n",
       " 'color_list': ['C1', 'C1', 'C1', 'C2', 'C2', 'C2', 'C2', 'C2', 'C0'],\n",
       " 'leaves_color_list': ['C1',\n",
       "  'C1',\n",
       "  'C1',\n",
       "  'C1',\n",
       "  'C2',\n",
       "  'C2',\n",
       "  'C2',\n",
       "  'C2',\n",
       "  'C2',\n",
       "  'C2']}"
      ]
     },
     "execution_count": 32,
     "metadata": {},
     "output_type": "execute_result"
    },
    {
     "data": {
      "image/png": "[encoded data removed]",
      "text/plain": [
       "<Figure size 432x288 with 1 Axes>"
      ]
     },
     "metadata": {
      "needs_background": "light"
     },
     "output_type": "display_data"
    }
   ],
   "source": [
    "dendrogram(Z,leaf_rotation=90.,leaf_font_size=8.0,truncate_mode='lastp',p=10,show_leaf_counts=False,show_contracted=True)\n"
   ]
  },
  {
   "cell_type": "code",
   "execution_count": null,
   "metadata": {},
   "outputs": [],
   "source": [
    "def dendogram_tune(*args,**kwargs):\n",
    "    max_d = kwargs.pop(\"max_distance\",None)\n",
    "    if max_d and \"color_threshold\" not in kwargs:\n",
    "        kwargs[ \"color_threshold\"] = max_d\n",
    "    annotate_above = kwargs.pop(\"annotate_above\",0)\n",
    "    \n",
    "    ddata = dendrogram(*args,**kwargs)\n",
    "\n",
    "    if not kwargs.get(\"no_plot\",False):\n",
    "        plt.title(\"Clustering jerarquico dendrograma truncado\")\n",
    "        plt.xlabel(\"indice del dataset\")\n",
    "        plt.ylabel(\"distancia\")\n",
    "\n",
    "        for i,d,c in zip(ddata[\"icoord\"],ddata[\"dcoord\"],ddata[\"color_list\"]):\n",
    "            x = 0.5*sum(i[1:3])\n",
    "            y = d[1]\n",
    "            if y>annotate_above:\n",
    "                plt.plot(x,y,'o',c=c)\n",
    "                plt\n"
   ]
  }
 ],
 "metadata": {
  "kernelspec": {
   "display_name": "ml_env",
   "language": "python",
   "name": "python3"
  },
  "language_info": {
   "codemirror_mode": {
    "name": "ipython",
    "version": 3
   },
   "file_extension": ".py",
   "mimetype": "text/x-python",
   "name": "python",
   "nbconvert_exporter": "python",
   "pygments_lexer": "ipython3",
   "version": "3.8.8"
  },
  "orig_nbformat": 4
 },
 "nbformat": 4,
 "nbformat_minor": 2
}
