{
 "cells": [
  {
   "cell_type": "markdown",
   "metadata": {},
   "source": [
    "### PCA\n",
    "\n",
    "* Tecnica para reducir las dimensiones de un conjunto de datos\n",
    "* se encarga de combinar los datos y buscar la proyeccion segun la cual los datos queden mejor representados en terminos de minimos cuadraticos. buscando un conjunto de variables sin correlacion lineal, que con un minimo numero de variables explique lo maximo del dataset.\n",
    "* Tecnica utilizada para descubir un conjunto de datos en terminos de nuevas variables, de nuevas componentes que no esten correlacionadas entre si\n",
    "* cuanto mayor sea la variabilidad de los datos o varianza, se considera que hay mayor informacio, esto relacionado al concepto de entropia."
   ]
  },
  {
   "cell_type": "markdown",
   "metadata": {},
   "source": [
    "#### La solucion de Pearson\n",
    "para estudair las relaciones que se presentan entre p variables correlacionadas, se puede transfrmar el conjunto original de variables en otro conjunto de nuevas variables incorreladas entre si (que no tengan redundancia en la informacion), llamado conjunto de componentes principales.\n",
    "\n",
    "* las nuevas variables son combinaciones lineales de las anteriores y se van construyendo segun el orden de importancia en cunato a la variablidad total que recogen de la muestra.\n",
    "\n",
    "* no requiere la condicion de normalidad de las variables ni normalidad multivariante, aunque si esto se cumple se puede dar una interpretacion mas precisa de las componentes."
   ]
  },
  {
   "cell_type": "markdown",
   "metadata": {},
   "source": [
    "nuevas variables:\n",
    "y_{i} = \\sum_{j=1}^{m}a_{ij}x_{j} = a_{i}x"
   ]
  },
  {
   "cell_type": "markdown",
   "metadata": {},
   "source": [
    "* se busca que las nuevas variabales tengan correlacion nula y que las varianzas vayan decreciendo paulatinamente.\n",
    "* se impone una restriccion ya que lo que quiero es maximizar la varianza,y para qvitar que aumentar la varianza se traduzca en aumentar demasiado los ai, es manntener la ortogonalidad de la transformacion imponiendo que le modulo de ai sea 1 (la suma de los cuadrados de cada vector ai)\n",
    "* se resuleve el problema de optimizacion planteado con la tecnica de los multiplicadores de lagrange, para resolver el problema de maximizacion de las varianzas respectivas de cada nueva variable creada.\n",
    "* El método de los multiplicadores de Lagrange o método de Lagrange nos permite encontrar los máximos y mínimos de una función multivariable cuando hay alguna restricción en los valores de entrada que puede usar."
   ]
  }
 ],
 "metadata": {
  "kernelspec": {
   "display_name": "ml_env",
   "language": "python",
   "name": "python3"
  },
  "language_info": {
   "name": "python",
   "version": "3.8.8"
  }
 },
 "nbformat": 4,
 "nbformat_minor": 2
}
