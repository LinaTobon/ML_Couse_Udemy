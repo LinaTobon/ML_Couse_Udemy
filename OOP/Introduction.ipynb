{
 "cells": [
  {
   "cell_type": "markdown",
   "metadata": {},
   "source": [
    "Classes and objetcs: \n",
    "“recipes”\n",
    "\n",
    "- container for data : variables and constants\n",
    "- provide operations on data\n",
    "- we use the classes to create instances of objects that have the data we want to operate on\n",
    "\n",
    "encapsulation: \n",
    "* create classes for all the objects you need in code\n",
    "* create collections of related objects so they can be treated as units\n",
    "\n",
    "inheritance:\n",
    "* allows us to generalize\n",
    "* like a tree wich grows more complex as we keep on extending its branches\n",
    "* we start with some property or behavior that is present in different instances or types of entities\n",
    "* we then create new and more specialized version of the parent by inheriting either data and or behaviour in the children"
   ]
  },
  {
   "cell_type": "code",
   "execution_count": 1,
   "metadata": {},
   "outputs": [],
   "source": [
    "class Greeting:\n",
    "    def __init__(self,name) -> None:\n",
    "        self.name = name\n",
    "    def say_hello(self):\n",
    "        print(f\"Hello my dear {self.name}\")\n"
   ]
  },
  {
   "cell_type": "code",
   "execution_count": 2,
   "metadata": {},
   "outputs": [
    {
     "name": "stdout",
     "output_type": "stream",
     "text": [
      "Hello my dear Lina\n"
     ]
    }
   ],
   "source": [
    "greeting = Greeting(\"Lina\")\n",
    "greeting.say_hello()"
   ]
  },
  {
   "cell_type": "code",
   "execution_count": 24,
   "metadata": {},
   "outputs": [],
   "source": [
    "class Author:\n",
    "    def __init__(self,name,birth_year) -> None:\n",
    "        self.name = name\n",
    "        self.birth_year = birth_year\n",
    "    def get_author_info(self):\n",
    "        return f'{self.name} born {self.birth_year}'\n",
    "    \n",
    "class Book:\n",
    "    def __init__(self,title,pub_year,author:Author) -> None:\n",
    "        self.title = title\n",
    "        self.pub_year = pub_year\n",
    "        self.author = author\n",
    "    def get_book_info(self):\n",
    "        return f\"{self.title} by {self.author.get_author_info()} published in {self.pub_year}\""
   ]
  },
  {
   "cell_type": "code",
   "execution_count": 25,
   "metadata": {},
   "outputs": [
    {
     "data": {
      "text/plain": [
       "'cien años de soledad by Gabriel Garcia born 01-02-1930 published in 01-02-1990'"
      ]
     },
     "execution_count": 25,
     "metadata": {},
     "output_type": "execute_result"
    }
   ],
   "source": [
    "author_obj = Author(\"Gabriel Garcia\",\"01-02-1930\")\n",
    "book_obj = Book(\"cien años de soledad\",\"01-02-1990\",author_obj)\n",
    "book_obj.get_book_info()"
   ]
  },
  {
   "cell_type": "markdown",
   "metadata": {},
   "source": [
    "## Inheritance"
   ]
  },
  {
   "cell_type": "code",
   "execution_count": 13,
   "metadata": {},
   "outputs": [],
   "source": [
    "# base parent class\n",
    "class Animal:\n",
    "    def __init__(self,name):\n",
    "        self.name = name\n",
    "    def speak(self):\n",
    "        print(f\"{self.name} makes a sound\")\n",
    "\n",
    "# derived child class\n",
    "class Dog(Animal):\n",
    "    # name is inherited form Animal class\n",
    "    # change inherited class and make it more speciffic\n",
    "    def speak(self):\n",
    "        print(f\"{self.name} barks\")\n",
    "\n",
    "# derived child class\n",
    "class Cat(Animal):\n",
    "    def speak(self):\n",
    "        print(f\"{self.name} meows\")\n"
   ]
  },
  {
   "cell_type": "code",
   "execution_count": 15,
   "metadata": {},
   "outputs": [
    {
     "name": "stdout",
     "output_type": "stream",
     "text": [
      "Buddy barks\n",
      "Whiskers meows\n"
     ]
    }
   ],
   "source": [
    "# create objetcs of the derived class\n",
    "\n",
    "dog = Dog(\"Buddy\")\n",
    "dog.speak()\n",
    "\n",
    "cat = Cat(\"Whiskers\")\n",
    "cat.speak()"
   ]
  },
  {
   "cell_type": "markdown",
   "metadata": {},
   "source": [
    "### Inheritance :  Interfaces\n",
    "\n",
    "* Contracts: its like a promise that you will provide some specific functionality.\n",
    "* one way to create a contract is through a conceot of interface, we use an abstract class with no implementation\n",
    "\n",
    "* We can use type hinting to enforce contracts"
   ]
  },
  {
   "cell_type": "code",
   "execution_count": 16,
   "metadata": {},
   "outputs": [
    {
     "name": "stdout",
     "output_type": "stream",
     "text": [
      "my method implementation in myClass\n",
      "my method implementation un AnotherClass\n"
     ]
    }
   ],
   "source": [
    "# imports needed for abstract classes\n",
    "\n",
    "from abc import ABC, abstractmethod\n",
    "\n",
    "# interface contract,children will have to implement\n",
    "# all of the abstract methods.\n",
    "# in an interface methods have no implementations\n",
    "# so we use pass\n",
    "\n",
    "class MyInterface(ABC):\n",
    "    @abstractmethod\n",
    "    def my_method(self):\n",
    "        pass\n",
    "\n",
    "class MyClass(MyInterface):\n",
    "    def my_method(self):\n",
    "        print(\"my method implementation in myClass\")\n",
    "\n",
    "class AnotherClass(MyInterface):\n",
    "    def my_method(self):\n",
    "        print(\"my method implementation un AnotherClass\")\n",
    "\n",
    "my_obj = MyClass()\n",
    "my_obj.my_method()\n",
    "\n",
    "another_obj = AnotherClass()\n",
    "another_obj.my_method()"
   ]
  },
  {
   "cell_type": "markdown",
   "metadata": {},
   "source": [
    "with process_my_interface we are guaranteed that any descendant of MyInterface is guaranteed to have an implementation of my_method"
   ]
  },
  {
   "cell_type": "code",
   "execution_count": null,
   "metadata": {},
   "outputs": [],
   "source": [
    "class MyClass(MyInterface):\n",
    "    def my_method(self):\n",
    "        print(\"my method implementation in MyClass\")\n",
    "\n",
    "class NotImplementingInterface:\n",
    "    def some_method(self):\n",
    "        print(\"I am not implementin MyInterface\")\n",
    "\n",
    "# thos method expects to be passed an object taht \n",
    "# implements MyInterface methods\n",
    "\n",
    "def process_my_interface(obj:MyInterface):\n",
    "    obj.my_method()\n",
    "    print(\"Correct implementation of MyInterface\")"
   ]
  },
  {
   "cell_type": "markdown",
   "metadata": {},
   "source": [
    "### Inheritance: Abstract Classes\n",
    "\n",
    "* you can add specific implemented methods\n",
    "* specifc constants or variables that you are going to inherit\n",
    "* abstract classes are in between normal classes and interfaces\n",
    "* abstractclasses can re-implement methods or keep the existing methods\n",
    "* in an interface there is no actual fuctionality, every method is just a signature of what is expected"
   ]
  },
  {
   "cell_type": "markdown",
   "metadata": {},
   "source": [
    "The super() function is a built-in function in Python that provides a convenient way to access and delegate methods and attributes of parent classes. https://blog.hubspot.com/website/python-super"
   ]
  },
  {
   "cell_type": "code",
   "execution_count": 22,
   "metadata": {},
   "outputs": [],
   "source": [
    "from abc import ABC, abstractmethod\n",
    "\n",
    "# abstract class shape\n",
    "\n",
    "class Shape(ABC):\n",
    "    def __init__(self,color):\n",
    "        self.color = color\n",
    "    \n",
    "    @abstractmethod\n",
    "    def area(self):\n",
    "        pass\n",
    "    \n",
    "    @abstractmethod\n",
    "    def perimeter(self):\n",
    "        pass\n",
    "\n",
    "    # this particular method doesnt have to be implemented\n",
    "    def description(self):\n",
    "        print(f\"{self.__class__.__name__} has the color: {self.color}\")\n",
    "\n",
    "\n",
    "# class rectangule that inherits from shape\n",
    "\n",
    "class Rectangle(Shape):\n",
    "    def __init__(self,width,height,color):\n",
    "        super().__init__(color)\n",
    "        self.width = width\n",
    "        self.height = height\n",
    "    def area(self):\n",
    "        return self.width*self.height\n",
    "    def perimeter(self):\n",
    "        return 2*(self.width+self.height)\n"
   ]
  },
  {
   "cell_type": "code",
   "execution_count": 23,
   "metadata": {},
   "outputs": [
    {
     "name": "stdout",
     "output_type": "stream",
     "text": [
      "el area del rectangulo es 10\n",
      "el perimetro del rectangulo es 14\n",
      "el color del rectangulo es rojo\n",
      "Rectangle has the color: rojo\n"
     ]
    }
   ],
   "source": [
    "# create instance of concrece classes\n",
    "\n",
    "rectangle = Rectangle(2,5,\"rojo\")\n",
    "print(f\"el area del rectangulo es {rectangle.area()}\")\n",
    "print(f\"el perimetro del rectangulo es {rectangle.perimeter()}\")\n",
    "print(f\"el color del rectangulo es {rectangle.color}\")\n",
    "rectangle.description()"
   ]
  },
  {
   "cell_type": "code",
   "execution_count": null,
   "metadata": {},
   "outputs": [],
   "source": [
    "import math\n",
    "\n",
    "class Circle:\n",
    "    def __init__(self, radius):\n",
    "        # Initialize the radius property\n",
    "        self.radius = radius\n",
    "\n",
    "    def area(self):\n",
    "        # Calculate and return the area of the circle\n",
    "        return math.pi*(self.radius**2)\n",
    "\n",
    "    def circumference(self):\n",
    "        # Calculate and return the circumference of the circle\n",
    "        return 2*math.pi*self.radius\n",
    "\n",
    "    def diameter(self):\n",
    "        # Calculate and return the diameter of the circle\n",
    "        return 2*self.radius\n",
    "\n",
    "# Test your implementation\n",
    "circle1 = Circle(3)\n",
    "print(circle1.area())  # Should output approximately 28.274333882308138\n",
    "print(circle1.circumference())  # Should output approximately 18.84955592153876\n",
    "print(circle1.diameter())  # Should output 6\n",
    "\n",
    "circle2 = Circle(5)\n",
    "print(circle2.area())  # Should output approximately 78.53981633974483\n",
    "print(circle2.circumference())  # Should output approximately 31.41592653589793\n",
    "print(circle2.diameter())  # Should output 10"
   ]
  },
  {
   "cell_type": "code",
   "execution_count": null,
   "metadata": {},
   "outputs": [],
   "source": [
    "class Player:\n",
    "    def __init__(self, name, position, number):\n",
    "        # Initialize the name, position, and number properties\n",
    "        self.name = name\n",
    "        self.position = position\n",
    "        self.number = number\n",
    "\n",
    "class Team:\n",
    "    def __init__(self, name):\n",
    "        # Initialize the name property and an empty players list\n",
    "        self.name = name\n",
    "        self.players = []\n",
    "\n",
    "    def add_player(self, player:Player):\n",
    "        # Add a Player instance to the team's players list\n",
    "        self.players.append(player)\n",
    "\n",
    "    def get_player_info(self, number):\n",
    "        # Return the player's name, position, and jersey number as a formatted string\n",
    "        # or \"Player not found\" if no player with the given jersey number is found\n",
    "        players_numbers = [player.number for player in  self.players]\n",
    "        \n",
    "        if number in players_numbers:\n",
    "            index = players_numbers.index(number)\n",
    "            choosen_player  = self.players[index]\n",
    "            return f\"{choosen_player.name} ({choosen_player.position}) - {choosen_player.number}\"\n",
    "        else:\n",
    "            return \"Player not found\"\n",
    "        \n",
    "    def get_player_info(self, number):\n",
    "        # Method to get player info by number\n",
    "        for player in self.players:  # Loop through the players list\n",
    "            if player.number == number:  # If the number matches\n",
    "                # Return a formatted string with player information\n",
    "                return f\"{player.name} ({player.position}) - {player.number}\"\n",
    "        # If no player with the specified number is found, return \"Player not found\"\n",
    "        return \"Player not found\""
   ]
  }
 ],
 "metadata": {
  "kernelspec": {
   "display_name": "ml_env",
   "language": "python",
   "name": "python3"
  },
  "language_info": {
   "codemirror_mode": {
    "name": "ipython",
    "version": 3
   },
   "file_extension": ".py",
   "mimetype": "text/x-python",
   "name": "python",
   "nbconvert_exporter": "python",
   "pygments_lexer": "ipython3",
   "version": "3.8.8"
  }
 },
 "nbformat": 4,
 "nbformat_minor": 2
}
