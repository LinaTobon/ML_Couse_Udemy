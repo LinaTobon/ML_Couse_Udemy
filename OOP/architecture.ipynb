{
 "cells": [
  {
   "cell_type": "markdown",
   "metadata": {},
   "source": [
    "### Principles of good architecture"
   ]
  },
  {
   "cell_type": "markdown",
   "metadata": {},
   "source": [
    "1. loose coupling: weak knowledge association between components. changes of one component leas affect another component.\n",
    "2. separation of concerns: breaking architecture into tiers. you structire your architecture around main tiers of functionality. it is achieved using modularization, encapsulation and arrangement in software layers.\n",
    "3. law of demeter: each unit should have only limited knowledge about other units. only \"talk\" to inmediate friends"
   ]
  },
  {
   "cell_type": "markdown",
   "metadata": {},
   "source": [
    "### SOLID principles\n",
    "1. single responsibility principle: each class should have only one central responsibility.\n",
    "2. open-closed principle: entities should be open for extension, but closed for modification\n",
    "3. Liskov substitution principle: functions that use pointers or references to base classes, must be able to use objects of derived classes without knowing it\n",
    "4. Interface segregation principle: clients should not be forced to depend upon interfaces that they do not use.\n",
    "5. Dependecy inversion principle:\n",
    "\n"
   ]
  }
 ],
 "metadata": {
  "kernelspec": {
   "display_name": "ml_env",
   "language": "python",
   "name": "python3"
  },
  "language_info": {
   "name": "python",
   "version": "3.8.8"
  }
 },
 "nbformat": 4,
 "nbformat_minor": 2
}
