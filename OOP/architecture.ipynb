{
 "cells": [
  {
   "cell_type": "markdown",
   "metadata": {},
   "source": [
    "### Principles of good architecture"
   ]
  },
  {
   "cell_type": "markdown",
   "metadata": {},
   "source": [
    "1. loose coupling: weak knowledge association between components. changes of one component leas affect another component.\n",
    "2. separation of concerns: breaking architecture into tiers. you structire your architecture around main tiers of functionality. it is achieved using modularization, encapsulation and arrangement in software layers.\n",
    "3. law of demeter: each unit should have only limited knowledge about other units. only \"talk\" to inmediate friends"
   ]
  },
  {
   "cell_type": "markdown",
   "metadata": {},
   "source": [
    "A static method in Python is a method that belongs to a class, not its instances. It does not require an instance of the class to be called, nor does it have access to an instance.Thus, static methods in Python can be used to perform operations that do not require access to the class instance or its attributes, meaning that they are essentially helper functions. "
   ]
  },
  {
   "cell_type": "markdown",
   "metadata": {},
   "source": [
    "### SOLID principles\n",
    "1. single responsibility principle: each class should have only one central responsibility.ej: persistence,validation, notification, logging, formatting, error handling. not a collection of this things.\n",
    "\n",
    "\n",
    "2. open-closed principle: entities should be open for extension, but closed for modification.\n",
    "\n",
    "3. Liskov substitution principle: functions that use pointers or references to base classes, must be able to use objects of derived classes without knowing it.ej: if class A is a subtype of class B, we should be able to replace B with A without interrupting the behavior of the program.\n",
    "\n",
    "* Objects of a superclass should be able to be replaced with objects of a subclass without affecting the correctness of the program.\n",
    "\n",
    "4. Interface segregation principle: clients should not be forced to depend upon interfaces that they do not use. ej: Declaring methods in an interface that the caller desnt need pollutes the interface and leads to a bulky or fat interface.\n",
    "\n",
    "\n",
    "5. Dependecy inversion principle: depend upon abstractions not concretions. High level modules should not depende on low level modules, both should depende on abstractions\n",
    "\n"
   ]
  },
  {
   "cell_type": "code",
   "execution_count": null,
   "metadata": {},
   "outputs": [],
   "source": [
    "class TaskManager:\n",
    "    # handles the storage and management of tasks\n",
    "    def __init__(self):\n",
    "        self.tasks = []\n",
    "    def add_task(self,task):\n",
    "        self.tasks.append(task)\n",
    "    def delete_task(self,task):\n",
    "        self.tasks.remove(task)\n",
    "\n",
    "class TaskPresenter:\n",
    "    # displays tasks\n",
    "    @staticmethod\n",
    "    def display_tasks(tasks):\n",
    "        for task in tasks:\n",
    "            print(task)\n",
    "\n",
    "class TaskInput:\n",
    "    #handles user input for adding or removing tasks\n",
    "    @staticmethod\n",
    "    def input_task():\n",
    "        return input(\"Enter a task: \")\n",
    "    \n",
    "    @staticmethod\n",
    "    def remove_task():\n",
    "        return input(\"Enter the task to remove: \")"
   ]
  },
  {
   "cell_type": "code",
   "execution_count": null,
   "metadata": {},
   "outputs": [],
   "source": [
    "from abc import ABC, abstractmethod\n",
    "\n",
    "class Shape(ABC):\n",
    "    @abstractmethod\n",
    "    def area(self):\n",
    "        pass\n",
    "class Circle(Shape):\n",
    "    def __init__(self,radius):\n",
    "        self.radius = radius\n",
    "    \n",
    "    def area(self):\n",
    "        return 3.1416 * self.radius**2\n",
    "    \n",
    "class Rectangle(Shape):\n",
    "    def __init__(self,width,height):\n",
    "        self.width = width\n",
    "        self.height = height\n",
    "\n",
    "    def area(self):\n",
    "        return self.width * self.height\n",
    "\n",
    "class AreaCalculator:\n",
    "    def area(self,shape):\n",
    "        return shape.area()\n"
   ]
  },
  {
   "cell_type": "code",
   "execution_count": null,
   "metadata": {},
   "outputs": [],
   "source": [
    "class Bird:\n",
    "    def fly(self):\n",
    "        pass\n",
    "\n",
    "class FlyingBird(Bird):\n",
    "    def fly(self):\n",
    "        print(\"I cant fly\")\n",
    "\n",
    "class NonFlyingBird(Bird):\n",
    "    def fly(self):\n",
    "        print(\"I can't fly\")\n",
    "\n",
    "class Penguin(NonFlyingBird):\n",
    "    pass"
   ]
  },
  {
   "cell_type": "code",
   "execution_count": null,
   "metadata": {},
   "outputs": [],
   "source": [
    "class IPrinter:\n",
    "    def print(self):\n",
    "        pass\n",
    "class IScanner:\n",
    "    def scan(self):\n",
    "        pass\n",
    "\n",
    "class ICopier:\n",
    "    def copy(self):\n",
    "        pass\n",
    "\n",
    "class IFax:\n",
    "    def fax(self):\n",
    "        pass"
   ]
  },
  {
   "cell_type": "code",
   "execution_count": null,
   "metadata": {},
   "outputs": [],
   "source": [
    "class IMessageService(ABC):\n",
    "    @abstractmethod\n",
    "    def send(self,message,receiver):\n",
    "        pass\n",
    "\n",
    "class EmailService(IMessageService):\n",
    "    def send(self,message,receiver):\n",
    "        print(f\"Sending email: {message} to {receiver}\")\n",
    "\n",
    "class SmsService(IMessageService):\n",
    "    def send(self,message,receiver):\n",
    "        print(f\"Sending sms: {message} to {receiver}\")\n",
    "\n",
    "class NotificationService:\n",
    "    def __init__(self,message_service:IMessageService):\n",
    "        self.message_service = message_service\n",
    "\n",
    "    def send_notification(self,message,receiver):\n",
    "        self.message_service.send(message,receiver)"
   ]
  },
  {
   "cell_type": "markdown",
   "metadata": {},
   "source": [
    "### Singleton Pattern\n",
    "\n",
    "Creational design pattern that ensures that a class has only one instance and provides an easy global access to that instance.It controls how it is instanciated and any  critical region must be entered serially.\n",
    "\n",
    "Functionalities:\n",
    "* loggers\n",
    "* caching\n",
    "* database connections\n",
    "* configuration access\n",
    "\n",
    "This pattern is often used with the following GoF patterns:\n",
    "1. Abstract Factory\n",
    "2. Builder\n",
    "3. Prototype\n",
    "4. Facade\n",
    "5. State\n",
    "\n",
    "When to use:\n",
    "1. Control access to a shared resource\n",
    "\n",
    "When not to use:\n",
    "* the main question you should ask is: do you violate SRP principle?"
   ]
  },
  {
   "cell_type": "markdown",
   "metadata": {},
   "source": [
    "Python function overrides:\n",
    "\n",
    "1. __new__: static method that is responsible for creating and returning a new instance of a class\n",
    "\n",
    "2. __init__: instance method responsible for initializing an object's attributes after it has been created by __new__. The __init__ method does not return a value and is called automatically after the object is created.\n",
    "\n",
    "3. __call__: This is an instance method that allows a class's instances to be called as if they were functions."
   ]
  },
  {
   "cell_type": "markdown",
   "metadata": {},
   "source": [
    "Classic GoF Singleton:\n",
    "* most simple and generic version.\n",
    "* control constructor access\n",
    "* instanciation through statict method"
   ]
  },
  {
   "cell_type": "code",
   "execution_count": 1,
   "metadata": {},
   "outputs": [],
   "source": [
    "# lazy instantiation\n",
    "class ClassicSingleton:\n",
    "    # class-level variable to store single class instance\n",
    "    _instance = None\n",
    "\n",
    "    # override the __init__ method to control initialization\n",
    "    def __init__(self):\n",
    "        #raise an error to prevent constructor utilization\n",
    "        raise RuntimeError('Call instance() instead')\n",
    "    \n",
    "    @classmethod\n",
    "    def get_instance(cls):\n",
    "        if not cls._instance: #lazy instantiation\n",
    "            # create new instance of the class\n",
    "            cls._instance = cls.__new__(cls)\n",
    "        # return the single instance, either\n",
    "        # newly created on or existing one\n",
    "        return cls._instance\n",
    "    \n",
    "s1 = ClassicSingleton.get_instance()"
   ]
  },
  {
   "cell_type": "markdown",
   "metadata": {},
   "source": [
    "### Simple or (Naive) python Singleton\n",
    "* No constructor control, so instatiation will be through constructor.\n",
    "* we will use the __new__ method override"
   ]
  },
  {
   "cell_type": "code",
   "execution_count": null,
   "metadata": {},
   "outputs": [],
   "source": [
    "class Singleton:\n",
    "    #class-level variable to store the single\n",
    "    # instance of the class\n",
    "\n",
    "    _instance = None\n",
    "\n",
    "    # override the __new__ method to\n",
    "    # control how new objects are created\n",
    "\n",
    "    def __new__(cls):\n",
    "        #check if instance of the class has\n",
    "        #been created before: lazy instantiation\n",
    "\n",
    "        if not cls._instance:\n",
    "            # create new instance of the class\n",
    "            # and store it in _instance\n",
    "\n",
    "            cls._instance = super().__new__(cls)\n",
    "        return cls._instance\n",
    "    \n",
    "\n",
    "s1 = Singleton()"
   ]
  },
  {
   "cell_type": "markdown",
   "metadata": {},
   "source": [
    "### Best version using metaclass Singleton\n",
    "* override the __call__ method\n",
    "* we could also use the __new__ and __init__ methods\n",
    "\n",
    "metaclass: its a class that defines the behavior and rules for creating other classes.\n",
    "\n",
    "* by default all python classes implicitly inherit form the type built-in-class, which is a metaclass\n",
    "\n",
    "* metaclasses allow us to customize the class creation process and modify class attributes, methods or other properties before tha class is actually created"
   ]
  },
  {
   "cell_type": "code",
   "execution_count": null,
   "metadata": {},
   "outputs": [],
   "source": [
    "class SingletonMeta(type):\n",
    "    # Dictionary stores single instance of the class\n",
    "    # for each subclass of the SingletonMeta metaclass\n",
    "\n",
    "    _instances = {}\n",
    "\n",
    "    def __call__(cls,*args,**kwargs):\n",
    "        # single instance of the class already beean created?\n",
    "        if cls not in cls._instances:\n",
    "            # cretae the instance\n",
    "            instance = super().__call__(*args,**kwargs)\n",
    "            cls._instance[cls] = instance\n",
    "        return cls._instances[cls]\n",
    "    \n",
    "class Singleton(metaclass=SingletonMeta):\n",
    "    def some_business_logic(self):\n",
    "        pass"
   ]
  }
 ],
 "metadata": {
  "kernelspec": {
   "display_name": "ml_env",
   "language": "python",
   "name": "python3"
  },
  "language_info": {
   "codemirror_mode": {
    "name": "ipython",
    "version": 3
   },
   "file_extension": ".py",
   "mimetype": "text/x-python",
   "name": "python",
   "nbconvert_exporter": "python",
   "pygments_lexer": "ipython3",
   "version": "3.8.8"
  }
 },
 "nbformat": 4,
 "nbformat_minor": 2
}
