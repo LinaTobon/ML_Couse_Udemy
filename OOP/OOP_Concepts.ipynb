{
 "cells": [
  {
   "cell_type": "markdown",
   "metadata": {},
   "source": [
    "### what is an object?\n",
    "* container of data (state, attributes)\n",
    "* contains functionality (behavior, methods)\n",
    "\n",
    "A class is like a template used to create objects, classes are themselves objects:\n",
    "* also called a type ej: lists\n",
    "* objects created form that list are called instances\n",
    "* classes have attributes (state): ej class name or type name\n"
   ]
  },
  {
   "cell_type": "code",
   "execution_count": 7,
   "metadata": {},
   "outputs": [
    {
     "data": {
      "text/plain": [
       "type"
      ]
     },
     "execution_count": 7,
     "metadata": {},
     "output_type": "execute_result"
    }
   ],
   "source": [
    "class Person:\n",
    "    pass\n",
    "type(Person)"
   ]
  },
  {
   "cell_type": "code",
   "execution_count": 8,
   "metadata": {},
   "outputs": [
    {
     "data": {
      "text/plain": [
       "'Person'"
      ]
     },
     "execution_count": 8,
     "metadata": {},
     "output_type": "execute_result"
    }
   ],
   "source": [
    "Person.__name__"
   ]
  },
  {
   "cell_type": "code",
   "execution_count": 9,
   "metadata": {},
   "outputs": [
    {
     "name": "stdout",
     "output_type": "stream",
     "text": [
      "<class '__main__.Person'>\n",
      "<class '__main__.Person'>\n",
      "True\n"
     ]
    }
   ],
   "source": [
    "p = Person()\n",
    "print(type(p))\n",
    "print(p.__class__)\n",
    "print(isinstance(p,Person))"
   ]
  },
  {
   "cell_type": "markdown",
   "metadata": {},
   "source": [
    "### Attributes\n",
    "\n",
    "* getattr function to retrieve attributes\n",
    "* setattr function to set attributes\n",
    "* delattr to remove an attribute at runtime ()or del keyword"
   ]
  },
  {
   "cell_type": "markdown",
   "metadata": {},
   "source": [
    "### Setting an attribute value to a callable"
   ]
  },
  {
   "cell_type": "markdown",
   "metadata": {},
   "source": [
    "### Function attributes\n",
    "\n",
    "Method is an actual object type. This objects combine instance and function.\n",
    "\n",
    "* like a function its callable\n",
    "* unlike a function, its bound to some object. and that object is passed to the method as its first parameter. \n",
    "\n",
    "* ej when my_obj.say_hello() the bound object my_obj is injected as the first parameter to method say_hello. one advantaje of this is that say_hello now has a handle to the object's namespace\n",
    "\n",
    "\n",
    "like any object it has attributes:\n",
    "__self__: the instance method is bound to\n",
    "__func__: original function defined in the class\n",
    "\n",
    "calling obj.method(args)-->method.__func__(method.__self__,args)"
   ]
  }
 ],
 "metadata": {
  "kernelspec": {
   "display_name": "ml_env",
   "language": "python",
   "name": "python3"
  },
  "language_info": {
   "codemirror_mode": {
    "name": "ipython",
    "version": 3
   },
   "file_extension": ".py",
   "mimetype": "text/x-python",
   "name": "python",
   "nbconvert_exporter": "python",
   "pygments_lexer": "ipython3",
   "version": "3.8.8"
  }
 },
 "nbformat": 4,
 "nbformat_minor": 2
}
