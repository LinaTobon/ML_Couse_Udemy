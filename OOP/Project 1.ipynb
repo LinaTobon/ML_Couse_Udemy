{
 "cells": [
  {
   "cell_type": "markdown",
   "metadata": {},
   "source": [
    "### Project 1"
   ]
  },
  {
   "cell_type": "markdown",
   "metadata": {},
   "source": [
    "We need to design an dimplement a class that will be used to represent bank accounts.\n",
    "\n",
    "We want the following functionality and characteristics:\n",
    "- accounts are uniquely identified by an **account number** (assume it will just be passed in the initializer)\n",
    "- account holders have a **first** and **last** name\n",
    "- accounts have an associated **preferred time zone offset** (e.g. -7 for MST)\n",
    "- **balances** need to be zero or higher, and should not be directly settable.\n",
    "- but, **deposits** and **withdrawals** can be made (given sufficient funds)\n",
    "    - if a withdrawal is attempted that would result in nagative funds, the transaction should be declined.\n",
    "- a **monthly interest rate** exists and is applicable to all accounts **uniformly**. There should be a method that can be called to calculate the interest on the current balance using the current interest rate, and **add it** to the balance.\n",
    "- each deposit and withdrawal must generate a **confirmation number** composed of:\n",
    "    - the transaction type: `D` for deposit, and `W` for withdrawal, `I` for interest deposit, and `X` for declined (in which case the balance remains unaffected)\n",
    "    - the account number\n",
    "    - the time the transaction was made, using UTC\n",
    "    - an incrementing number (that increments across all accounts and transactions)\n",
    "    - for (extreme!) simplicity assume that the transaction id starts at zero (or whatever number you choose) whenever the program starts\n",
    "    - the confirmation number should be returned from any of the transaction methods (deposit, withdraw, etc)\n",
    "- create a **method** that, given a confirmation number, returns:\n",
    "    - the account number, transaction code (D, W, etc), datetime (UTC format), date time (in whatever timezone is specified in te argument, but more human readable), the transaction ID\n",
    "    - make it so it is a nicely structured object (so can use dotted notation to access these three attributes)\n",
    "    - I purposefully made it so the desired timezone is passed as an argument. Can you figure out why? (hint: does this method require any information from any instance?)"
   ]
  },
  {
   "cell_type": "markdown",
   "metadata": {},
   "source": [
    "For example, we may have an account with:\n",
    "- account number `140568` \n",
    "- preferred time zone offset of -7 (MST) \n",
    "- an existing balance of `100.00`\n",
    "\n",
    "Suppose the last transaction ID in the system was `123`, and a deposit is made for `50.00` on `2019-03-15T14:59:00` (UTC) on that account (or `2019-03-15T07:59:00` in account's preferred time zone offset)\n",
    "\n",
    "The new balance should reflect `150.00` and the confirmation number returned should look something like this:\n",
    "\n",
    "```D-140568-20190315145900-124```\n",
    "\n",
    "We also want a method that given the confirmation number returns an object with attributes:\n",
    "- `result.account_number` --> `140568`\n",
    "- `result.transaction_code` --> `D`\n",
    "- `result.transaction_id` --> `124`\n",
    "- `result.time` --> `2019-03-15 07:59:00 (MST)`\n",
    "- `result.time_utc` --> `2019-03-15T14:59:00`"
   ]
  },
  {
   "cell_type": "markdown",
   "metadata": {},
   "source": [
    "Furthermore, if current interest rate is `0.5%`, and the account's balance is `1000.00`, then the result of calling the `deposit_interest` (or whatever name you choose) method, should result in a new transaction and a new balance of `1050.00`. Calling this method should also return a confirmation number.\n",
    "\n",
    "For simplicty, just use floats, but be aware that for these types of situations you'll probably want to use `Decimal` objects instead of floats."
   ]
  },
  {
   "cell_type": "markdown",
   "metadata": {},
   "source": [
    "There are going to be many ways to design something like this, especially since I have not nailed down all the specific requirements, so you'll have to fill the gaps yourself and decide what other things you may want to implement (like is the account number going to be a mutable property, or \"read-only\" and so on).\n",
    "\n",
    "See how many different ideas you can use from what we covered in the last section. "
   ]
  },
  {
   "cell_type": "markdown",
   "metadata": {},
   "source": [
    "My approach will end up creating two classes: a `TimeZone` class used to store the time zone name and offset definition (in hours and minutes), and a main class called `Account` that will have the following \"public\" interface:\n",
    "- initializer with account number, first name, last name, optional preferred time zone, starting balance (defaults to 0)\n",
    "- a first name property (read/write)\n",
    "- a last name property (read/write)\n",
    "- a full name property (computed, read-only)\n",
    "- a balance property (read-only)\n",
    "- an interest rate property (class level property)\n",
    "- deposit, withdraw, pay_interest methods\n",
    "- parse confirmation code\n",
    "\n",
    "Class will have additional state and methods, but those will be used for implementation."
   ]
  },
  {
   "cell_type": "markdown",
   "metadata": {},
   "source": [
    "You should also remember to test your code! In the solutions I will introduce you to Python's `unittest` package. Even if you skip this project, at least review that video and/or notebook if you are unfamiliar with `unittest`."
   ]
  },
  {
   "cell_type": "code",
   "execution_count": 30,
   "metadata": {},
   "outputs": [],
   "source": [
    "import numbers\n",
    "from datetime import datetime, timezone, timedelta\n",
    "\n",
    "class CustTimeZone:\n",
    "\n",
    "    def __init__(self,name,offset_hours,offset_minutes):\n",
    "        if name is None or len(str(name).strip())==0:\n",
    "            raise ValueError('Timezone name cannot be empty')\n",
    "        \n",
    "        self._name = name.strip()\n",
    "        if not isinstance(offset_hours, numbers.Integral):\n",
    "            raise ValueError('Timezone offset must be an integer')\n",
    "        \n",
    "        if not isinstance(offset_minutes, numbers.Integral):\n",
    "            raise ValueError('Timezone offset must be an integer')\n",
    "        \n",
    "        if offset_minutes>59 or offset_minutes <-59:\n",
    "            raise ValueError('Minutes offset must be between -59 and 59 inclusive')\n",
    "\n",
    "        offset = timedelta(hours=offset_hours, minutes=offset_minutes)\n",
    "        if offset < timedelta(hours=-12, minutes=0) or offset > timedelta(hours=14, minutes=0):\n",
    "            raise ValueError('Offset must be between -12:00 and +14:00')\n",
    "        \n",
    "        self._offset_hours = offset_hours\n",
    "        self.offset_minutes = offset_minutes\n",
    "        self._offset = offset\n",
    "\n",
    "    @property\n",
    "    def offset(self):\n",
    "        return self._offset\n",
    "    \n",
    "    @property\n",
    "    def name(self):\n",
    "        return self._name\n",
    "    \n",
    "    def __eq__(self,other):\n",
    "        return (isinstance(other, CustTimeZone) and \n",
    "        self.name == other.name and \n",
    "        self._offset_hours == other._offset_hours and\n",
    "        self._offset_minutes == other._offset_minutes)\n",
    "    \n",
    "    def __repr__(self):\n",
    "        return (f\"TimeZone(name='{self.name})',\"\n",
    "                f\"offset_hours ={self.offset_hours}',\"\n",
    "                f\"offset_minutes = '{self.offset_minutes}'\")"
   ]
  },
  {
   "cell_type": "code",
   "execution_count": 34,
   "metadata": {},
   "outputs": [
    {
     "name": "stdout",
     "output_type": "stream",
     "text": [
      "2024-07-13 19:52:04.901334\n",
      "2024-07-13 17:37:04.901334\n"
     ]
    }
   ],
   "source": [
    "cust_time_zone = CustTimeZone('ABC',-2,-15)\n",
    "cust_time_zone.name\n",
    "dt = datetime.utcnow()\n",
    "print(dt)\n",
    "\n",
    "print(dt+cust_time_zone.offset)\n",
    "\n"
   ]
  },
  {
   "cell_type": "code",
   "execution_count": 36,
   "metadata": {},
   "outputs": [],
   "source": [
    "class TransactionID:\n",
    "    def __init__(self,start_id):\n",
    "        self._start_id = start_id\n",
    "    def next(self):\n",
    "        self._start_id += 1\n",
    "        return self._start_id"
   ]
  },
  {
   "cell_type": "code",
   "execution_count": 40,
   "metadata": {},
   "outputs": [],
   "source": [
    "def transaction_id(start_id):\n",
    "    start_id+=1\n",
    "    yield start_id"
   ]
  },
  {
   "cell_type": "code",
   "execution_count": 51,
   "metadata": {},
   "outputs": [],
   "source": [
    "from collections import namedtuple\n",
    "\n",
    "Confirmation = namedtuple('Confirmation','account_number transaction_code transaction_id time_utc time')\n",
    "\n",
    "class Account:\n",
    "    _interest_rate = 0.05\n",
    "    transaction_manager = transaction_id(1)\n",
    "\n",
    "    _transaction_codes = {\n",
    "        'deposit':'D',\n",
    "        'withdraw': 'W',\n",
    "        'interest': 'I',\n",
    "        'rejected': 'X'\n",
    "    }\n",
    "\n",
    "    def __init__(self,account_number,first_name,last_name,\n",
    "                 timezone=None,initial_balance=0):\n",
    "        self._account_number = account_number\n",
    "        self.first_name = first_name\n",
    "        self.last_name = last_name\n",
    "        self._balance = float(initial_balance)\n",
    "\n",
    "        if timezone is None:\n",
    "            timezone = CustTimeZone('UTC',0,0)\n",
    "        self.timezone = timezone\n",
    "\n",
    "        if initial_balance<0:\n",
    "            raise ValueError(\"inital balance cant be negative\")\n",
    "\n",
    "\n",
    "    def make_transaction(self):\n",
    "        return Account.transaction_manager.next()\n",
    "    \n",
    "    @staticmethod\n",
    "    def validate_name(value, field_title):\n",
    "        if value is None or len(value.strip())==0:\n",
    "            raise ValueError(f\"{field_title} name cant be empty\")\n",
    "        return str(value).strip()\n",
    "\n",
    "    @property\n",
    "    def first_name(self):\n",
    "        return self._first_name\n",
    "    \n",
    "    @first_name.setter\n",
    "    def first_name(self,value):\n",
    "        self._first_name = Account.validate_name(value,'first_name')\n",
    "    \n",
    "    @property\n",
    "    def last_name(self):\n",
    "        return self._last_name\n",
    "    \n",
    "    @last_name.setter\n",
    "    def last_name(self,value):\n",
    "        self._last_name = Account.validate_name(value,'last_name')\n",
    "    \n",
    "    @property\n",
    "    def full_name(self):\n",
    "        return \" \".join([self._first_name,self._last_name])\n",
    "    \n",
    "    @property\n",
    "    def balance(self):\n",
    "        return self._balance\n",
    "    \n",
    "    @property\n",
    "    def timezone(self):\n",
    "        return self._timezone\n",
    "    \n",
    "    @timezone.setter\n",
    "    def timezone(self,value):\n",
    "        if not isinstance(value,CustTimeZone):\n",
    "            raise ValueError('Time Zone must be a valid TimeZone object')\n",
    "        self._timezone = value\n",
    "\n",
    "    def get_interest_rate(self):\n",
    "        return Account.interest_rate\n",
    "    \n",
    "    def set_interest_rate(self,value):\n",
    "        if not isinstance(value, numbers.Real):\n",
    "            raise ValueError('interest rate must be a real number.')\n",
    "        \n",
    "        if value<0:\n",
    "            raise ValueError('interest rate cant be a negative value.')\n",
    "        \n",
    "        Account._interest_rate = value\n",
    "\n",
    "    def generate_confirmation_code(self,transaction_code):\n",
    "        transaction_dt = datetime.utcnow().strftime('%Y%m%d%H%M%S')\n",
    "        transaction_id = Account.transaction_manager.next()\n",
    "        confirmation_code = \"-\".join([transaction_code,self.account_number,transaction_dt,transaction_id])\n",
    "        return confirmation_code\n",
    "\n",
    "    def deposit(self,deposit_value):\n",
    "        transaction_code= Account._transaction_codes.get('deposit')\n",
    "        if deposit_value <0:\n",
    "            raise ValueError('Deposit value cant be a negative value')\n",
    "        #incremementar balance\n",
    "        self._balance += deposit_value\n",
    "        # confirmation_code\n",
    "        self.generate_confirmation_code(self,transaction_code)\n",
    "  \n",
    "\n",
    "    def withdraw(self,withdraw_value):\n",
    "        transaction_code= Account._transaction_codes.get('withdraw')\n",
    "        \n",
    "        if withdraw_value > self._balance:\n",
    "            raise ValueError('Withraw value cant be a greater than balance')\n",
    "        #incremementar balance\n",
    "        self._balance -= withdraw_value\n",
    "        # confirmation_code\n",
    "        self.generate_confirmation_code(self,transaction_code)\n",
    "\n",
    "    def pay_interest(self):\n",
    "        transaction_code= Account._transaction_codes.get('interest')\n",
    "        #incremementar balance\n",
    "        self._balance += self._balance * Account.INTEREST_RATE\n",
    "        # confirmation_code\n",
    "        self.generate_confirmation_code(self,transaction_code)\n",
    "    \n",
    "    @staticmethod\n",
    "    def get_information(confirmation_code, preferred_time_zone=None):\n",
    "\n",
    "        attributes = list(confirmation_code.split(\"-\"))\n",
    "\n",
    "        if len(attributes)!=4:\n",
    "            raise ValueError('Invalid confirmation code')\n",
    "        \n",
    "        transaction_code, account_number, raw_dt_utc,transaction_id = attributes\n",
    "        \n",
    "        try:\n",
    "            dt_utc = datetime.strptime(raw_dt_utc,'%Y%m%d%H%M%S')\n",
    "        except ValueError as ex:\n",
    "            raise ValueError('Invalid transaction datetime') from ex\n",
    "        \n",
    "        if preferred_time_zone is None:\n",
    "            preferred_time_zone = CustTimeZone('UTC',0,0)\n",
    "        if not isinstance(preferred_time_zone,CustTimeZone):\n",
    "            raise ValueError('Invalid TimeZone specified.')\n",
    "        \n",
    "        dt_preferred_time_zone = dt_utc+ preferred_time_zone.offset\n",
    "        \n",
    "        Confirmation(transaction_code, account_number, raw_dt_utc,transaction_id )"
   ]
  },
  {
   "cell_type": "code",
   "execution_count": 47,
   "metadata": {},
   "outputs": [
    {
     "ename": "ValueError",
     "evalue": "Time Zone must be a valid TimeZone object",
     "output_type": "error",
     "traceback": [
      "\u001b[0;31m---------------------------------------------------------------------------\u001b[0m",
      "\u001b[0;31mValueError\u001b[0m                                Traceback (most recent call last)",
      "\u001b[0;32m<ipython-input-47-558573107464>\u001b[0m in \u001b[0;36m<module>\u001b[0;34m\u001b[0m\n\u001b[0;32m----> 1\u001b[0;31m \u001b[0mcust_account\u001b[0m \u001b[0;34m=\u001b[0m \u001b[0mAccount\u001b[0m\u001b[0;34m(\u001b[0m\u001b[0;34m'1234'\u001b[0m\u001b[0;34m,\u001b[0m\u001b[0;34m'lina'\u001b[0m\u001b[0;34m,\u001b[0m\u001b[0;34m'tobon'\u001b[0m\u001b[0;34m,\u001b[0m\u001b[0;34m'-7:00'\u001b[0m\u001b[0;34m,\u001b[0m\u001b[0mbalance\u001b[0m\u001b[0;34m=\u001b[0m\u001b[0;36m0\u001b[0m\u001b[0;34m)\u001b[0m\u001b[0;34m\u001b[0m\u001b[0;34m\u001b[0m\u001b[0m\n\u001b[0m",
      "\u001b[0;32m<ipython-input-46-2563ce09ecde>\u001b[0m in \u001b[0;36m__init__\u001b[0;34m(self, account_number, first_name, last_name, timezone, balance)\u001b[0m\n\u001b[1;32m     11\u001b[0m         \u001b[0;32mif\u001b[0m \u001b[0mtimezone\u001b[0m \u001b[0;32mis\u001b[0m \u001b[0;32mNone\u001b[0m\u001b[0;34m:\u001b[0m\u001b[0;34m\u001b[0m\u001b[0;34m\u001b[0m\u001b[0m\n\u001b[1;32m     12\u001b[0m             \u001b[0mcust_timezone\u001b[0m \u001b[0;34m=\u001b[0m \u001b[0mCustTimeZone\u001b[0m\u001b[0;34m(\u001b[0m\u001b[0;34m'UTC'\u001b[0m\u001b[0;34m,\u001b[0m\u001b[0;36m0\u001b[0m\u001b[0;34m,\u001b[0m\u001b[0;36m0\u001b[0m\u001b[0;34m)\u001b[0m\u001b[0;34m\u001b[0m\u001b[0;34m\u001b[0m\u001b[0m\n\u001b[0;32m---> 13\u001b[0;31m         \u001b[0mself\u001b[0m\u001b[0;34m.\u001b[0m\u001b[0mtimezone\u001b[0m \u001b[0;34m=\u001b[0m \u001b[0mtimezone\u001b[0m\u001b[0;34m\u001b[0m\u001b[0;34m\u001b[0m\u001b[0m\n\u001b[0m\u001b[1;32m     14\u001b[0m \u001b[0;34m\u001b[0m\u001b[0m\n\u001b[1;32m     15\u001b[0m     \u001b[0;32mdef\u001b[0m \u001b[0mmake_transaction\u001b[0m\u001b[0;34m(\u001b[0m\u001b[0mself\u001b[0m\u001b[0;34m)\u001b[0m\u001b[0;34m:\u001b[0m\u001b[0;34m\u001b[0m\u001b[0;34m\u001b[0m\u001b[0m\n",
      "\u001b[0;32m<ipython-input-46-2563ce09ecde>\u001b[0m in \u001b[0;36mtimezone\u001b[0;34m(self, value)\u001b[0m\n\u001b[1;32m     53\u001b[0m     \u001b[0;32mdef\u001b[0m \u001b[0mtimezone\u001b[0m\u001b[0;34m(\u001b[0m\u001b[0mself\u001b[0m\u001b[0;34m,\u001b[0m\u001b[0mvalue\u001b[0m\u001b[0;34m)\u001b[0m\u001b[0;34m:\u001b[0m\u001b[0;34m\u001b[0m\u001b[0;34m\u001b[0m\u001b[0m\n\u001b[1;32m     54\u001b[0m         \u001b[0;32mif\u001b[0m \u001b[0;32mnot\u001b[0m \u001b[0misinstance\u001b[0m\u001b[0;34m(\u001b[0m\u001b[0mvalue\u001b[0m\u001b[0;34m,\u001b[0m\u001b[0mCustTimeZone\u001b[0m\u001b[0;34m)\u001b[0m\u001b[0;34m:\u001b[0m\u001b[0;34m\u001b[0m\u001b[0;34m\u001b[0m\u001b[0m\n\u001b[0;32m---> 55\u001b[0;31m             \u001b[0;32mraise\u001b[0m \u001b[0mValueError\u001b[0m\u001b[0;34m(\u001b[0m\u001b[0;34m'Time Zone must be a valid TimeZone object'\u001b[0m\u001b[0;34m)\u001b[0m\u001b[0;34m\u001b[0m\u001b[0;34m\u001b[0m\u001b[0m\n\u001b[0m\u001b[1;32m     56\u001b[0m         \u001b[0mself\u001b[0m\u001b[0;34m.\u001b[0m\u001b[0m_timezone\u001b[0m \u001b[0;34m=\u001b[0m \u001b[0mvalue\u001b[0m\u001b[0;34m\u001b[0m\u001b[0;34m\u001b[0m\u001b[0m\n\u001b[1;32m     57\u001b[0m \u001b[0;34m\u001b[0m\u001b[0m\n",
      "\u001b[0;31mValueError\u001b[0m: Time Zone must be a valid TimeZone object"
     ]
    }
   ],
   "source": [
    "cust_account = Account('1234','lina','tobon','-7:00',balance=0)"
   ]
  },
  {
   "cell_type": "code",
   "execution_count": 52,
   "metadata": {},
   "outputs": [],
   "source": [
    "cust_account = Account('1234','lina','tobon',balance=0)"
   ]
  }
 ],
 "metadata": {
  "kernelspec": {
   "display_name": "Python 3",
   "language": "python",
   "name": "python3"
  },
  "language_info": {
   "codemirror_mode": {
    "name": "ipython",
    "version": 3
   },
   "file_extension": ".py",
   "mimetype": "text/x-python",
   "name": "python",
   "nbconvert_exporter": "python",
   "pygments_lexer": "ipython3",
   "version": "3.8.8"
  }
 },
 "nbformat": 4,
 "nbformat_minor": 2
}
