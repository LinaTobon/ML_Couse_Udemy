{
 "cells": [
  {
   "cell_type": "markdown",
   "metadata": {},
   "source": [
    "### Polimorphism\n",
    "The ability to define a generic type of behavoir that will potencially behave differently when applied to different types\n",
    "\n",
    "* __str__ and __repr__ are used to create string representations of an object\n",
    "\n",
    "#### Special methods: Arithmetic operators\n",
    "*  __add__\n",
    "* __sub__\n",
    "* __mul__\n",
    "* __truediv__\n",
    "* __floordiv__ (//)\n",
    "* __mod__ (%)\n",
    "* __pow__ (**)\n",
    "* __matmul__ (@)\n",
    "\n",
    "#### Reflected operators\n",
    "a+b-> a.__add__(b)\n",
    "if the operation returns NotImplemented and operands are not of the same type, python will swap the operands and try this instead b.__radd__(a)\n",
    "\n",
    "#### Special methods: In place operators\n",
    "* __iadd__ (+=)\n",
    "* __isub__ (-=)\n",
    "* __imul__ (*=)\n",
    "* __itruediv__ (/=)\n",
    "\n",
    "#### unary operators\n",
    "* __neg__\n",
    "* __abs__"
   ]
  },
  {
   "cell_type": "code",
   "execution_count": 2,
   "metadata": {},
   "outputs": [],
   "source": [
    "class VectorDimensionMismatch(TypeError):\n",
    "    pass"
   ]
  },
  {
   "cell_type": "code",
   "execution_count": 29,
   "metadata": {},
   "outputs": [],
   "source": [
    "from numbers import Real\n",
    "from math import sqrt\n",
    "\n",
    "class Vector:\n",
    "    def __init__(self,*components):\n",
    "        if len(components)<1:\n",
    "            raise ValueError('Cannot create an empty vector.')\n",
    "        for component in components:\n",
    "            if not isinstance(component,Real):\n",
    "                raise ValueError(f'Vector components must all be real numbers. {component} is not valid.')\n",
    "        self._components = tuple(components)\n",
    "\n",
    "    def __len__(self):\n",
    "        return len(self._components)\n",
    "    \n",
    "    @property\n",
    "    def components(self):\n",
    "        return self._components\n",
    "    \n",
    "    def __repr__(self):\n",
    "        return f'vector {self._components}'\n",
    "    \n",
    "    def validate_type_and_dimension(self,v):\n",
    "        return isinstance(v,Vector) and len(v)==len(self)\n",
    "    \n",
    "    def __add__(self,other):\n",
    "        if not self.validate_type_and_dimension(other):\n",
    "            raise VectorDimensionMismatch('Vectors must be of same dimension')\n",
    "        components = (x+y for x,y in zip(self.components, other.components))\n",
    "        return Vector(*components)\n",
    "    \n",
    "    def __sub__(self,other):\n",
    "        if not self.validate_type_and_dimension(other):\n",
    "            return NotImplemented\n",
    "        components = (x-y for x,y in zip(self._components, other.components))\n",
    "        return Vector(*components)\n",
    "    \n",
    "    def __mul__(self,other):\n",
    "        print('__mull__ called ...')\n",
    "        if not isinstance(other,Real):\n",
    "            return NotImplemented\n",
    "        components = (other * x for x in self.components)\n",
    "        return Vector(*components)\n",
    "    \n",
    "    def __rmul__(self,other):\n",
    "        print('__rmul__ called ...')\n",
    "        return self * other\n",
    "    \n",
    "    def __mul__(self,other):\n",
    "        print('__mull__ called ...')\n",
    "        if isinstance(other,Real):\n",
    "            # scalar product\n",
    "            components = (other * x for x in self.components)\n",
    "            return Vector(*components)\n",
    "        if self.validate_type_and_dimension(other):\n",
    "            # dot product\n",
    "            components = (x*y for x, y in zip(self.components, other.components))\n",
    "            return sum(components)\n",
    "        return NotImplemented\n",
    "    \n",
    "    def __matmul__(self, other):\n",
    "        print('__matmul__ called...')\n",
    "    \n",
    "    def __iaddd__(self,other):\n",
    "        print('__iadd__ called...')\n",
    "        if self.validate_type_and_dimension(other):\n",
    "            self._components = tuple(x + y for x,y in zip(self.components,other.components))\n",
    "            return self\n",
    "        return NotImplemented\n",
    "    def __abs__(self):\n",
    "        return sqrt(sum(x**2 for x in self.components))"
   ]
  },
  {
   "cell_type": "code",
   "execution_count": 27,
   "metadata": {},
   "outputs": [],
   "source": [
    "v1= Vector(1,2)\n",
    "v2 = Vector(10,20,30,40)\n",
    "v3 = Vector(1,2)"
   ]
  },
  {
   "cell_type": "code",
   "execution_count": 5,
   "metadata": {},
   "outputs": [
    {
     "data": {
      "text/plain": [
       "(2, 4)"
      ]
     },
     "execution_count": 5,
     "metadata": {},
     "output_type": "execute_result"
    }
   ],
   "source": [
    "len(v1), len(v2)"
   ]
  },
  {
   "cell_type": "code",
   "execution_count": 23,
   "metadata": {},
   "outputs": [
    {
     "ename": "VectorDimensionMismatch",
     "evalue": "Vectors must be of same dimension",
     "output_type": "error",
     "traceback": [
      "\u001b[0;31m---------------------------------------------------------------------------\u001b[0m",
      "\u001b[0;31mVectorDimensionMismatch\u001b[0m                   Traceback (most recent call last)",
      "\u001b[0;32m<ipython-input-23-d5c43dac28db>\u001b[0m in \u001b[0;36m<module>\u001b[0;34m\u001b[0m\n\u001b[0;32m----> 1\u001b[0;31m \u001b[0mv1\u001b[0m\u001b[0;34m+\u001b[0m\u001b[0mv2\u001b[0m\u001b[0;34m\u001b[0m\u001b[0;34m\u001b[0m\u001b[0m\n\u001b[0m",
      "\u001b[0;32m<ipython-input-18-d6d97a4473b0>\u001b[0m in \u001b[0;36m__add__\u001b[0;34m(self, other)\u001b[0m\n\u001b[1;32m     25\u001b[0m     \u001b[0;32mdef\u001b[0m \u001b[0m__add__\u001b[0m\u001b[0;34m(\u001b[0m\u001b[0mself\u001b[0m\u001b[0;34m,\u001b[0m\u001b[0mother\u001b[0m\u001b[0;34m)\u001b[0m\u001b[0;34m:\u001b[0m\u001b[0;34m\u001b[0m\u001b[0;34m\u001b[0m\u001b[0m\n\u001b[1;32m     26\u001b[0m         \u001b[0;32mif\u001b[0m \u001b[0;32mnot\u001b[0m \u001b[0mself\u001b[0m\u001b[0;34m.\u001b[0m\u001b[0mvalidate_type_and_dimension\u001b[0m\u001b[0;34m(\u001b[0m\u001b[0mother\u001b[0m\u001b[0;34m)\u001b[0m\u001b[0;34m:\u001b[0m\u001b[0;34m\u001b[0m\u001b[0;34m\u001b[0m\u001b[0m\n\u001b[0;32m---> 27\u001b[0;31m             \u001b[0;32mraise\u001b[0m \u001b[0mVectorDimensionMismatch\u001b[0m\u001b[0;34m(\u001b[0m\u001b[0;34m'Vectors must be of same dimension'\u001b[0m\u001b[0;34m)\u001b[0m\u001b[0;34m\u001b[0m\u001b[0;34m\u001b[0m\u001b[0m\n\u001b[0m\u001b[1;32m     28\u001b[0m         \u001b[0mcomponents\u001b[0m \u001b[0;34m=\u001b[0m \u001b[0;34m(\u001b[0m\u001b[0mx\u001b[0m\u001b[0;34m+\u001b[0m\u001b[0my\u001b[0m \u001b[0;32mfor\u001b[0m \u001b[0mx\u001b[0m\u001b[0;34m,\u001b[0m\u001b[0my\u001b[0m \u001b[0;32min\u001b[0m \u001b[0mzip\u001b[0m\u001b[0;34m(\u001b[0m\u001b[0mself\u001b[0m\u001b[0;34m.\u001b[0m\u001b[0mcomponents\u001b[0m\u001b[0;34m,\u001b[0m \u001b[0mother\u001b[0m\u001b[0;34m.\u001b[0m\u001b[0mcomponents\u001b[0m\u001b[0;34m)\u001b[0m\u001b[0;34m)\u001b[0m\u001b[0;34m\u001b[0m\u001b[0;34m\u001b[0m\u001b[0m\n\u001b[1;32m     29\u001b[0m         \u001b[0;32mreturn\u001b[0m \u001b[0mVector\u001b[0m\u001b[0;34m(\u001b[0m\u001b[0;34m*\u001b[0m\u001b[0mcomponents\u001b[0m\u001b[0;34m)\u001b[0m\u001b[0;34m\u001b[0m\u001b[0;34m\u001b[0m\u001b[0m\n",
      "\u001b[0;31mVectorDimensionMismatch\u001b[0m: Vectors must be of same dimension"
     ]
    }
   ],
   "source": [
    "v1+v2"
   ]
  },
  {
   "cell_type": "code",
   "execution_count": 16,
   "metadata": {},
   "outputs": [
    {
     "data": {
      "text/plain": [
       "vector (2, 4)"
      ]
     },
     "execution_count": 16,
     "metadata": {},
     "output_type": "execute_result"
    }
   ],
   "source": [
    "v1+v3"
   ]
  },
  {
   "cell_type": "code",
   "execution_count": 6,
   "metadata": {},
   "outputs": [
    {
     "name": "stdout",
     "output_type": "stream",
     "text": [
      "__mull__ called ...\n"
     ]
    },
    {
     "data": {
      "text/plain": [
       "vector (10, 20)"
      ]
     },
     "execution_count": 6,
     "metadata": {},
     "output_type": "execute_result"
    }
   ],
   "source": [
    "v1*10"
   ]
  },
  {
   "cell_type": "code",
   "execution_count": 12,
   "metadata": {},
   "outputs": [
    {
     "name": "stdout",
     "output_type": "stream",
     "text": [
      "__rmul__ called ...\n",
      "__mull__ called ...\n"
     ]
    },
    {
     "data": {
      "text/plain": [
       "vector (10, 20)"
      ]
     },
     "execution_count": 12,
     "metadata": {},
     "output_type": "execute_result"
    }
   ],
   "source": [
    "10*v1"
   ]
  },
  {
   "cell_type": "code",
   "execution_count": 15,
   "metadata": {},
   "outputs": [
    {
     "name": "stdout",
     "output_type": "stream",
     "text": [
      "__mull__ called ...\n"
     ]
    },
    {
     "data": {
      "text/plain": [
       "5"
      ]
     },
     "execution_count": 15,
     "metadata": {},
     "output_type": "execute_result"
    }
   ],
   "source": [
    "v1*v3"
   ]
  },
  {
   "cell_type": "code",
   "execution_count": 18,
   "metadata": {},
   "outputs": [
    {
     "name": "stdout",
     "output_type": "stream",
     "text": [
      "__matmul__ called...\n"
     ]
    }
   ],
   "source": [
    "v1@v2"
   ]
  },
  {
   "cell_type": "markdown",
   "metadata": {},
   "source": [
    "### In-Place Operators\n",
    "l = [1,2]\n",
    "l += [3,4]\n",
    "\n",
    "* Doesnt guarantee a mutation, wuth inmutable objects like tuples"
   ]
  },
  {
   "cell_type": "code",
   "execution_count": 21,
   "metadata": {},
   "outputs": [],
   "source": [
    "v3 += v1 "
   ]
  },
  {
   "cell_type": "code",
   "execution_count": 30,
   "metadata": {},
   "outputs": [
    {
     "data": {
      "text/plain": [
       "1.4142135623730951"
      ]
     },
     "execution_count": 30,
     "metadata": {},
     "output_type": "execute_result"
    }
   ],
   "source": [
    "v1 = Vector(1,1)\n",
    "abs(v1)"
   ]
  },
  {
   "cell_type": "code",
   "execution_count": 31,
   "metadata": {},
   "outputs": [],
   "source": [
    "class Person:\n",
    "    def __init__(self,name):\n",
    "        self.name = name\n",
    "    def __repr__(self):\n",
    "        return f\"Person('{self.name}')\"\n"
   ]
  },
  {
   "cell_type": "code",
   "execution_count": 32,
   "metadata": {},
   "outputs": [],
   "source": [
    "p1 = Person('John')"
   ]
  },
  {
   "cell_type": "code",
   "execution_count": 33,
   "metadata": {},
   "outputs": [
    {
     "data": {
      "text/plain": [
       "Person('John')"
      ]
     },
     "execution_count": 33,
     "metadata": {},
     "output_type": "execute_result"
    }
   ],
   "source": [
    "p1"
   ]
  },
  {
   "cell_type": "code",
   "execution_count": null,
   "metadata": {},
   "outputs": [],
   "source": [
    "class Family"
   ]
  }
 ],
 "metadata": {
  "kernelspec": {
   "display_name": "ml_env",
   "language": "python",
   "name": "python3"
  },
  "language_info": {
   "codemirror_mode": {
    "name": "ipython",
    "version": 3
   },
   "file_extension": ".py",
   "mimetype": "text/x-python",
   "name": "python",
   "nbconvert_exporter": "python",
   "pygments_lexer": "ipython3",
   "version": "3.8.8"
  }
 },
 "nbformat": 4,
 "nbformat_minor": 2
}
