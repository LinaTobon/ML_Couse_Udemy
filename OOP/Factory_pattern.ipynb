{
 "cells": [
  {
   "cell_type": "markdown",
   "metadata": {},
   "source": [
    "### Factory Pattern"
   ]
  },
  {
   "cell_type": "markdown",
   "metadata": {},
   "source": [
    "creational design pattern that lets us abstract-out the creation logic of specific class instances.\n",
    "\n",
    "* objects are created by calling a factory method instad of calling a constrcutor.\n",
    "* objects are created through an abstraction not a concretion\n",
    "* create objects without exposing the creation logic to the caller, and the caller refers to newly created objects thorugh a common interface\n",
    "* the caller only needs to know how to call the factory and with what initialization data.\n",
    "* one advantage is that we could cache objects for added efficiency\n",
    "\n",
    "\n",
    "when to use:\n",
    "\n",
    "1. when a caller cant anticipate the types of objects it must create\n",
    "2. when you have many objects of a common type(ej: shape with subclasses such as rectangle, circle,triangle etc)\n"
   ]
  }
 ],
 "metadata": {
  "kernelspec": {
   "display_name": "ml_env",
   "language": "python",
   "name": "python3"
  },
  "language_info": {
   "name": "python",
   "version": "3.8.8"
  }
 },
 "nbformat": 4,
 "nbformat_minor": 2
}
